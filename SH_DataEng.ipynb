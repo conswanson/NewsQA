{
 "cells": [
  {
   "cell_type": "code",
   "execution_count": 13,
   "metadata": {
    "ExecuteTime": {
     "end_time": "2019-06-17T07:14:10.936224Z",
     "start_time": "2019-06-17T07:14:07.898223Z"
    }
   },
   "outputs": [],
   "source": [
    "import numpy as np \n",
    "import pandas as pd \n",
    "import os\n",
    "import spacy\n",
    "import string\n",
    "import re\n",
    "import numpy as np\n",
    "from spacy.symbols import ORTH\n",
    "from collections import Counter\n",
    "\n",
    "import torch\n",
    "import torch.nn as nn\n",
    "import torch.nn.functional as F\n",
    "from torch.utils.data import Dataset, DataLoader\n",
    "from torch.nn.utils.rnn import pack_padded_sequence, pad_packed_sequence "
   ]
  },
  {
   "cell_type": "markdown",
   "metadata": {},
   "source": [
    "## Load Data & EDA"
   ]
  },
  {
   "cell_type": "code",
   "execution_count": 2,
   "metadata": {
    "ExecuteTime": {
     "end_time": "2019-06-17T07:00:38.630469Z",
     "start_time": "2019-06-17T07:00:35.972800Z"
    }
   },
   "outputs": [
    {
     "name": "stdout",
     "output_type": "stream",
     "text": [
      "Index(['story_id', 'question', 'answer_char_ranges', 'is_answer_absent',\n",
      "       'is_question_bad', 'validated_answers', 'story_text'],\n",
      "      dtype='object')\n",
      "<class 'str'>\n"
     ]
    },
    {
     "data": {
      "text/html": [
       "<div>\n",
       "<style scoped>\n",
       "    .dataframe tbody tr th:only-of-type {\n",
       "        vertical-align: middle;\n",
       "    }\n",
       "\n",
       "    .dataframe tbody tr th {\n",
       "        vertical-align: top;\n",
       "    }\n",
       "\n",
       "    .dataframe thead th {\n",
       "        text-align: right;\n",
       "    }\n",
       "</style>\n",
       "<table border=\"1\" class=\"dataframe\">\n",
       "  <thead>\n",
       "    <tr style=\"text-align: right;\">\n",
       "      <th></th>\n",
       "      <th>story_id</th>\n",
       "      <th>question</th>\n",
       "      <th>answer_char_ranges</th>\n",
       "      <th>is_answer_absent</th>\n",
       "      <th>is_question_bad</th>\n",
       "      <th>validated_answers</th>\n",
       "      <th>story_text</th>\n",
       "    </tr>\n",
       "  </thead>\n",
       "  <tbody>\n",
       "    <tr>\n",
       "      <th>0</th>\n",
       "      <td>./cnn/stories/42d01e187213e86f5fe617fe32e716ff...</td>\n",
       "      <td>What was the amount of children murdered?</td>\n",
       "      <td>294:297|None|None</td>\n",
       "      <td>0.0</td>\n",
       "      <td>0.0</td>\n",
       "      <td>{\"none\": 1, \"294:297\": 2}</td>\n",
       "      <td>NEW DELHI, India (CNN) -- A high court in nort...</td>\n",
       "    </tr>\n",
       "    <tr>\n",
       "      <th>1</th>\n",
       "      <td>./cnn/stories/c48228a52f26aca65c31fad273e66164...</td>\n",
       "      <td>Where was one employee killed?</td>\n",
       "      <td>34:60|1610:1618|34:60</td>\n",
       "      <td>0.0</td>\n",
       "      <td>0.0</td>\n",
       "      <td>NaN</td>\n",
       "      <td>(CNN) -- Fighting in the volatile Sudanese reg...</td>\n",
       "    </tr>\n",
       "    <tr>\n",
       "      <th>2</th>\n",
       "      <td>./cnn/stories/c65ed85800e4535f4bbbfa2c34d7d963...</td>\n",
       "      <td>who did say South Africa did not issue a visa ...</td>\n",
       "      <td>103:127|114:127|839:853</td>\n",
       "      <td>0.0</td>\n",
       "      <td>0.0</td>\n",
       "      <td>{\"839:853\": 1, \"103:127\": 2}</td>\n",
       "      <td>Johannesburg (CNN) -- Miffed by a visa delay t...</td>\n",
       "    </tr>\n",
       "    <tr>\n",
       "      <th>3</th>\n",
       "      <td>./cnn/stories/0cf66b646e9b32076513c050edf32a79...</td>\n",
       "      <td>How many years old was the businessman?</td>\n",
       "      <td>538:550|538:550</td>\n",
       "      <td>0.0</td>\n",
       "      <td>0.0</td>\n",
       "      <td>NaN</td>\n",
       "      <td>(CNN)  -- England international footballer Ste...</td>\n",
       "    </tr>\n",
       "    <tr>\n",
       "      <th>4</th>\n",
       "      <td>./cnn/stories/13012604e3203c18df09289dfedd14cd...</td>\n",
       "      <td>What frightened the families?</td>\n",
       "      <td>690:742|688:791|630:646</td>\n",
       "      <td>0.0</td>\n",
       "      <td>0.0</td>\n",
       "      <td>{\"688:791\": 2, \"690:742\": 1}</td>\n",
       "      <td>BAGHDAD, Iraq (CNN)  -- At least 6,000 Christi...</td>\n",
       "    </tr>\n",
       "  </tbody>\n",
       "</table>\n",
       "</div>"
      ],
      "text/plain": [
       "                                            story_id  \\\n",
       "0  ./cnn/stories/42d01e187213e86f5fe617fe32e716ff...   \n",
       "1  ./cnn/stories/c48228a52f26aca65c31fad273e66164...   \n",
       "2  ./cnn/stories/c65ed85800e4535f4bbbfa2c34d7d963...   \n",
       "3  ./cnn/stories/0cf66b646e9b32076513c050edf32a79...   \n",
       "4  ./cnn/stories/13012604e3203c18df09289dfedd14cd...   \n",
       "\n",
       "                                            question       answer_char_ranges  \\\n",
       "0          What was the amount of children murdered?        294:297|None|None   \n",
       "1                     Where was one employee killed?    34:60|1610:1618|34:60   \n",
       "2  who did say South Africa did not issue a visa ...  103:127|114:127|839:853   \n",
       "3            How many years old was the businessman?          538:550|538:550   \n",
       "4                      What frightened the families?  690:742|688:791|630:646   \n",
       "\n",
       "   is_answer_absent is_question_bad             validated_answers  \\\n",
       "0               0.0             0.0     {\"none\": 1, \"294:297\": 2}   \n",
       "1               0.0             0.0                           NaN   \n",
       "2               0.0             0.0  {\"839:853\": 1, \"103:127\": 2}   \n",
       "3               0.0             0.0                           NaN   \n",
       "4               0.0             0.0  {\"688:791\": 2, \"690:742\": 1}   \n",
       "\n",
       "                                          story_text  \n",
       "0  NEW DELHI, India (CNN) -- A high court in nort...  \n",
       "1  (CNN) -- Fighting in the volatile Sudanese reg...  \n",
       "2  Johannesburg (CNN) -- Miffed by a visa delay t...  \n",
       "3  (CNN)  -- England international footballer Ste...  \n",
       "4  BAGHDAD, Iraq (CNN)  -- At least 6,000 Christi...  "
      ]
     },
     "execution_count": 2,
     "metadata": {},
     "output_type": "execute_result"
    }
   ],
   "source": [
    "data = pd.read_csv('combined-newsqa-data-v1.csv')\n",
    "print(data.columns)\n",
    "print(type(data['is_question_bad'][0]))\n",
    "\n",
    "# remove Q/A pairs that are invalid or missing\n",
    "#data = data[(data.is_question_bad=='0.0') & (data.is_answer_absent=='0.0')]\n",
    "data.head()"
   ]
  },
  {
   "cell_type": "code",
   "execution_count": 3,
   "metadata": {
    "ExecuteTime": {
     "end_time": "2019-06-17T07:00:38.638130Z",
     "start_time": "2019-06-17T07:00:38.633872Z"
    }
   },
   "outputs": [
    {
     "name": "stdout",
     "output_type": "stream",
     "text": [
      "0.0\n"
     ]
    }
   ],
   "source": [
    "print(data['is_question_bad'][0])"
   ]
  },
  {
   "cell_type": "code",
   "execution_count": 4,
   "metadata": {
    "ExecuteTime": {
     "end_time": "2019-06-17T07:00:39.146423Z",
     "start_time": "2019-06-17T07:00:38.640732Z"
    }
   },
   "outputs": [
    {
     "name": "stdout",
     "output_type": "stream",
     "text": [
      "119633\n",
      "12088\n"
     ]
    }
   ],
   "source": [
    "# 119,633 Q/A's , 12088 articles\n",
    "print(len(data))\n",
    "print(len(data['story_text'].unique()))\n"
   ]
  },
  {
   "cell_type": "code",
   "execution_count": 5,
   "metadata": {
    "ExecuteTime": {
     "end_time": "2019-06-17T07:00:39.153738Z",
     "start_time": "2019-06-17T07:00:39.148505Z"
    }
   },
   "outputs": [
    {
     "data": {
      "text/plain": [
       "'NEW DELHI, India (CNN) -- A high court in northern India on Friday acquitted a wealthy businessman facing the death sentence for the killing of a teen in a case dubbed \"the house of horrors.\"\\n\\n\\n\\nMoninder Singh Pandher was sentenced to death by a lower court in February.\\n\\n\\n\\nThe teen was one of 19 victims -- children and young women -- in one of the most gruesome serial killings in India in recent years.\\n\\n\\n\\nThe Allahabad high court has acquitted Moninder Singh Pandher, his lawyer Sikandar B. Kochar told CNN.\\n\\n\\n\\nPandher and his domestic employee Surinder Koli were sentenced to death in February by a lower court for the rape and murder of the 14-year-old.\\n\\n\\n\\nThe high court upheld Koli\\'s death sentence, Kochar said.\\n\\n\\n\\nThe two were arrested two years ago after body parts packed in plastic bags were found near their home in Noida, a New Delhi suburb. Their home was later dubbed a \"house of horrors\" by the Indian media.\\n\\n\\n\\nPandher was not named a main suspect by investigators initially, but was summoned as co-accused during the trial, Kochar said.\\n\\n\\n\\nKochar said his client was in Australia when the teen was raped and killed.\\n\\n\\n\\nPandher faces trial in the remaining 18 killings and could remain in custody, the attorney said.'"
      ]
     },
     "execution_count": 5,
     "metadata": {},
     "output_type": "execute_result"
    }
   ],
   "source": [
    "first_doc = data['story_text'][0]\n",
    "first_doc"
   ]
  },
  {
   "cell_type": "code",
   "execution_count": 6,
   "metadata": {
    "ExecuteTime": {
     "end_time": "2019-06-17T07:00:39.160540Z",
     "start_time": "2019-06-17T07:00:39.155328Z"
    }
   },
   "outputs": [
    {
     "data": {
      "text/plain": [
       "'19 '"
      ]
     },
     "execution_count": 6,
     "metadata": {},
     "output_type": "execute_result"
    }
   ],
   "source": [
    "first_doc[294:297]"
   ]
  },
  {
   "cell_type": "code",
   "execution_count": 7,
   "metadata": {
    "ExecuteTime": {
     "end_time": "2019-06-17T07:00:39.167148Z",
     "start_time": "2019-06-17T07:00:39.162231Z"
    }
   },
   "outputs": [
    {
     "data": {
      "text/plain": [
       "'Johannesburg (CNN) -- Miffed by a visa delay that led the Dalai Lama to cancel a trip to South Africa, Archbishop Desmond Tutu lashed out at his government Tuesday, saying it had acted worse than apartheid regimes and had forgotten all that the nation stood for.\\n\\n\\n\\n\\n\\n\"When we used to apply for passports under the apartheid government, we never knew until the last moment what their decision was,\" Tutu said at a news conference. \"Our government is worse than the apartheid government because at least you were expecting it from the apartheid government.\\n\\n\\n\\n\\n\\n\"I have to say that I can\\'t believe this. I really can\\'t believe this,\" Tutu said. \"You have to wake me up and tell me this is actually happening here.\"\\n\\n\\n\\n\\n\\nThe Dalai Lama scrapped his planned trip to South Africa this week after the nation failed to issue him a visa in time, his spokesman said.\\n\\n\\n\\n\\n\\nVisa applications for him and his entourage were submitted to the South African High Commission in New Delhi, India, at the end of August, and original passports were submitted on September 20, more than two weeks ago, a statement on his website said.\\n\\n\\n\\n\\n\\nHowever, South Africa\\'s foreign affairs office said it did not refuse a visa.\\n\\n\\n\\n\\n\\n\"South Africa will not comment on the decision, because it is not our decision, it is his decision,\" according to spokesman Clayson Monyela, who said the visa application was still under consideration.\\n\\n\\n\\n\\n\\nThe Dalai Lama had been invited to the country to receive the Mahatma Gandhi International Award for Peace and Reconciliation and to speak at a number of events, including a lecture in honor of Tutu\\'s 80th birthday. Tutu and the Dalai Lama are recipients of the Nobel Peace Prize.\\n\\n\\n\\n\\n\\nTutu said he would pray for the defeat of South Africa\\'s government, led by the African National Congress (ANC), which is rooted in the fight against the system of apartheid, or legal racial separation, that was present in South Africa until 1994.\\n\\n\\n\\n\\n\\n\"You are disgraceful,\" Tutu said about the government. \"You are behaving in a way that is totally at variance with the things for which we stood.\"\\n\\n\\n\\n\\n\\nThe ANC plans to call on government officials to explain to South Africans why the visa process was delayed, spokesman Jackson Mtembu said. He said everyone was in the dark about this matter.\\n\\n\\n\\n\\n\\nBut he also suggested that Tutu calm down. A comparison to apartheid regimes, he said, was unfair.\\n\\n\\n\\n\\n\\nThis is not the first time the Dalai Lama has not been able to visit South Africa. In 2009, South Africa refused the Tibetan spiritual leader a visa to attend an international peace conference, saying it was not in the country\\'s interest for him to attend.\\n\\n\\n\\n\\n\\nIn refusing the 2009 application, South Africa said that if the Dalai Lama attended the conference, the focus would shift away from the 2010 World Cup, the global soccer championship it was hosting.\\n\\n\\n\\n\\n\\n\"We cannot allow focus to shift to China and Tibet,\" presidential spokesman Thabo Masebe said, adding that South Africa had gained much from its trading relationship with China.\\n\\n\\n\\n\\n\\nThe Dalai Lama fled Tibet in 1959 after a failed uprising against Chinese rule, and China pressures governments around the world to deny him any legitimacy.\\n\\n\\n\\n\\n\\nSpeculation surfaced Tuesday that this year\\'s visit was also affected by South Africa\\'s relationship with China.\\n\\n\\n\\n\\n\\nSouth African Vice President Kgalema Motlanthe visited Beijing last week and met with Chinese President Hu Jintao to discuss bolstering bilateral ties.\\n\\n\\n\\n\\n\\nMotlanthe said South Africa was ready to boost the strategic partnership between the two countries to a new stage, according to the official Chinese news agency Xinhua.\\n\\n\\n\\n\\n\\nBut Monyela said the application had nothing to do with China.\\n\\n\\n\\n\\n\\n\"We are a sovereign nation which takes decisions in our domestic interest,\" Monyela said.\\n\\n\\n\\n\\n\\nThe Dalai Lama posted a message on Twitter last week that said: \"Even if the Chinese leave nothing but ashes, Tibet will rise from these ashes as a free country even if it takes a long time to do so.\"\\n\\n\\n\\n\\n\\nKim Norgaard, CNN\\'s Johannesburg bureau chief, contributed to this report.'"
      ]
     },
     "execution_count": 7,
     "metadata": {},
     "output_type": "execute_result"
    }
   ],
   "source": [
    "second_doc = data['story_text'][2]\n",
    "second_doc"
   ]
  },
  {
   "cell_type": "code",
   "execution_count": 8,
   "metadata": {
    "ExecuteTime": {
     "end_time": "2019-06-17T07:00:39.176426Z",
     "start_time": "2019-06-17T07:00:39.168750Z"
    }
   },
   "outputs": [
    {
     "name": "stdout",
     "output_type": "stream",
     "text": [
      "Archbishop Desmond Tutu \n",
      "Desmond Tutu \n",
      "his spokesman \n"
     ]
    }
   ],
   "source": [
    "print(second_doc[103:127])\n",
    "print(second_doc[114:127])\n",
    "print(second_doc[839:853])"
   ]
  },
  {
   "cell_type": "markdown",
   "metadata": {},
   "source": [
    "Answers given by different human reviewers are in the answer_char_ranges column and the validated_answers column. These values are string index ranges within the document that represent the answer. For each row, we need to determine which character range is the best answer to use and extract it. There are a couple ways we could approach this problem, the first is to have a model that takes the question(str), the story(str), spits out an answer(str).\n",
    "\n",
    "or we could have it spit back out the string indexes themselves. "
   ]
  },
  {
   "cell_type": "code",
   "execution_count": 9,
   "metadata": {
    "ExecuteTime": {
     "end_time": "2019-06-17T07:00:39.198097Z",
     "start_time": "2019-06-17T07:00:39.178758Z"
    }
   },
   "outputs": [
    {
     "data": {
      "text/html": [
       "<div>\n",
       "<style scoped>\n",
       "    .dataframe tbody tr th:only-of-type {\n",
       "        vertical-align: middle;\n",
       "    }\n",
       "\n",
       "    .dataframe tbody tr th {\n",
       "        vertical-align: top;\n",
       "    }\n",
       "\n",
       "    .dataframe thead th {\n",
       "        text-align: right;\n",
       "    }\n",
       "</style>\n",
       "<table border=\"1\" class=\"dataframe\">\n",
       "  <thead>\n",
       "    <tr style=\"text-align: right;\">\n",
       "      <th></th>\n",
       "      <th>question</th>\n",
       "      <th>answer_char_ranges</th>\n",
       "      <th>validated_answers</th>\n",
       "      <th>story_text</th>\n",
       "    </tr>\n",
       "  </thead>\n",
       "  <tbody>\n",
       "    <tr>\n",
       "      <th>0</th>\n",
       "      <td>What was the amount of children murdered?</td>\n",
       "      <td>294:297|None|None</td>\n",
       "      <td>{\"none\": 1, \"294:297\": 2}</td>\n",
       "      <td>NEW DELHI, India (CNN) -- A high court in nort...</td>\n",
       "    </tr>\n",
       "    <tr>\n",
       "      <th>1</th>\n",
       "      <td>Where was one employee killed?</td>\n",
       "      <td>34:60|1610:1618|34:60</td>\n",
       "      <td>NaN</td>\n",
       "      <td>(CNN) -- Fighting in the volatile Sudanese reg...</td>\n",
       "    </tr>\n",
       "    <tr>\n",
       "      <th>2</th>\n",
       "      <td>who did say South Africa did not issue a visa ...</td>\n",
       "      <td>103:127|114:127|839:853</td>\n",
       "      <td>{\"839:853\": 1, \"103:127\": 2}</td>\n",
       "      <td>Johannesburg (CNN) -- Miffed by a visa delay t...</td>\n",
       "    </tr>\n",
       "    <tr>\n",
       "      <th>3</th>\n",
       "      <td>How many years old was the businessman?</td>\n",
       "      <td>538:550|538:550</td>\n",
       "      <td>NaN</td>\n",
       "      <td>(CNN)  -- England international footballer Ste...</td>\n",
       "    </tr>\n",
       "    <tr>\n",
       "      <th>4</th>\n",
       "      <td>What frightened the families?</td>\n",
       "      <td>690:742|688:791|630:646</td>\n",
       "      <td>{\"688:791\": 2, \"690:742\": 1}</td>\n",
       "      <td>BAGHDAD, Iraq (CNN)  -- At least 6,000 Christi...</td>\n",
       "    </tr>\n",
       "  </tbody>\n",
       "</table>\n",
       "</div>"
      ],
      "text/plain": [
       "                                            question       answer_char_ranges  \\\n",
       "0          What was the amount of children murdered?        294:297|None|None   \n",
       "1                     Where was one employee killed?    34:60|1610:1618|34:60   \n",
       "2  who did say South Africa did not issue a visa ...  103:127|114:127|839:853   \n",
       "3            How many years old was the businessman?          538:550|538:550   \n",
       "4                      What frightened the families?  690:742|688:791|630:646   \n",
       "\n",
       "              validated_answers  \\\n",
       "0     {\"none\": 1, \"294:297\": 2}   \n",
       "1                           NaN   \n",
       "2  {\"839:853\": 1, \"103:127\": 2}   \n",
       "3                           NaN   \n",
       "4  {\"688:791\": 2, \"690:742\": 1}   \n",
       "\n",
       "                                          story_text  \n",
       "0  NEW DELHI, India (CNN) -- A high court in nort...  \n",
       "1  (CNN) -- Fighting in the volatile Sudanese reg...  \n",
       "2  Johannesburg (CNN) -- Miffed by a visa delay t...  \n",
       "3  (CNN)  -- England international footballer Ste...  \n",
       "4  BAGHDAD, Iraq (CNN)  -- At least 6,000 Christi...  "
      ]
     },
     "execution_count": 9,
     "metadata": {},
     "output_type": "execute_result"
    }
   ],
   "source": [
    "# Remove uneeded columns\n",
    "df = data[['question','answer_char_ranges','validated_answers','story_text']]\n",
    "df = df.iloc[0:100] # reduce size for development purposes\n",
    "df.head()"
   ]
  },
  {
   "cell_type": "code",
   "execution_count": 10,
   "metadata": {
    "ExecuteTime": {
     "end_time": "2019-06-17T07:00:39.211946Z",
     "start_time": "2019-06-17T07:00:39.199947Z"
    }
   },
   "outputs": [
    {
     "name": "stdout",
     "output_type": "stream",
     "text": [
      "['294', '297']\n",
      "What was the amount of children murdered?\n",
      "19 \n"
     ]
    }
   ],
   "source": [
    "# loops through the rows and prints the question along with the first answer given\n",
    "for i, row in df.iterrows():\n",
    "    possible_ranges = row['answer_char_ranges']\n",
    "    possible_ranges_list = possible_ranges.split('|')\n",
    "    range1 = possible_ranges_list[0].split(':')\n",
    "    print(range1)\n",
    "    answer = row['story_text'][int(range1[0]):int(range1[1])]\n",
    "    question = row['question']\n",
    "    print(question)\n",
    "    print(answer)\n",
    "    break"
   ]
  },
  {
   "cell_type": "markdown",
   "metadata": {},
   "source": [
    "Maximum length for story text"
   ]
  },
  {
   "cell_type": "code",
   "execution_count": 11,
   "metadata": {
    "ExecuteTime": {
     "end_time": "2019-06-17T07:02:40.704872Z",
     "start_time": "2019-06-17T07:02:40.687791Z"
    }
   },
   "outputs": [
    {
     "data": {
      "text/plain": [
       "7208"
      ]
     },
     "execution_count": 11,
     "metadata": {},
     "output_type": "execute_result"
    }
   ],
   "source": [
    "max(len(x) for x in df['story_text'])"
   ]
  },
  {
   "cell_type": "code",
   "execution_count": 12,
   "metadata": {
    "ExecuteTime": {
     "end_time": "2019-06-17T07:03:14.652626Z",
     "start_time": "2019-06-17T07:03:14.642809Z"
    }
   },
   "outputs": [
    {
     "data": {
      "text/plain": [
       "331"
      ]
     },
     "execution_count": 12,
     "metadata": {},
     "output_type": "execute_result"
    }
   ],
   "source": [
    "max(len(x) for x in df['question'])"
   ]
  },
  {
   "cell_type": "code",
   "execution_count": 53,
   "metadata": {
    "ExecuteTime": {
     "end_time": "2019-06-17T08:12:23.234085Z",
     "start_time": "2019-06-17T08:12:23.226934Z"
    }
   },
   "outputs": [
    {
     "data": {
      "text/plain": [
       "str"
      ]
     },
     "execution_count": 53,
     "metadata": {},
     "output_type": "execute_result"
    }
   ],
   "source": [
    "type(df['validated_answers'][0])"
   ]
  },
  {
   "cell_type": "markdown",
   "metadata": {},
   "source": [
    "## Pre-trained glove embeddings"
   ]
  },
  {
   "cell_type": "code",
   "execution_count": 15,
   "metadata": {
    "ExecuteTime": {
     "end_time": "2019-06-17T07:15:42.707034Z",
     "start_time": "2019-06-17T07:15:42.699335Z"
    }
   },
   "outputs": [],
   "source": [
    "def loadGloveModel(gloveFile=\"glove.6B.300d.txt\"):\n",
    "    \"\"\" Loads word vectors into a dictionary.\"\"\"\n",
    "    f = open(gloveFile,'r')\n",
    "    word_vecs = {}\n",
    "    for line in f:\n",
    "        splitLine = line.split()\n",
    "        word = splitLine[0]\n",
    "        word_vecs[word] = np.array([float(val) for val in splitLine[1:]])\n",
    "    return word_vecs"
   ]
  },
  {
   "cell_type": "code",
   "execution_count": 16,
   "metadata": {
    "ExecuteTime": {
     "end_time": "2019-06-17T07:16:15.553721Z",
     "start_time": "2019-06-17T07:15:45.282849Z"
    }
   },
   "outputs": [],
   "source": [
    "word_vecs = loadGloveModel()"
   ]
  },
  {
   "cell_type": "markdown",
   "metadata": {},
   "source": [
    "## Create vocabulary"
   ]
  },
  {
   "cell_type": "code",
   "execution_count": 17,
   "metadata": {
    "ExecuteTime": {
     "end_time": "2019-06-17T07:17:53.307185Z",
     "start_time": "2019-06-17T07:17:52.371068Z"
    }
   },
   "outputs": [],
   "source": [
    "re_br = re.compile(r'<\\s*br\\s*/?>', re.IGNORECASE)\n",
    "def sub_br(x): return re_br.sub(\"\\n\", x)\n",
    "\n",
    "my_tok = spacy.load('en')\n",
    "def spacy_tok(x): return [tok.text for tok in my_tok.tokenizer(sub_br(x))]"
   ]
  },
  {
   "cell_type": "code",
   "execution_count": 19,
   "metadata": {
    "ExecuteTime": {
     "end_time": "2019-06-17T07:18:38.825105Z",
     "start_time": "2019-06-17T07:18:38.818920Z"
    }
   },
   "outputs": [
    {
     "data": {
      "text/plain": [
       "['What', 'was', 'the', 'amount', 'of', 'children', 'murdered', '?']"
      ]
     },
     "execution_count": 19,
     "metadata": {},
     "output_type": "execute_result"
    }
   ],
   "source": [
    "spacy_tok(df['question'][0])"
   ]
  },
  {
   "cell_type": "code",
   "execution_count": 23,
   "metadata": {
    "ExecuteTime": {
     "end_time": "2019-06-17T07:21:48.294535Z",
     "start_time": "2019-06-17T07:21:48.283629Z"
    }
   },
   "outputs": [],
   "source": [
    "word_count = Counter()"
   ]
  },
  {
   "cell_type": "code",
   "execution_count": 24,
   "metadata": {
    "ExecuteTime": {
     "end_time": "2019-06-17T07:21:49.824476Z",
     "start_time": "2019-06-17T07:21:48.486700Z"
    }
   },
   "outputs": [],
   "source": [
    "for i, row in df.iterrows():\n",
    "    word_count.update(spacy_tok(row['story_text']))\n",
    "    word_count.update(spacy_tok(row['question']))"
   ]
  },
  {
   "cell_type": "code",
   "execution_count": 25,
   "metadata": {
    "ExecuteTime": {
     "end_time": "2019-06-17T07:21:49.832123Z",
     "start_time": "2019-06-17T07:21:49.826607Z"
    }
   },
   "outputs": [
    {
     "data": {
      "text/plain": [
       "9658"
      ]
     },
     "execution_count": 25,
     "metadata": {},
     "output_type": "execute_result"
    }
   ],
   "source": [
    "len(word_count.keys())"
   ]
  },
  {
   "cell_type": "code",
   "execution_count": 26,
   "metadata": {
    "ExecuteTime": {
     "end_time": "2019-06-17T07:23:02.327011Z",
     "start_time": "2019-06-17T07:23:02.305589Z"
    }
   },
   "outputs": [
    {
     "data": {
      "text/plain": [
       "7066"
      ]
     },
     "execution_count": 26,
     "metadata": {},
     "output_type": "execute_result"
    }
   ],
   "source": [
    "# delete if occurs < 5 times and it is not in our pretrained embeddings\n",
    "for word in list(word_count):\n",
    "    if word_count[word] < 5 and word not in word_vecs:\n",
    "        del word_count[word]\n",
    "len(word_count)"
   ]
  },
  {
   "cell_type": "code",
   "execution_count": 28,
   "metadata": {
    "ExecuteTime": {
     "end_time": "2019-06-17T07:23:16.734581Z",
     "start_time": "2019-06-17T07:23:16.723899Z"
    }
   },
   "outputs": [],
   "source": [
    "vocab2index = {\"\":0, \"UNK\":1}\n",
    "words = [\"\", \"UNK\"]\n",
    "for word in word_count:\n",
    "    vocab2index[word] = len(words)\n",
    "    words.append(word)"
   ]
  },
  {
   "cell_type": "code",
   "execution_count": 29,
   "metadata": {
    "ExecuteTime": {
     "end_time": "2019-06-17T07:23:18.151602Z",
     "start_time": "2019-06-17T07:23:18.145516Z"
    }
   },
   "outputs": [
    {
     "data": {
      "text/plain": [
       "7068"
      ]
     },
     "execution_count": 29,
     "metadata": {},
     "output_type": "execute_result"
    }
   ],
   "source": [
    "len(words)"
   ]
  },
  {
   "cell_type": "markdown",
   "metadata": {},
   "source": [
    "## Create embeddings"
   ]
  },
  {
   "cell_type": "code",
   "execution_count": 31,
   "metadata": {
    "ExecuteTime": {
     "end_time": "2019-06-17T07:23:35.997932Z",
     "start_time": "2019-06-17T07:23:35.994770Z"
    }
   },
   "outputs": [],
   "source": [
    "def random_word_vector(D=300):\n",
    "    \"\"\"Create arandom word vector\n",
    "    \n",
    "    0.25 is chosen so the unknown vectors have (approximately) same variance \n",
    "    as pre-trained ones\n",
    "    \"\"\"\n",
    "    return np.random.uniform(-0.25,0.25,D)"
   ]
  },
  {
   "cell_type": "code",
   "execution_count": 32,
   "metadata": {
    "ExecuteTime": {
     "end_time": "2019-06-17T07:23:37.193387Z",
     "start_time": "2019-06-17T07:23:37.187391Z"
    }
   },
   "outputs": [],
   "source": [
    "def create_embedding_matrix(word_vecs, vocab2index, words, D=300):\n",
    "    \"\"\"Creates embedding matrix from word vectors. \"\"\"\n",
    "    V = len(words)\n",
    "    W = np.zeros((V, D), dtype=\"float32\")\n",
    "    W[0] = np.zeros(D, dtype='float32')\n",
    "    i = 1\n",
    "    for i in range(1, V):\n",
    "        if words[i] in word_vecs:\n",
    "            W[i] = word_vecs[words[i]]\n",
    "        else:\n",
    "            W[i] = random_word_vector()\n",
    "    return W"
   ]
  },
  {
   "cell_type": "code",
   "execution_count": 33,
   "metadata": {
    "ExecuteTime": {
     "end_time": "2019-06-17T07:23:57.880271Z",
     "start_time": "2019-06-17T07:23:57.858427Z"
    }
   },
   "outputs": [
    {
     "data": {
      "text/plain": [
       "(7068, 300)"
      ]
     },
     "execution_count": 33,
     "metadata": {},
     "output_type": "execute_result"
    }
   ],
   "source": [
    "embedding_matrix = create_embedding_matrix(word_vecs, vocab2index, words)\n",
    "embedding_matrix.shape"
   ]
  },
  {
   "cell_type": "code",
   "execution_count": 67,
   "metadata": {
    "ExecuteTime": {
     "end_time": "2019-06-17T08:17:28.426682Z",
     "start_time": "2019-06-17T08:17:28.421010Z"
    }
   },
   "outputs": [],
   "source": [
    "# note that spacy_tok takes a while run it just once\n",
    "def encode_text(text, vocab2index, N=400, padding_start=True):\n",
    "    x = spacy_tok(text)\n",
    "    enc = np.zeros(N, dtype=np.int32)\n",
    "    enc1 = np.array([vocab2index.get(w, vocab2index[\"UNK\"]) for w in x])\n",
    "    l = min(N, len(enc1))\n",
    "    if padding_start:\n",
    "        enc[:l] = enc1[:l]\n",
    "    else:\n",
    "        enc[N-l:] = enc1[:l]\n",
    "    return enc #, l"
   ]
  },
  {
   "cell_type": "code",
   "execution_count": 68,
   "metadata": {
    "ExecuteTime": {
     "end_time": "2019-06-17T08:17:28.863826Z",
     "start_time": "2019-06-17T08:17:28.848988Z"
    }
   },
   "outputs": [
    {
     "data": {
      "text/plain": [
       "array([  1,   1,   2,   3,   4,   5,   6,   7,   8,   9,  10,  11,  12,\n",
       "         3,  13,  14,  15,  16,  17,  18,  19,  20,  21,  22,  23,  20,\n",
       "        24,  25,  16,  26,  11,  16,  27,  28,  29,  20,  30,  25,  31,\n",
       "        32,  29,  33,   1,   1,  34,  35,  36,  37,  21,  38,  16,  39,\n",
       "        10,  11,  40,  32,  33,  41,  26,  35,  42,  25,  43,  44,   7,\n",
       "        45,  46,  47,  48,   7,  11,  42,  25,  20,  49,  50,  51,  52,\n",
       "        11,   3,  11,  53,  54,  32,  33,  41,   1,   9,  10,  55,  15,\n",
       "         1,   1,  34,   2,  56,  57,   1,   1,   1,  58,   5,  32,  33,\n",
       "        34,  46,  56,  59,  60,   1,   1,  61,  36,  37,  21,  11,  40,\n",
       "        38,  16,  39,  10,  23,  20,  62,  46,  63,  25,  20,  64,  65,\n",
       "        66,  32,  33,  41,   9,  10,  67,   1,  68,  21,  22,   2,   1,\n",
       "        69,  32,  33,  41,  70,  61,  71,  70,  54,  72,  73,  74,  75,\n",
       "        76,  11,  77,  78,  61,  79,  80,  81,  82,  11,   1,   2,  16,\n",
       "        83,   1,  84,  32,   1,  82,  35,  85,  28,  16,  29,  30,  25,\n",
       "        31,  29,  38,  20,   1,  86,  32,  33,  34,  35,  87,  88,  16,\n",
       "        89,  90,  38,  91,  92,   2,  93,  35,  94,  95,  96,  65,  97,\n",
       "        98,  20,  99,   2,   1,  69,  32,  33,   1,  69,  56, 100,  35,\n",
       "        11,   1, 101,  20,  26,  35, 102,  46, 103,  32,  33,  34, 104,\n",
       "        99,  11,  20, 105, 106,  52,  46, 107, 108,  11, 109,   2,  20,\n",
       "       110,  69,  32,   0,   0,   0,   0,   0,   0,   0,   0,   0,   0,\n",
       "         0,   0,   0,   0,   0,   0,   0,   0,   0,   0,   0,   0,   0,\n",
       "         0,   0,   0,   0,   0,   0,   0,   0,   0,   0,   0,   0,   0,\n",
       "         0,   0,   0,   0,   0,   0,   0,   0,   0,   0,   0,   0,   0,\n",
       "         0,   0,   0,   0,   0,   0,   0,   0,   0,   0,   0,   0,   0,\n",
       "         0,   0,   0,   0,   0,   0,   0,   0,   0,   0,   0,   0,   0,\n",
       "         0,   0,   0,   0,   0,   0,   0,   0,   0,   0,   0,   0,   0,\n",
       "         0,   0,   0,   0,   0,   0,   0,   0,   0,   0,   0,   0,   0,\n",
       "         0,   0,   0,   0,   0,   0,   0,   0,   0,   0,   0,   0,   0,\n",
       "         0,   0,   0,   0,   0,   0,   0,   0,   0,   0,   0,   0,   0,\n",
       "         0,   0,   0,   0,   0,   0,   0,   0,   0,   0,   0,   0,   0,\n",
       "         0,   0,   0,   0,   0,   0,   0,   0,   0,   0], dtype=int32)"
      ]
     },
     "execution_count": 68,
     "metadata": {},
     "output_type": "execute_result"
    }
   ],
   "source": [
    "text = df['story_text'][0]\n",
    "encode_text(text, vocab2index, N=400)"
   ]
  },
  {
   "cell_type": "markdown",
   "metadata": {},
   "source": [
    "## Train/val/test split"
   ]
  },
  {
   "cell_type": "code",
   "execution_count": 42,
   "metadata": {
    "ExecuteTime": {
     "end_time": "2019-06-17T07:42:06.827427Z",
     "start_time": "2019-06-17T07:42:05.785765Z"
    }
   },
   "outputs": [],
   "source": [
    "from sklearn.model_selection import train_test_split"
   ]
  },
  {
   "cell_type": "code",
   "execution_count": 54,
   "metadata": {
    "ExecuteTime": {
     "end_time": "2019-06-17T08:14:01.854533Z",
     "start_time": "2019-06-17T08:14:01.848951Z"
    }
   },
   "outputs": [],
   "source": [
    "X_train, X_test, y_train, y_test = train_test_split(df[['question', 'story_text']], \n",
    "                                                    df['answer_char_ranges'], \n",
    "                                                    test_size=0.1, \n",
    "                                                    random_state=42)"
   ]
  },
  {
   "cell_type": "code",
   "execution_count": 55,
   "metadata": {
    "ExecuteTime": {
     "end_time": "2019-06-17T08:14:02.155775Z",
     "start_time": "2019-06-17T08:14:02.147908Z"
    }
   },
   "outputs": [],
   "source": [
    "X_train, X_valid, y_train, y_valid = train_test_split(X_train, y_train, test_size=0.2, random_state=42)"
   ]
  },
  {
   "cell_type": "markdown",
   "metadata": {},
   "source": [
    "## Dataset"
   ]
  },
  {
   "cell_type": "markdown",
   "metadata": {},
   "source": [
    "Notes:\n",
    "\n",
    "- I have only included the `answer_char_ranges` column as the y variable. We can change it if needed!\n",
    "- I am returning the encoded question, story, and y variable separately, but we can put the question and story text together if needed depending on our model architecture."
   ]
  },
  {
   "cell_type": "code",
   "execution_count": 69,
   "metadata": {
    "ExecuteTime": {
     "end_time": "2019-06-17T08:17:36.318634Z",
     "start_time": "2019-06-17T08:17:36.308252Z"
    }
   },
   "outputs": [],
   "source": [
    "class NewsQADataset(Dataset):\n",
    "    def __init__(self, X, y, N=400, padding_start=False):\n",
    "        self.y = [k.split('|') for k in y]\n",
    "        self.X = [[encode_text(x['question'], vocab2index, N, padding_start),\n",
    "                   encode_text(x['story_text'], vocab2index, N, padding_start)] for i, x in X.iterrows()]\n",
    "        \n",
    "    def __len__(self):\n",
    "        return len(self.y)\n",
    "    \n",
    "    def __getitem__(self, idx):\n",
    "        x = self.X[idx]\n",
    "        return x[0], x[1], self.y[idx]"
   ]
  },
  {
   "cell_type": "code",
   "execution_count": 70,
   "metadata": {
    "ExecuteTime": {
     "end_time": "2019-06-17T08:17:37.775272Z",
     "start_time": "2019-06-17T08:17:36.534942Z"
    }
   },
   "outputs": [],
   "source": [
    "train_ds = NewsQADataset(X_train, y_train)\n",
    "valid_ds = NewsQADataset(X_valid, y_valid)"
   ]
  },
  {
   "cell_type": "code",
   "execution_count": 71,
   "metadata": {
    "ExecuteTime": {
     "end_time": "2019-06-17T08:17:37.782809Z",
     "start_time": "2019-06-17T08:17:37.777564Z"
    }
   },
   "outputs": [],
   "source": [
    "batch_size = 1000\n",
    "train_dl = DataLoader(train_ds, batch_size=batch_size, shuffle=True)\n",
    "valid_dl = DataLoader(valid_ds, batch_size=batch_size)"
   ]
  },
  {
   "cell_type": "code",
   "execution_count": 72,
   "metadata": {
    "ExecuteTime": {
     "end_time": "2019-06-17T08:17:37.791247Z",
     "start_time": "2019-06-17T08:17:37.785215Z"
    }
   },
   "outputs": [
    {
     "data": {
      "text/plain": [
       "(array([  0,   0,   0,   0,   0,   0,   0,   0,   0,   0,   0,   0,   0,\n",
       "          0,   0,   0,   0,   0,   0,   0,   0,   0,   0,   0,   0,   0,\n",
       "          0,   0,   0,   0,   0,   0,   0,   0,   0,   0,   0,   0,   0,\n",
       "          0,   0,   0,   0,   0,   0,   0,   0,   0,   0,   0,   0,   0,\n",
       "          0,   0,   0,   0,   0,   0,   0,   0,   0,   0,   0,   0,   0,\n",
       "          0,   0,   0,   0,   0,   0,   0,   0,   0,   0,   0,   0,   0,\n",
       "          0,   0,   0,   0,   0,   0,   0,   0,   0,   0,   0,   0,   0,\n",
       "          0,   0,   0,   0,   0,   0,   0,   0,   0,   0,   0,   0,   0,\n",
       "          0,   0,   0,   0,   0,   0,   0,   0,   0,   0,   0,   0,   0,\n",
       "          0,   0,   0,   0,   0,   0,   0,   0,   0,   0,   0,   0,   0,\n",
       "          0,   0,   0,   0,   0,   0,   0,   0,   0,   0,   0,   0,   0,\n",
       "          0,   0,   0,   0,   0,   0,   0,   0,   0,   0,   0,   0,   0,\n",
       "          0,   0,   0,   0,   0,   0,   0,   0,   0,   0,   0,   0,   0,\n",
       "          0,   0,   0,   0,   0,   0,   0,   0,   0,   0,   0,   0,   0,\n",
       "          0,   0,   0,   0,   0,   0,   0,   0,   0,   0,   0,   0,   0,\n",
       "          0,   0,   0,   0,   0,   0,   0,   0,   0,   0,   0,   0,   0,\n",
       "          0,   0,   0,   0,   0,   0,   0,   0,   0,   0,   0,   0,   0,\n",
       "          0,   0,   0,   0,   0,   0,   0,   0,   0,   0,   0,   0,   0,\n",
       "          0,   0,   0,   0,   0,   0,   0,   0,   0,   0,   0,   0,   0,\n",
       "          0,   0,   0,   0,   0,   0,   0,   0,   0,   0,   0,   0,   0,\n",
       "          0,   0,   0,   0,   0,   0,   0,   0,   0,   0,   0,   0,   0,\n",
       "          0,   0,   0,   0,   0,   0,   0,   0,   0,   0,   0,   0,   0,\n",
       "          0,   0,   0,   0,   0,   0,   0,   0,   0,   0,   0,   0,   0,\n",
       "          0,   0,   0,   0,   0,   0,   0,   0,   0,   0,   0,   0,   0,\n",
       "          0,   0,   0,   0,   0,   0,   0,   0,   0,   0,   0,   0,   0,\n",
       "          0,   0,   0,   0,   0,   0,   0,   0,   0,   0,   0,   0,   0,\n",
       "          0,   0,   0,   0,   0,   0,   0,   0,   0,   0,   0,   0,   0,\n",
       "          0,   0,   0,   0,   0,   0,   0,   0,   0,   0,   0,   0,   0,\n",
       "          0,   0,   0,   0,   0,   0,   0,   0,   0,   0,   0,   0,   0,\n",
       "          0,   0,   0,   0,   0,   0,   0,   0,   0,   0,   0,   0,   0,\n",
       "          0,   0,   0,   0, 111, 217, 228,   1,  11, 114], dtype=int32),\n",
       " array([   4,    5,    6,    7, 2134,  470,    1, 5139,   69,  383,  162,\n",
       "         194, 5140, 1475, 4142,  402, 2239, 2135, 2136,    1,    1, 2240,\n",
       "           2,   16,  863,   73, 2240, 5141, 5142,   98,  194, 3745, 5143,\n",
       "         402, 5139,  182,   20,  440,    1,    1,   11,    1,    2,    1,\n",
       "          32, 1203, 2239,    1,    1,    1, 2240, 2212,   20,  482,  654,\n",
       "           2,   95, 2134,  470,    1, 5139, 4606,    2,  124,   32, 1203,\n",
       "        5139,   69,  383,   46, 2240,  178,   87,  887,   20, 5144, 1185,\n",
       "          32, 1203,   29,  330,  675,  347,  338,   46,   69,    2, 2175,\n",
       "           2,  303,   68,  485,  259,  328,    2,  485,  259,    1,   32,\n",
       "         446, 2480,  328,   95,   16,  289,    2,   29, 5139,   69,   32,\n",
       "         233,   69, 2240, 5145,   32, 1203,    1,  157,   35,  815, 5146,\n",
       "          25,  194, 5147,    2, 5139,   69,  157,   35,   16, 5148, 5143,\n",
       "         279,   20,   70, 2191,   32, 1203,   29,  330,  178,  333,  887,\n",
       "         303, 1185,   32,  330,  178,  333,  180,   23,   16,  910,  278,\n",
       "          32,  330, 5149, 5150, 3035,   32, 1174,   35,  564, 2696,   32,\n",
       "        1030,  177,  178,  333,  601,  564, 1296,    2,   29,  383,   69,\n",
       "          32,  507, 1111,    1, 5139,   13,   20, 2185, 4138, 2857, 1702,\n",
       "        1203,    1,    2,   16, 5151,    1,  309,    2,   55,  501,  164,\n",
       "          20,    1,  993,   68, 3865,  258,   46, 2257,  205,   11,   20,\n",
       "         116,    2,   46,    1, 1215, 5152, 5153,  431, 1270,  279, 2189,\n",
       "          46,    1,   32, 1203,  415,  644,    1,  144,  164, 5154,  402,\n",
       "        2189,  147,  204,  235,   65,  226,  258,  668,  140, 1237,  157,\n",
       "         698,  183,  699,   32, 1203, 1030,   11,    1,    2, 2240,   35,\n",
       "        5155,   73, 5139,   69,  140, 2189,  228, 1173,   37,  431,   46,\n",
       "        2596,    1,   23,   20,  221,   11, 2185,    2,  237, 2189, 4944,\n",
       "          16,  235,   65,  226,  258,  668,  140, 1237,  698,  183,  699,\n",
       "          32, 1203,  312, 2240,  272, 3250,    2,   16, 5156, 1055,  347,\n",
       "        1004,    2,  302,   20, 1500,  162, 1334,  147,  204, 5157,  348,\n",
       "          32, 2240, 5158,   20, 5156,   13,   20, 2426,  319,  383,   35,\n",
       "        2698,   42,  141, 2528,   37, 1437,   32,  507, 1111, 3263,   13,\n",
       "        2240,   68, 3745, 5143, 2857, 1702, 1203,   29,  330, 1064,   20,\n",
       "        2725,  558, 1197,  623, 1515,  228,  326,   25,   20,  512, 4698,\n",
       "           2,   29,  383,   69,   37, 5139,   32,   29, 1596, 1515,  366,\n",
       "          87,  186,  140, 5159,   32,  335,  252, 1064,  140,   32,  312,\n",
       "         303, 4956,   37,   24,    7,  328, 1064,   24,  881, 1153,   32,\n",
       "         330, 1064,  550,  328, 1689,    2, 2922,   45,   13,   20, 4687,\n",
       "          32,   29, 1203,  233], dtype=int32),\n",
       " ['891:899', '499:507', '499:507'])"
      ]
     },
     "execution_count": 72,
     "metadata": {},
     "output_type": "execute_result"
    }
   ],
   "source": [
    "train_ds[1]"
   ]
  },
  {
   "cell_type": "code",
   "execution_count": null,
   "metadata": {},
   "outputs": [],
   "source": []
  }
 ],
 "metadata": {
  "kernelspec": {
   "display_name": "Python 3",
   "language": "python",
   "name": "python3"
  },
  "language_info": {
   "codemirror_mode": {
    "name": "ipython",
    "version": 3
   },
   "file_extension": ".py",
   "mimetype": "text/x-python",
   "name": "python",
   "nbconvert_exporter": "python",
   "pygments_lexer": "ipython3",
   "version": "3.6.7"
  }
 },
 "nbformat": 4,
 "nbformat_minor": 2
}
