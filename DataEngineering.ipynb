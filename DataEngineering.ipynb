{
 "cells": [
  {
   "cell_type": "code",
   "execution_count": 240,
   "metadata": {
    "ExecuteTime": {
     "end_time": "2019-06-17T06:02:04.011242Z",
     "start_time": "2019-06-17T06:02:03.037009Z"
    }
   },
   "outputs": [],
   "source": [
    "import pandas as pd\n",
    "import numpy as np\n",
    "import operator\n",
    "import ast\n",
    "from torch.autograd import Variable\n",
    "from torch.nn.utils.rnn import pack_padded_sequence, pad_packed_sequence\n",
    "import torch\n",
    "import torch.nn as nn\n",
    "import string\n",
    "import torch.nn.functional as F\n",
    "from torch.utils.data import Dataset, DataLoader\n",
    "from torch.nn.utils.rnn import pack_padded_sequence, pad_packed_sequence \n",
    "import spacy\n",
    "import re"
   ]
  },
  {
   "cell_type": "code",
   "execution_count": 241,
   "metadata": {
    "ExecuteTime": {
     "end_time": "2019-06-17T06:02:46.623373Z",
     "start_time": "2019-06-17T06:02:43.696845Z"
    }
   },
   "outputs": [
    {
     "name": "stdout",
     "output_type": "stream",
     "text": [
      "Index(['story_id', 'question', 'answer_char_ranges', 'is_answer_absent',\n",
      "       'is_question_bad', 'validated_answers', 'story_text'],\n",
      "      dtype='object')\n",
      "<class 'str'>\n"
     ]
    },
    {
     "data": {
      "text/html": [
       "<div>\n",
       "<style scoped>\n",
       "    .dataframe tbody tr th:only-of-type {\n",
       "        vertical-align: middle;\n",
       "    }\n",
       "\n",
       "    .dataframe tbody tr th {\n",
       "        vertical-align: top;\n",
       "    }\n",
       "\n",
       "    .dataframe thead th {\n",
       "        text-align: right;\n",
       "    }\n",
       "</style>\n",
       "<table border=\"1\" class=\"dataframe\">\n",
       "  <thead>\n",
       "    <tr style=\"text-align: right;\">\n",
       "      <th></th>\n",
       "      <th>story_id</th>\n",
       "      <th>question</th>\n",
       "      <th>answer_char_ranges</th>\n",
       "      <th>is_answer_absent</th>\n",
       "      <th>is_question_bad</th>\n",
       "      <th>validated_answers</th>\n",
       "      <th>story_text</th>\n",
       "    </tr>\n",
       "  </thead>\n",
       "  <tbody>\n",
       "    <tr>\n",
       "      <th>0</th>\n",
       "      <td>./cnn/stories/42d01e187213e86f5fe617fe32e716ff...</td>\n",
       "      <td>What was the amount of children murdered?</td>\n",
       "      <td>294:297|None|None</td>\n",
       "      <td>0.0</td>\n",
       "      <td>0.0</td>\n",
       "      <td>{\"none\": 1, \"294:297\": 2}</td>\n",
       "      <td>NEW DELHI, India (CNN) -- A high court in nort...</td>\n",
       "    </tr>\n",
       "    <tr>\n",
       "      <th>1</th>\n",
       "      <td>./cnn/stories/c48228a52f26aca65c31fad273e66164...</td>\n",
       "      <td>Where was one employee killed?</td>\n",
       "      <td>34:60|1610:1618|34:60</td>\n",
       "      <td>0.0</td>\n",
       "      <td>0.0</td>\n",
       "      <td>NaN</td>\n",
       "      <td>(CNN) -- Fighting in the volatile Sudanese reg...</td>\n",
       "    </tr>\n",
       "    <tr>\n",
       "      <th>2</th>\n",
       "      <td>./cnn/stories/c65ed85800e4535f4bbbfa2c34d7d963...</td>\n",
       "      <td>who did say South Africa did not issue a visa ...</td>\n",
       "      <td>103:127|114:127|839:853</td>\n",
       "      <td>0.0</td>\n",
       "      <td>0.0</td>\n",
       "      <td>{\"839:853\": 1, \"103:127\": 2}</td>\n",
       "      <td>Johannesburg (CNN) -- Miffed by a visa delay t...</td>\n",
       "    </tr>\n",
       "    <tr>\n",
       "      <th>3</th>\n",
       "      <td>./cnn/stories/0cf66b646e9b32076513c050edf32a79...</td>\n",
       "      <td>How many years old was the businessman?</td>\n",
       "      <td>538:550|538:550</td>\n",
       "      <td>0.0</td>\n",
       "      <td>0.0</td>\n",
       "      <td>NaN</td>\n",
       "      <td>(CNN)  -- England international footballer Ste...</td>\n",
       "    </tr>\n",
       "    <tr>\n",
       "      <th>4</th>\n",
       "      <td>./cnn/stories/13012604e3203c18df09289dfedd14cd...</td>\n",
       "      <td>What frightened the families?</td>\n",
       "      <td>690:742|688:791|630:646</td>\n",
       "      <td>0.0</td>\n",
       "      <td>0.0</td>\n",
       "      <td>{\"688:791\": 2, \"690:742\": 1}</td>\n",
       "      <td>BAGHDAD, Iraq (CNN)  -- At least 6,000 Christi...</td>\n",
       "    </tr>\n",
       "  </tbody>\n",
       "</table>\n",
       "</div>"
      ],
      "text/plain": [
       "                                            story_id  \\\n",
       "0  ./cnn/stories/42d01e187213e86f5fe617fe32e716ff...   \n",
       "1  ./cnn/stories/c48228a52f26aca65c31fad273e66164...   \n",
       "2  ./cnn/stories/c65ed85800e4535f4bbbfa2c34d7d963...   \n",
       "3  ./cnn/stories/0cf66b646e9b32076513c050edf32a79...   \n",
       "4  ./cnn/stories/13012604e3203c18df09289dfedd14cd...   \n",
       "\n",
       "                                            question       answer_char_ranges  \\\n",
       "0          What was the amount of children murdered?        294:297|None|None   \n",
       "1                     Where was one employee killed?    34:60|1610:1618|34:60   \n",
       "2  who did say South Africa did not issue a visa ...  103:127|114:127|839:853   \n",
       "3            How many years old was the businessman?          538:550|538:550   \n",
       "4                      What frightened the families?  690:742|688:791|630:646   \n",
       "\n",
       "   is_answer_absent is_question_bad             validated_answers  \\\n",
       "0               0.0             0.0     {\"none\": 1, \"294:297\": 2}   \n",
       "1               0.0             0.0                           NaN   \n",
       "2               0.0             0.0  {\"839:853\": 1, \"103:127\": 2}   \n",
       "3               0.0             0.0                           NaN   \n",
       "4               0.0             0.0  {\"688:791\": 2, \"690:742\": 1}   \n",
       "\n",
       "                                          story_text  \n",
       "0  NEW DELHI, India (CNN) -- A high court in nort...  \n",
       "1  (CNN) -- Fighting in the volatile Sudanese reg...  \n",
       "2  Johannesburg (CNN) -- Miffed by a visa delay t...  \n",
       "3  (CNN)  -- England international footballer Ste...  \n",
       "4  BAGHDAD, Iraq (CNN)  -- At least 6,000 Christi...  "
      ]
     },
     "execution_count": 241,
     "metadata": {},
     "output_type": "execute_result"
    }
   ],
   "source": [
    "data = pd.read_csv('combined-newsqa-data-v1.csv')\n",
    "print(data.columns)\n",
    "print(type(data['is_question_bad'][0]))\n",
    "\n",
    "# remove Q/A pairs that are invalid or missing\n",
    "#data = data[(data.is_question_bad=='0.0') & (data.is_answer_absent=='0.0')]\n",
    "data.head()"
   ]
  },
  {
   "cell_type": "code",
   "execution_count": 242,
   "metadata": {
    "ExecuteTime": {
     "end_time": "2019-06-17T06:02:49.040788Z",
     "start_time": "2019-06-17T06:02:49.033284Z"
    }
   },
   "outputs": [
    {
     "name": "stdout",
     "output_type": "stream",
     "text": [
      "0.0\n"
     ]
    }
   ],
   "source": [
    "print(data['is_question_bad'][0])"
   ]
  },
  {
   "cell_type": "code",
   "execution_count": 243,
   "metadata": {
    "ExecuteTime": {
     "end_time": "2019-06-17T06:02:50.283808Z",
     "start_time": "2019-06-17T06:02:49.804811Z"
    }
   },
   "outputs": [
    {
     "name": "stdout",
     "output_type": "stream",
     "text": [
      "119633\n",
      "12088\n"
     ]
    }
   ],
   "source": [
    "# 119,633 Q/A's , 12088 articles\n",
    "print(len(data))\n",
    "print(len(data['story_text'].unique()))\n"
   ]
  },
  {
   "cell_type": "code",
   "execution_count": 244,
   "metadata": {
    "ExecuteTime": {
     "end_time": "2019-06-17T06:02:50.711182Z",
     "start_time": "2019-06-17T06:02:50.702625Z"
    }
   },
   "outputs": [
    {
     "data": {
      "text/plain": [
       "'NEW DELHI, India (CNN) -- A high court in northern India on Friday acquitted a wealthy businessman facing the death sentence for the killing of a teen in a case dubbed \"the house of horrors.\"\\n\\n\\n\\nMoninder Singh Pandher was sentenced to death by a lower court in February.\\n\\n\\n\\nThe teen was one of 19 victims -- children and young women -- in one of the most gruesome serial killings in India in recent years.\\n\\n\\n\\nThe Allahabad high court has acquitted Moninder Singh Pandher, his lawyer Sikandar B. Kochar told CNN.\\n\\n\\n\\nPandher and his domestic employee Surinder Koli were sentenced to death in February by a lower court for the rape and murder of the 14-year-old.\\n\\n\\n\\nThe high court upheld Koli\\'s death sentence, Kochar said.\\n\\n\\n\\nThe two were arrested two years ago after body parts packed in plastic bags were found near their home in Noida, a New Delhi suburb. Their home was later dubbed a \"house of horrors\" by the Indian media.\\n\\n\\n\\nPandher was not named a main suspect by investigators initially, but was summoned as co-accused during the trial, Kochar said.\\n\\n\\n\\nKochar said his client was in Australia when the teen was raped and killed.\\n\\n\\n\\nPandher faces trial in the remaining 18 killings and could remain in custody, the attorney said.'"
      ]
     },
     "execution_count": 244,
     "metadata": {},
     "output_type": "execute_result"
    }
   ],
   "source": [
    "first_doc = data['story_text'][0]\n",
    "first_doc"
   ]
  },
  {
   "cell_type": "code",
   "execution_count": 245,
   "metadata": {
    "ExecuteTime": {
     "end_time": "2019-06-17T06:02:52.916660Z",
     "start_time": "2019-06-17T06:02:52.908513Z"
    }
   },
   "outputs": [
    {
     "data": {
      "text/plain": [
       "'19 '"
      ]
     },
     "execution_count": 245,
     "metadata": {},
     "output_type": "execute_result"
    }
   ],
   "source": [
    "first_doc[294:297]"
   ]
  },
  {
   "cell_type": "code",
   "execution_count": 246,
   "metadata": {
    "ExecuteTime": {
     "end_time": "2019-06-17T06:02:53.482038Z",
     "start_time": "2019-06-17T06:02:53.473105Z"
    }
   },
   "outputs": [
    {
     "data": {
      "text/plain": [
       "'Johannesburg (CNN) -- Miffed by a visa delay that led the Dalai Lama to cancel a trip to South Africa, Archbishop Desmond Tutu lashed out at his government Tuesday, saying it had acted worse than apartheid regimes and had forgotten all that the nation stood for.\\n\\n\\n\\n\\n\\n\"When we used to apply for passports under the apartheid government, we never knew until the last moment what their decision was,\" Tutu said at a news conference. \"Our government is worse than the apartheid government because at least you were expecting it from the apartheid government.\\n\\n\\n\\n\\n\\n\"I have to say that I can\\'t believe this. I really can\\'t believe this,\" Tutu said. \"You have to wake me up and tell me this is actually happening here.\"\\n\\n\\n\\n\\n\\nThe Dalai Lama scrapped his planned trip to South Africa this week after the nation failed to issue him a visa in time, his spokesman said.\\n\\n\\n\\n\\n\\nVisa applications for him and his entourage were submitted to the South African High Commission in New Delhi, India, at the end of August, and original passports were submitted on September 20, more than two weeks ago, a statement on his website said.\\n\\n\\n\\n\\n\\nHowever, South Africa\\'s foreign affairs office said it did not refuse a visa.\\n\\n\\n\\n\\n\\n\"South Africa will not comment on the decision, because it is not our decision, it is his decision,\" according to spokesman Clayson Monyela, who said the visa application was still under consideration.\\n\\n\\n\\n\\n\\nThe Dalai Lama had been invited to the country to receive the Mahatma Gandhi International Award for Peace and Reconciliation and to speak at a number of events, including a lecture in honor of Tutu\\'s 80th birthday. Tutu and the Dalai Lama are recipients of the Nobel Peace Prize.\\n\\n\\n\\n\\n\\nTutu said he would pray for the defeat of South Africa\\'s government, led by the African National Congress (ANC), which is rooted in the fight against the system of apartheid, or legal racial separation, that was present in South Africa until 1994.\\n\\n\\n\\n\\n\\n\"You are disgraceful,\" Tutu said about the government. \"You are behaving in a way that is totally at variance with the things for which we stood.\"\\n\\n\\n\\n\\n\\nThe ANC plans to call on government officials to explain to South Africans why the visa process was delayed, spokesman Jackson Mtembu said. He said everyone was in the dark about this matter.\\n\\n\\n\\n\\n\\nBut he also suggested that Tutu calm down. A comparison to apartheid regimes, he said, was unfair.\\n\\n\\n\\n\\n\\nThis is not the first time the Dalai Lama has not been able to visit South Africa. In 2009, South Africa refused the Tibetan spiritual leader a visa to attend an international peace conference, saying it was not in the country\\'s interest for him to attend.\\n\\n\\n\\n\\n\\nIn refusing the 2009 application, South Africa said that if the Dalai Lama attended the conference, the focus would shift away from the 2010 World Cup, the global soccer championship it was hosting.\\n\\n\\n\\n\\n\\n\"We cannot allow focus to shift to China and Tibet,\" presidential spokesman Thabo Masebe said, adding that South Africa had gained much from its trading relationship with China.\\n\\n\\n\\n\\n\\nThe Dalai Lama fled Tibet in 1959 after a failed uprising against Chinese rule, and China pressures governments around the world to deny him any legitimacy.\\n\\n\\n\\n\\n\\nSpeculation surfaced Tuesday that this year\\'s visit was also affected by South Africa\\'s relationship with China.\\n\\n\\n\\n\\n\\nSouth African Vice President Kgalema Motlanthe visited Beijing last week and met with Chinese President Hu Jintao to discuss bolstering bilateral ties.\\n\\n\\n\\n\\n\\nMotlanthe said South Africa was ready to boost the strategic partnership between the two countries to a new stage, according to the official Chinese news agency Xinhua.\\n\\n\\n\\n\\n\\nBut Monyela said the application had nothing to do with China.\\n\\n\\n\\n\\n\\n\"We are a sovereign nation which takes decisions in our domestic interest,\" Monyela said.\\n\\n\\n\\n\\n\\nThe Dalai Lama posted a message on Twitter last week that said: \"Even if the Chinese leave nothing but ashes, Tibet will rise from these ashes as a free country even if it takes a long time to do so.\"\\n\\n\\n\\n\\n\\nKim Norgaard, CNN\\'s Johannesburg bureau chief, contributed to this report.'"
      ]
     },
     "execution_count": 246,
     "metadata": {},
     "output_type": "execute_result"
    }
   ],
   "source": [
    "second_doc = data['story_text'][2]\n",
    "second_doc"
   ]
  },
  {
   "cell_type": "code",
   "execution_count": 247,
   "metadata": {
    "ExecuteTime": {
     "end_time": "2019-06-17T06:02:55.298362Z",
     "start_time": "2019-06-17T06:02:55.292857Z"
    }
   },
   "outputs": [
    {
     "name": "stdout",
     "output_type": "stream",
     "text": [
      "Archbishop Desmond Tutu \n",
      "Desmond Tutu \n",
      "his spokesman \n"
     ]
    }
   ],
   "source": [
    "print(second_doc[103:127])\n",
    "print(second_doc[114:127])\n",
    "print(second_doc[839:853])"
   ]
  },
  {
   "cell_type": "markdown",
   "metadata": {},
   "source": [
    "Answers given by different human reviewers are in the answer_char_ranges column and the validated_answers column. These values are string index ranges within the document that represent the answer. For each row, we need to determine which character range is the best answer to use and extract it. There are a couple ways we could approach this problem, the first is to have a model that takes the question(str), the story(str), spits out an answer(str).\n",
    "\n",
    "or we could have it spit back out the string indexes themselves. "
   ]
  },
  {
   "cell_type": "code",
   "execution_count": 248,
   "metadata": {
    "ExecuteTime": {
     "end_time": "2019-06-17T06:02:57.405886Z",
     "start_time": "2019-06-17T06:02:57.370169Z"
    }
   },
   "outputs": [
    {
     "data": {
      "text/html": [
       "<div>\n",
       "<style scoped>\n",
       "    .dataframe tbody tr th:only-of-type {\n",
       "        vertical-align: middle;\n",
       "    }\n",
       "\n",
       "    .dataframe tbody tr th {\n",
       "        vertical-align: top;\n",
       "    }\n",
       "\n",
       "    .dataframe thead th {\n",
       "        text-align: right;\n",
       "    }\n",
       "</style>\n",
       "<table border=\"1\" class=\"dataframe\">\n",
       "  <thead>\n",
       "    <tr style=\"text-align: right;\">\n",
       "      <th></th>\n",
       "      <th>question</th>\n",
       "      <th>validated_answers</th>\n",
       "      <th>story_text</th>\n",
       "    </tr>\n",
       "  </thead>\n",
       "  <tbody>\n",
       "    <tr>\n",
       "      <th>0</th>\n",
       "      <td>What was the amount of children murdered?</td>\n",
       "      <td>{\"none\": 1, \"294:297\": 2}</td>\n",
       "      <td>NEW DELHI, India (CNN) -- A high court in nort...</td>\n",
       "    </tr>\n",
       "    <tr>\n",
       "      <th>2</th>\n",
       "      <td>who did say South Africa did not issue a visa ...</td>\n",
       "      <td>{\"839:853\": 1, \"103:127\": 2}</td>\n",
       "      <td>Johannesburg (CNN) -- Miffed by a visa delay t...</td>\n",
       "    </tr>\n",
       "    <tr>\n",
       "      <th>4</th>\n",
       "      <td>What frightened the families?</td>\n",
       "      <td>{\"688:791\": 2, \"690:742\": 1}</td>\n",
       "      <td>BAGHDAD, Iraq (CNN)  -- At least 6,000 Christi...</td>\n",
       "    </tr>\n",
       "    <tr>\n",
       "      <th>6</th>\n",
       "      <td>Who is hiring?</td>\n",
       "      <td>{\"301:324\": 2}</td>\n",
       "      <td>CNN affiliates report on where job seekers are...</td>\n",
       "    </tr>\n",
       "    <tr>\n",
       "      <th>8</th>\n",
       "      <td>Iran criticizes who?</td>\n",
       "      <td>{\"63:97\": 2}</td>\n",
       "      <td>TEHRAN, Iran (CNN) -- Iran's parliament speake...</td>\n",
       "    </tr>\n",
       "  </tbody>\n",
       "</table>\n",
       "</div>"
      ],
      "text/plain": [
       "                                            question  \\\n",
       "0          What was the amount of children murdered?   \n",
       "2  who did say South Africa did not issue a visa ...   \n",
       "4                      What frightened the families?   \n",
       "6                                     Who is hiring?   \n",
       "8                               Iran criticizes who?   \n",
       "\n",
       "              validated_answers  \\\n",
       "0     {\"none\": 1, \"294:297\": 2}   \n",
       "2  {\"839:853\": 1, \"103:127\": 2}   \n",
       "4  {\"688:791\": 2, \"690:742\": 1}   \n",
       "6                {\"301:324\": 2}   \n",
       "8                  {\"63:97\": 2}   \n",
       "\n",
       "                                          story_text  \n",
       "0  NEW DELHI, India (CNN) -- A high court in nort...  \n",
       "2  Johannesburg (CNN) -- Miffed by a visa delay t...  \n",
       "4  BAGHDAD, Iraq (CNN)  -- At least 6,000 Christi...  \n",
       "6  CNN affiliates report on where job seekers are...  \n",
       "8  TEHRAN, Iran (CNN) -- Iran's parliament speake...  "
      ]
     },
     "execution_count": 248,
     "metadata": {},
     "output_type": "execute_result"
    }
   ],
   "source": [
    "# Remove uneeded columns\n",
    "df = data[['question','validated_answers','story_text']]\n",
    "df = df.dropna()\n",
    "df = df.iloc[0:100] # reduce size for development purposes\n",
    "\n",
    "df.head()"
   ]
  },
  {
   "cell_type": "code",
   "execution_count": 249,
   "metadata": {
    "ExecuteTime": {
     "end_time": "2019-06-17T06:02:59.537193Z",
     "start_time": "2019-06-17T06:02:59.527978Z"
    }
   },
   "outputs": [
    {
     "name": "stdout",
     "output_type": "stream",
     "text": [
      "80\n"
     ]
    },
    {
     "data": {
      "text/html": [
       "<div>\n",
       "<style scoped>\n",
       "    .dataframe tbody tr th:only-of-type {\n",
       "        vertical-align: middle;\n",
       "    }\n",
       "\n",
       "    .dataframe tbody tr th {\n",
       "        vertical-align: top;\n",
       "    }\n",
       "\n",
       "    .dataframe thead th {\n",
       "        text-align: right;\n",
       "    }\n",
       "</style>\n",
       "<table border=\"1\" class=\"dataframe\">\n",
       "  <thead>\n",
       "    <tr style=\"text-align: right;\">\n",
       "      <th></th>\n",
       "      <th>question</th>\n",
       "      <th>validated_answers</th>\n",
       "      <th>story_text</th>\n",
       "      <th>start_truth</th>\n",
       "      <th>end_truth</th>\n",
       "    </tr>\n",
       "  </thead>\n",
       "  <tbody>\n",
       "    <tr>\n",
       "      <th>0</th>\n",
       "      <td>What was the amount of children murdered?</td>\n",
       "      <td>{\"none\": 1, \"294:297\": 2}</td>\n",
       "      <td>NEW DELHI, India (CNN) -- A high court in nort...</td>\n",
       "      <td>294.0</td>\n",
       "      <td>297.0</td>\n",
       "    </tr>\n",
       "    <tr>\n",
       "      <th>2</th>\n",
       "      <td>who did say South Africa did not issue a visa ...</td>\n",
       "      <td>{\"839:853\": 1, \"103:127\": 2}</td>\n",
       "      <td>Johannesburg (CNN) -- Miffed by a visa delay t...</td>\n",
       "      <td>103.0</td>\n",
       "      <td>127.0</td>\n",
       "    </tr>\n",
       "    <tr>\n",
       "      <th>4</th>\n",
       "      <td>What frightened the families?</td>\n",
       "      <td>{\"688:791\": 2, \"690:742\": 1}</td>\n",
       "      <td>BAGHDAD, Iraq (CNN)  -- At least 6,000 Christi...</td>\n",
       "      <td>688.0</td>\n",
       "      <td>791.0</td>\n",
       "    </tr>\n",
       "    <tr>\n",
       "      <th>6</th>\n",
       "      <td>Who is hiring?</td>\n",
       "      <td>{\"301:324\": 2}</td>\n",
       "      <td>CNN affiliates report on where job seekers are...</td>\n",
       "      <td>301.0</td>\n",
       "      <td>324.0</td>\n",
       "    </tr>\n",
       "    <tr>\n",
       "      <th>8</th>\n",
       "      <td>Iran criticizes who?</td>\n",
       "      <td>{\"63:97\": 2}</td>\n",
       "      <td>TEHRAN, Iran (CNN) -- Iran's parliament speake...</td>\n",
       "      <td>63.0</td>\n",
       "      <td>97.0</td>\n",
       "    </tr>\n",
       "  </tbody>\n",
       "</table>\n",
       "</div>"
      ],
      "text/plain": [
       "                                            question  \\\n",
       "0          What was the amount of children murdered?   \n",
       "2  who did say South Africa did not issue a visa ...   \n",
       "4                      What frightened the families?   \n",
       "6                                     Who is hiring?   \n",
       "8                               Iran criticizes who?   \n",
       "\n",
       "              validated_answers  \\\n",
       "0     {\"none\": 1, \"294:297\": 2}   \n",
       "2  {\"839:853\": 1, \"103:127\": 2}   \n",
       "4  {\"688:791\": 2, \"690:742\": 1}   \n",
       "6                {\"301:324\": 2}   \n",
       "8                  {\"63:97\": 2}   \n",
       "\n",
       "                                          story_text  start_truth  end_truth  \n",
       "0  NEW DELHI, India (CNN) -- A high court in nort...        294.0      297.0  \n",
       "2  Johannesburg (CNN) -- Miffed by a visa delay t...        103.0      127.0  \n",
       "4  BAGHDAD, Iraq (CNN)  -- At least 6,000 Christi...        688.0      791.0  \n",
       "6  CNN affiliates report on where job seekers are...        301.0      324.0  \n",
       "8  TEHRAN, Iran (CNN) -- Iran's parliament speake...         63.0       97.0  "
      ]
     },
     "execution_count": 249,
     "metadata": {},
     "output_type": "execute_result"
    }
   ],
   "source": [
    "# loops through the rows and prints the question along with the first answer given\n",
    "start_truth = []\n",
    "end_truth = []\n",
    "for i, row in df.iterrows():\n",
    "    try:\n",
    "        answers = ast.literal_eval(row['validated_answers'])\n",
    "        sorted_ans = sorted(answers.items(), key=operator.itemgetter(1), reverse=True)\n",
    "        #print(sorted_ans)\n",
    "        start, end = sorted_ans[0][0].split(':')\n",
    "        start_truth.append(int(start))\n",
    "        end_truth.append(int(end))\n",
    "    except ValueError:\n",
    "        start_truth.append(np.nan)\n",
    "        end_truth.append(np.nan)\n",
    "        pass\n",
    "df['start_truth'] = start_truth\n",
    "df['end_truth'] = end_truth\n",
    "df = df.dropna()\n",
    "print(len(df))\n",
    "df.head()"
   ]
  },
  {
   "cell_type": "code",
   "execution_count": 291,
   "metadata": {},
   "outputs": [
    {
     "data": {
      "text/html": [
       "<div>\n",
       "<style scoped>\n",
       "    .dataframe tbody tr th:only-of-type {\n",
       "        vertical-align: middle;\n",
       "    }\n",
       "\n",
       "    .dataframe tbody tr th {\n",
       "        vertical-align: top;\n",
       "    }\n",
       "\n",
       "    .dataframe thead th {\n",
       "        text-align: right;\n",
       "    }\n",
       "</style>\n",
       "<table border=\"1\" class=\"dataframe\">\n",
       "  <thead>\n",
       "    <tr style=\"text-align: right;\">\n",
       "      <th></th>\n",
       "      <th>question</th>\n",
       "      <th>story_text</th>\n",
       "      <th>start_truth</th>\n",
       "      <th>end_truth</th>\n",
       "    </tr>\n",
       "  </thead>\n",
       "  <tbody>\n",
       "    <tr>\n",
       "      <th>0</th>\n",
       "      <td>What was the amount of children murdered?</td>\n",
       "      <td>NEW DELHI, India (CNN) -- A high court in nort...</td>\n",
       "      <td>294.0</td>\n",
       "      <td>297.0</td>\n",
       "    </tr>\n",
       "    <tr>\n",
       "      <th>2</th>\n",
       "      <td>who did say South Africa did not issue a visa ...</td>\n",
       "      <td>Johannesburg (CNN) -- Miffed by a visa delay t...</td>\n",
       "      <td>103.0</td>\n",
       "      <td>127.0</td>\n",
       "    </tr>\n",
       "    <tr>\n",
       "      <th>4</th>\n",
       "      <td>What frightened the families?</td>\n",
       "      <td>BAGHDAD, Iraq (CNN)  -- At least 6,000 Christi...</td>\n",
       "      <td>688.0</td>\n",
       "      <td>791.0</td>\n",
       "    </tr>\n",
       "    <tr>\n",
       "      <th>6</th>\n",
       "      <td>Who is hiring?</td>\n",
       "      <td>CNN affiliates report on where job seekers are...</td>\n",
       "      <td>301.0</td>\n",
       "      <td>324.0</td>\n",
       "    </tr>\n",
       "    <tr>\n",
       "      <th>8</th>\n",
       "      <td>Iran criticizes who?</td>\n",
       "      <td>TEHRAN, Iran (CNN) -- Iran's parliament speake...</td>\n",
       "      <td>63.0</td>\n",
       "      <td>97.0</td>\n",
       "    </tr>\n",
       "  </tbody>\n",
       "</table>\n",
       "</div>"
      ],
      "text/plain": [
       "                                            question  \\\n",
       "0          What was the amount of children murdered?   \n",
       "2  who did say South Africa did not issue a visa ...   \n",
       "4                      What frightened the families?   \n",
       "6                                     Who is hiring?   \n",
       "8                               Iran criticizes who?   \n",
       "\n",
       "                                          story_text  start_truth  end_truth  \n",
       "0  NEW DELHI, India (CNN) -- A high court in nort...        294.0      297.0  \n",
       "2  Johannesburg (CNN) -- Miffed by a visa delay t...        103.0      127.0  \n",
       "4  BAGHDAD, Iraq (CNN)  -- At least 6,000 Christi...        688.0      791.0  \n",
       "6  CNN affiliates report on where job seekers are...        301.0      324.0  \n",
       "8  TEHRAN, Iran (CNN) -- Iran's parliament speake...         63.0       97.0  "
      ]
     },
     "execution_count": 291,
     "metadata": {},
     "output_type": "execute_result"
    }
   ],
   "source": [
    "final = df.drop(columns=['validated_answers'])\n",
    "final.head()"
   ]
  },
  {
   "cell_type": "code",
   "execution_count": null,
   "metadata": {},
   "outputs": [],
   "source": []
  },
  {
   "cell_type": "code",
   "execution_count": 292,
   "metadata": {},
   "outputs": [
    {
     "name": "stdout",
     "output_type": "stream",
     "text": [
      "68\n",
      "7361\n"
     ]
    },
    {
     "data": {
      "text/plain": [
       "('a', 'h', 'm', '(', 'b')"
      ]
     },
     "execution_count": 292,
     "metadata": {},
     "output_type": "execute_result"
    }
   ],
   "source": [
    "full_text = ''\n",
    "m = 0\n",
    "for col in ['question','story_text']:\n",
    "    for text in final[col]:\n",
    "        m = max(m, len(text))\n",
    "        full_text += text.lower()\n",
    "    print(m)\n",
    "    m=0\n",
    "\n",
    "# get the set of all characters\n",
    "characters = tuple(set(full_text))\n",
    "characters[:5]"
   ]
  },
  {
   "cell_type": "code",
   "execution_count": 293,
   "metadata": {},
   "outputs": [
    {
     "name": "stdout",
     "output_type": "stream",
     "text": [
      "{'a': 0, 'h': 1, 'm': 2, '(': 3, 'b': 4, '\\n': 5, 'y': 6, ' ': 7, '.': 8, 'g': 9, '4': 10, '2': 11, '6': 12, '-': 13, '$': 14, 'q': 15, 'v': 16, '5': 17, 'ñ': 18, 'c': 19, '*': 20, '3': 21, '8': 22, ':': 23, '[': 24, '_': 25, '7': 26, ',': 27, 'd': 28, '9': 29, 'â': 30, 'o': 31, 'j': 32, '\"': 33, '!': 34, ']': 35, 'w': 36, 'u': 37, \"'\": 38, '1': 39, '0': 40, 't': 41, 's': 42, 'f': 43, 'é': 44, 'ã': 45, 'n': 46, 'e': 47, 'z': 48, 'ë': 49, '&': 50, 'l': 51, 'r': 52, 'p': 53, '•': 54, ')': 55, '/': 56, '?': 57, 'i': 58, ';': 59, 'k': 60, 'x': 61, '»': 62, '+': 63, '©': 64, 'ú': 65}\n"
     ]
    }
   ],
   "source": [
    "# use enumeration to give the characters integer values\n",
    "int2char = dict(enumerate(characters))\n",
    "\n",
    "# create the look up dictionary from characters to the assigned integers\n",
    "char2int = {char: index for index, char in int2char.items()}\n",
    "print(char2int)\n"
   ]
  },
  {
   "cell_type": "code",
   "execution_count": 294,
   "metadata": {},
   "outputs": [],
   "source": [
    "q_max = 68\n",
    "story_max = 7361"
   ]
  },
  {
   "cell_type": "code",
   "execution_count": 295,
   "metadata": {},
   "outputs": [
    {
     "name": "stderr",
     "output_type": "stream",
     "text": [
      "/anaconda3/lib/python3.7/site-packages/ipykernel_launcher.py:13: SettingWithCopyWarning: \n",
      "A value is trying to be set on a copy of a slice from a DataFrame\n",
      "\n",
      "See the caveats in the documentation: http://pandas.pydata.org/pandas-docs/stable/indexing.html#indexing-view-versus-copy\n",
      "  del sys.path[0]\n"
     ]
    },
    {
     "data": {
      "text/html": [
       "<div>\n",
       "<style scoped>\n",
       "    .dataframe tbody tr th:only-of-type {\n",
       "        vertical-align: middle;\n",
       "    }\n",
       "\n",
       "    .dataframe tbody tr th {\n",
       "        vertical-align: top;\n",
       "    }\n",
       "\n",
       "    .dataframe thead th {\n",
       "        text-align: right;\n",
       "    }\n",
       "</style>\n",
       "<table border=\"1\" class=\"dataframe\">\n",
       "  <thead>\n",
       "    <tr style=\"text-align: right;\">\n",
       "      <th></th>\n",
       "      <th>question</th>\n",
       "      <th>story_text</th>\n",
       "      <th>start_truth</th>\n",
       "      <th>end_truth</th>\n",
       "    </tr>\n",
       "  </thead>\n",
       "  <tbody>\n",
       "    <tr>\n",
       "      <th>0</th>\n",
       "      <td>[0, 0, 0, 0, 0, 0, 0, 0, 0, 0, 0, 0, 0, 0, 0, ...</td>\n",
       "      <td>[0, 0, 0, 0, 0, 0, 0, 0, 0, 0, 0, 0, 0, 0, 0, ...</td>\n",
       "      <td>294.0</td>\n",
       "      <td>297.0</td>\n",
       "    </tr>\n",
       "    <tr>\n",
       "      <th>2</th>\n",
       "      <td>[0, 0, 0, 0, 0, 0, 0, 0, 0, 0, 0, 0, 0, 0, 36,...</td>\n",
       "      <td>[0, 0, 0, 0, 0, 0, 0, 0, 0, 0, 0, 0, 0, 0, 0, ...</td>\n",
       "      <td>103.0</td>\n",
       "      <td>127.0</td>\n",
       "    </tr>\n",
       "    <tr>\n",
       "      <th>4</th>\n",
       "      <td>[0, 0, 0, 0, 0, 0, 0, 0, 0, 0, 0, 0, 0, 0, 0, ...</td>\n",
       "      <td>[0, 0, 0, 0, 0, 0, 0, 0, 0, 0, 0, 0, 0, 0, 0, ...</td>\n",
       "      <td>688.0</td>\n",
       "      <td>791.0</td>\n",
       "    </tr>\n",
       "    <tr>\n",
       "      <th>6</th>\n",
       "      <td>[0, 0, 0, 0, 0, 0, 0, 0, 0, 0, 0, 0, 0, 0, 0, ...</td>\n",
       "      <td>[0, 0, 0, 0, 0, 0, 0, 0, 0, 0, 0, 0, 0, 0, 0, ...</td>\n",
       "      <td>301.0</td>\n",
       "      <td>324.0</td>\n",
       "    </tr>\n",
       "    <tr>\n",
       "      <th>8</th>\n",
       "      <td>[0, 0, 0, 0, 0, 0, 0, 0, 0, 0, 0, 0, 0, 0, 0, ...</td>\n",
       "      <td>[0, 0, 0, 0, 0, 0, 0, 0, 0, 0, 0, 0, 0, 0, 0, ...</td>\n",
       "      <td>63.0</td>\n",
       "      <td>97.0</td>\n",
       "    </tr>\n",
       "  </tbody>\n",
       "</table>\n",
       "</div>"
      ],
      "text/plain": [
       "                                            question  \\\n",
       "0  [0, 0, 0, 0, 0, 0, 0, 0, 0, 0, 0, 0, 0, 0, 0, ...   \n",
       "2  [0, 0, 0, 0, 0, 0, 0, 0, 0, 0, 0, 0, 0, 0, 36,...   \n",
       "4  [0, 0, 0, 0, 0, 0, 0, 0, 0, 0, 0, 0, 0, 0, 0, ...   \n",
       "6  [0, 0, 0, 0, 0, 0, 0, 0, 0, 0, 0, 0, 0, 0, 0, ...   \n",
       "8  [0, 0, 0, 0, 0, 0, 0, 0, 0, 0, 0, 0, 0, 0, 0, ...   \n",
       "\n",
       "                                          story_text  start_truth  end_truth  \n",
       "0  [0, 0, 0, 0, 0, 0, 0, 0, 0, 0, 0, 0, 0, 0, 0, ...        294.0      297.0  \n",
       "2  [0, 0, 0, 0, 0, 0, 0, 0, 0, 0, 0, 0, 0, 0, 0, ...        103.0      127.0  \n",
       "4  [0, 0, 0, 0, 0, 0, 0, 0, 0, 0, 0, 0, 0, 0, 0, ...        688.0      791.0  \n",
       "6  [0, 0, 0, 0, 0, 0, 0, 0, 0, 0, 0, 0, 0, 0, 0, ...        301.0      324.0  \n",
       "8  [0, 0, 0, 0, 0, 0, 0, 0, 0, 0, 0, 0, 0, 0, 0, ...         63.0       97.0  "
      ]
     },
     "execution_count": 295,
     "metadata": {},
     "output_type": "execute_result"
    }
   ],
   "source": [
    "padding_start = False\n",
    "\n",
    "for i, row in final.iterrows():\n",
    "    for col, N in zip(['question','story_text'], [q_max, story_max]):\n",
    "        enc = np.zeros(N, dtype=np.int32)\n",
    "        \n",
    "        row[col] = np.array([char2int[char] for char in row[col].lower()])\n",
    "        l = min(N, len(row[col]))\n",
    "        if padding_start:\n",
    "            enc[:l] = row[col][:l]\n",
    "        else:\n",
    "            enc[N-l:] = row[col][:l]\n",
    "        final[col][i] = enc\n",
    "        \n",
    "final.head()"
   ]
  },
  {
   "cell_type": "code",
   "execution_count": 296,
   "metadata": {},
   "outputs": [
    {
     "data": {
      "text/plain": [
       "6"
      ]
     },
     "execution_count": 296,
     "metadata": {},
     "output_type": "execute_result"
    }
   ],
   "source": [
    "def find_s(seq):\n",
    "    for i, char in enumerate(seq):\n",
    "        if char == 0:\n",
    "            continue\n",
    "        else: return i\n",
    "        \n",
    "find_s([0,0,0,0,0,0,1,2,4])"
   ]
  },
  {
   "cell_type": "markdown",
   "metadata": {},
   "source": [
    "## Train/Test Split"
   ]
  },
  {
   "cell_type": "code",
   "execution_count": 297,
   "metadata": {},
   "outputs": [],
   "source": [
    "from sklearn.model_selection import train_test_split\n",
    "\n",
    "X_train, X_test, y_train, y_test = train_test_split(final[['question', 'story_text']], \n",
    "                                                    final[['start_truth','end_truth']], \n",
    "                                                    test_size=0.3, \n",
    "                                                    random_state=42)"
   ]
  },
  {
   "cell_type": "code",
   "execution_count": 298,
   "metadata": {},
   "outputs": [
    {
     "name": "stdout",
     "output_type": "stream",
     "text": [
      "Int64Index([ 85, 170, 118, 148,  31, 112, 152, 226,  13, 138, 146,  39, 187,\n",
      "             54, 120,  22, 223,   6,  35, 109,  15, 183,  11,  94, 213, 159,\n",
      "            126, 225,  26,  66, 116,  63, 132,  48, 119, 224, 154,  18,  80,\n",
      "            220, 160, 174, 196, 105,  69,   2, 144,  42,   4,  47, 219,  40,\n",
      "            161, 211,  25, 139],\n",
      "           dtype='int64')\n"
     ]
    },
    {
     "data": {
      "text/html": [
       "<div>\n",
       "<style scoped>\n",
       "    .dataframe tbody tr th:only-of-type {\n",
       "        vertical-align: middle;\n",
       "    }\n",
       "\n",
       "    .dataframe tbody tr th {\n",
       "        vertical-align: top;\n",
       "    }\n",
       "\n",
       "    .dataframe thead th {\n",
       "        text-align: right;\n",
       "    }\n",
       "</style>\n",
       "<table border=\"1\" class=\"dataframe\">\n",
       "  <thead>\n",
       "    <tr style=\"text-align: right;\">\n",
       "      <th></th>\n",
       "      <th>question</th>\n",
       "      <th>story_text</th>\n",
       "    </tr>\n",
       "  </thead>\n",
       "  <tbody>\n",
       "    <tr>\n",
       "      <th>85</th>\n",
       "      <td>[0, 0, 0, 0, 0, 0, 0, 0, 0, 0, 0, 0, 0, 0, 0, ...</td>\n",
       "      <td>[0, 0, 0, 0, 0, 0, 0, 0, 0, 0, 0, 0, 0, 0, 0, ...</td>\n",
       "    </tr>\n",
       "    <tr>\n",
       "      <th>170</th>\n",
       "      <td>[0, 0, 0, 0, 0, 0, 0, 0, 0, 0, 0, 0, 0, 0, 0, ...</td>\n",
       "      <td>[0, 0, 0, 0, 0, 0, 0, 0, 0, 0, 0, 0, 0, 0, 0, ...</td>\n",
       "    </tr>\n",
       "    <tr>\n",
       "      <th>118</th>\n",
       "      <td>[0, 0, 0, 0, 0, 0, 0, 0, 0, 0, 0, 0, 0, 0, 0, ...</td>\n",
       "      <td>[0, 0, 0, 0, 0, 0, 0, 0, 0, 0, 0, 0, 0, 0, 0, ...</td>\n",
       "    </tr>\n",
       "    <tr>\n",
       "      <th>148</th>\n",
       "      <td>[0, 0, 0, 0, 0, 0, 0, 0, 0, 0, 0, 0, 0, 0, 0, ...</td>\n",
       "      <td>[0, 0, 0, 0, 0, 0, 0, 0, 0, 0, 0, 0, 0, 0, 0, ...</td>\n",
       "    </tr>\n",
       "    <tr>\n",
       "      <th>31</th>\n",
       "      <td>[0, 0, 0, 0, 0, 0, 0, 0, 0, 0, 0, 0, 0, 0, 0, ...</td>\n",
       "      <td>[0, 0, 0, 0, 0, 0, 0, 0, 0, 0, 0, 0, 0, 0, 0, ...</td>\n",
       "    </tr>\n",
       "  </tbody>\n",
       "</table>\n",
       "</div>"
      ],
      "text/plain": [
       "                                              question  \\\n",
       "85   [0, 0, 0, 0, 0, 0, 0, 0, 0, 0, 0, 0, 0, 0, 0, ...   \n",
       "170  [0, 0, 0, 0, 0, 0, 0, 0, 0, 0, 0, 0, 0, 0, 0, ...   \n",
       "118  [0, 0, 0, 0, 0, 0, 0, 0, 0, 0, 0, 0, 0, 0, 0, ...   \n",
       "148  [0, 0, 0, 0, 0, 0, 0, 0, 0, 0, 0, 0, 0, 0, 0, ...   \n",
       "31   [0, 0, 0, 0, 0, 0, 0, 0, 0, 0, 0, 0, 0, 0, 0, ...   \n",
       "\n",
       "                                            story_text  \n",
       "85   [0, 0, 0, 0, 0, 0, 0, 0, 0, 0, 0, 0, 0, 0, 0, ...  \n",
       "170  [0, 0, 0, 0, 0, 0, 0, 0, 0, 0, 0, 0, 0, 0, 0, ...  \n",
       "118  [0, 0, 0, 0, 0, 0, 0, 0, 0, 0, 0, 0, 0, 0, 0, ...  \n",
       "148  [0, 0, 0, 0, 0, 0, 0, 0, 0, 0, 0, 0, 0, 0, 0, ...  \n",
       "31   [0, 0, 0, 0, 0, 0, 0, 0, 0, 0, 0, 0, 0, 0, 0, ...  "
      ]
     },
     "execution_count": 298,
     "metadata": {},
     "output_type": "execute_result"
    }
   ],
   "source": [
    "print(X_train.index)\n",
    "X_train.head()"
   ]
  },
  {
   "cell_type": "code",
   "execution_count": 496,
   "metadata": {},
   "outputs": [
    {
     "data": {
      "text/plain": [
       "16.0"
      ]
     },
     "execution_count": 496,
     "metadata": {},
     "output_type": "execute_result"
    }
   ],
   "source": [
    "min(y_train.end_truth)"
   ]
  },
  {
   "cell_type": "code",
   "execution_count": 299,
   "metadata": {},
   "outputs": [
    {
     "data": {
      "text/html": [
       "<div>\n",
       "<style scoped>\n",
       "    .dataframe tbody tr th:only-of-type {\n",
       "        vertical-align: middle;\n",
       "    }\n",
       "\n",
       "    .dataframe tbody tr th {\n",
       "        vertical-align: top;\n",
       "    }\n",
       "\n",
       "    .dataframe thead th {\n",
       "        text-align: right;\n",
       "    }\n",
       "</style>\n",
       "<table border=\"1\" class=\"dataframe\">\n",
       "  <thead>\n",
       "    <tr style=\"text-align: right;\">\n",
       "      <th></th>\n",
       "      <th>start_truth</th>\n",
       "      <th>end_truth</th>\n",
       "    </tr>\n",
       "  </thead>\n",
       "  <tbody>\n",
       "    <tr>\n",
       "      <th>85</th>\n",
       "      <td>2601.0</td>\n",
       "      <td>2606.0</td>\n",
       "    </tr>\n",
       "    <tr>\n",
       "      <th>170</th>\n",
       "      <td>1250.0</td>\n",
       "      <td>1308.0</td>\n",
       "    </tr>\n",
       "    <tr>\n",
       "      <th>118</th>\n",
       "      <td>64.0</td>\n",
       "      <td>98.0</td>\n",
       "    </tr>\n",
       "    <tr>\n",
       "      <th>148</th>\n",
       "      <td>1765.0</td>\n",
       "      <td>1777.0</td>\n",
       "    </tr>\n",
       "    <tr>\n",
       "      <th>31</th>\n",
       "      <td>1873.0</td>\n",
       "      <td>1907.0</td>\n",
       "    </tr>\n",
       "  </tbody>\n",
       "</table>\n",
       "</div>"
      ],
      "text/plain": [
       "     start_truth  end_truth\n",
       "85        2601.0     2606.0\n",
       "170       1250.0     1308.0\n",
       "118         64.0       98.0\n",
       "148       1765.0     1777.0\n",
       "31        1873.0     1907.0"
      ]
     },
     "execution_count": 299,
     "metadata": {},
     "output_type": "execute_result"
    }
   ],
   "source": [
    "y_train.head()"
   ]
  },
  {
   "cell_type": "code",
   "execution_count": 388,
   "metadata": {},
   "outputs": [],
   "source": [
    "class NewsQADataset(Dataset):\n",
    "    def __init__(self, X, y, N=400, padding_start=False):\n",
    "        self.start = y['start_truth'].values\n",
    "        self.end = y['end_truth'].values\n",
    "        self.question = X['question'].values\n",
    "        self.story_text = X['story_text'].values\n",
    "        \n",
    "    def __len__(self):\n",
    "        return len(self.question)\n",
    "    \n",
    "    def __getitem__(self, idx):\n",
    "        #print(self.question)\n",
    "        #qs = np.array([find_s(seq) for seq in self.question])\n",
    "        ss = np.array([find_s(seq) for seq in self.story_text])\n",
    "        return self.question[idx], self.story_text[idx], self.start[idx] + ss[idx], self.end[idx] + ss[idx]"
   ]
  },
  {
   "cell_type": "code",
   "execution_count": 389,
   "metadata": {},
   "outputs": [],
   "source": [
    "train_ds = NewsQADataset(X_train, y_train)\n",
    "test_ds = NewsQADataset(X_test, y_test)"
   ]
  },
  {
   "cell_type": "code",
   "execution_count": 390,
   "metadata": {},
   "outputs": [
    {
     "data": {
      "text/plain": [
       "(array([ 0,  0,  0,  0,  0,  0,  0,  0,  0,  0,  0,  0,  0,  0,  0,  0,  0,\n",
       "         0,  0,  0,  0,  0,  0,  0,  0,  0,  0,  0,  0,  0,  0, 58, 46,  7,\n",
       "        36,  1,  0, 41,  7,  6, 47,  0, 52,  7, 28, 58, 28,  7,  4,  2, 36,\n",
       "         7, 47, 46, 41, 47, 52,  7, 41,  1, 47,  7, 42, 53, 31, 52, 41, 57],\n",
       "       dtype=int32),\n",
       " array([ 0,  0,  0, ...,  0, 28,  8], dtype=int32),\n",
       " 5303.0,\n",
       " 5308.0)"
      ]
     },
     "execution_count": 390,
     "metadata": {},
     "output_type": "execute_result"
    }
   ],
   "source": [
    "train_ds[0]"
   ]
  },
  {
   "cell_type": "code",
   "execution_count": 391,
   "metadata": {},
   "outputs": [],
   "source": [
    "batch_size = 8\n",
    "train_dl = DataLoader(train_ds, batch_size=batch_size, shuffle=True)\n",
    "test_dl = DataLoader(test_ds, batch_size=batch_size)"
   ]
  },
  {
   "cell_type": "code",
   "execution_count": null,
   "metadata": {},
   "outputs": [],
   "source": []
  },
  {
   "cell_type": "code",
   "execution_count": 392,
   "metadata": {},
   "outputs": [
    {
     "name": "stdout",
     "output_type": "stream",
     "text": [
      "torch.Size([8, 68]) torch.Size([8, 7361]) torch.Size([8]) torch.Size([8])\n"
     ]
    },
    {
     "data": {
      "text/plain": [
       "(tensor([[ 0,  0,  0,  0,  0,  0,  0,  0,  0,  0,  0,  0,  0,  0,  0,  0,  0,  0,\n",
       "           0,  0,  0,  0,  0,  0,  0,  0,  0,  0,  0,  0,  0,  0,  0,  0,  0,  0,\n",
       "           0,  0,  0, 36,  1,  0, 41,  7, 43, 52, 58,  9,  1, 41, 47, 46, 47, 28,\n",
       "           7, 41,  1, 47,  7, 43,  0,  2, 58, 51, 58, 47, 42, 57],\n",
       "         [ 0,  0,  0,  0,  0,  0,  0,  0,  0,  0,  0,  0,  0,  0,  0,  0,  0,  0,\n",
       "           0,  0,  0,  0, 36,  1,  0, 41,  7, 36, 58, 51, 51,  7, 46, 47, 47, 28,\n",
       "           7, 19, 52, 47,  0, 41, 58, 16, 47,  7, 28, 58, 53, 51, 31,  2,  0, 19,\n",
       "           6,  7,  0, 46, 28,  7, 19, 31, 37, 52,  0,  9, 47, 57],\n",
       "         [ 0,  0,  0,  0,  0,  0,  0,  0,  0,  0,  0,  0,  0,  0,  0,  0,  0,  0,\n",
       "           0,  0,  0,  0,  0,  0,  0,  0,  0, 36,  1,  0, 41,  7,  1,  0, 53, 53,\n",
       "          47, 46, 47, 28,  7, 41, 31,  7, 41,  1, 47,  7, 19, 58, 16, 58, 51, 58,\n",
       "           0, 46,  7,  1, 47, 51, 58, 19, 31, 53, 41, 47, 52, 57],\n",
       "         [ 0,  0,  0,  0,  0,  0,  0,  0,  0,  0,  0,  0,  0,  0,  0,  0,  0,  0,\n",
       "           0,  0,  0,  0,  0,  0,  0,  0,  0,  0,  0,  0,  0,  1, 31, 36,  7, 51,\n",
       "          31, 46,  9,  7,  0,  9, 31,  7, 28, 58, 28,  7, 36,  0, 60,  0,  7, 60,\n",
       "          58, 19, 60,  4,  0, 51, 51,  7, 42, 41,  0, 52, 41, 57],\n",
       "         [ 0,  0,  0,  0,  0,  0,  0,  0,  0,  0,  0,  0,  0,  0,  0,  0,  0,  0,\n",
       "           0, 43, 31, 52,  7, 36,  1,  0, 41,  7, 53, 47, 31, 53, 51, 47,  7, 32,\n",
       "          37, 42, 41,  7, 28, 31, 46, 38, 41,  7, 41, 52, 37, 42, 41,  7, 41,  1,\n",
       "          47, 58, 52,  7, 58, 46, 42, 41, 58, 46, 19, 41, 42, 57],\n",
       "         [ 0,  0,  0,  0,  0,  0,  0,  0,  0,  0,  0,  0,  0,  0,  0,  0,  0,  0,\n",
       "           0,  0,  0,  0,  0,  0,  0,  0,  0,  0,  0,  0,  0,  0,  0,  0,  0,  0,\n",
       "           0,  0,  0,  0,  0,  0,  0,  0,  0,  0,  0, 36,  1, 31,  7, 36, 58, 51,\n",
       "          51,  7, 52, 47, 32, 31, 58, 46,  7, 41, 31, 37, 52, 57],\n",
       "         [ 0,  0,  0,  0,  0,  0,  0,  0,  0,  0,  0,  0,  0,  0,  0,  0,  0,  0,\n",
       "           0,  0,  0,  0,  0,  0,  0,  0,  0,  0,  0,  0,  0,  0,  0,  0,  0,  0,\n",
       "           0,  0,  0,  0,  0,  0,  0,  0,  0,  0,  0,  0,  0, 36,  1, 31, 42, 47,\n",
       "           7, 19,  0, 52,  7, 36,  0, 42,  7, 43, 31, 37, 46, 28],\n",
       "         [ 0,  0,  0,  0,  0,  0,  0,  0,  0,  0,  0,  0,  0,  0,  0,  0,  0,  0,\n",
       "           0,  0,  0,  0,  0,  0,  0,  0,  0,  0,  0, 36,  1, 47, 46,  7, 28, 58,\n",
       "          28,  7, 41,  1, 47,  7, 12,  8, 21,  7,  2,  0,  9, 46, 58, 41, 37, 28,\n",
       "          47,  7,  1, 58, 41,  7, 41,  1, 47,  7,  0, 52, 47,  0]],\n",
       "        dtype=torch.int32), tensor([[ 0,  0,  0,  ..., 52, 41,  8],\n",
       "         [ 0,  0,  0,  ..., 47, 42,  8],\n",
       "         [ 0,  0,  0,  ..., 42,  8, 33],\n",
       "         ...,\n",
       "         [ 0,  0,  0,  ..., 52, 42,  8],\n",
       "         [ 0,  0,  0,  ..., 47, 46, 28],\n",
       "         [ 0,  0,  0,  ..., 52, 41,  8]], dtype=torch.int32), tensor([5777., 5413., 5347., 2728., 6003., 5271., 5344., 5932.],\n",
       "        dtype=torch.float64), tensor([5880., 5436., 5381., 2735., 6083., 5306., 5350., 5942.],\n",
       "        dtype=torch.float64))"
      ]
     },
     "execution_count": 392,
     "metadata": {},
     "output_type": "execute_result"
    }
   ],
   "source": [
    "q, s, start, end = next(iter(train_dl))\n",
    "print(q.shape, s.shape, start.shape, end.shape)\n",
    "q, s, start, end"
   ]
  },
  {
   "cell_type": "code",
   "execution_count": 514,
   "metadata": {},
   "outputs": [],
   "source": [
    "class GRUModel(torch.nn.Module) :\n",
    "    def __init__(self, vocab_size, embedding_dim, hidden_dim):\n",
    "        super(GRUModel, self).__init__()\n",
    "        self.hidden_dim = hidden_dim\n",
    "        self.embeddings = nn.Embedding(vocab_size, embedding_dim, padding_idx=0)\n",
    "        self.dropout = nn.Dropout(0.5)\n",
    "        self.gru = nn.GRU(embedding_dim, hidden_dim, batch_first=True)\n",
    "        self.linear2 = nn.Linear(200, 7361)\n",
    "        self.linear_start = nn.Linear(7361, 7362)\n",
    "        self.linear_end = nn.Linear(7361, 7362)\n",
    "        \n",
    "    def forward(self, x1, x2):\n",
    "        \n",
    "        x1 = self.embeddings(x1)\n",
    "        x1 = self.dropout(x1)\n",
    "        out_pack1, ht1= self.gru(x1)\n",
    "        \n",
    "        x2 = self.embeddings(x2)\n",
    "        x2 = self.dropout(x2)\n",
    "        out_pack2, ht2= self.gru(x2)\n",
    "        \n",
    "        \n",
    "        x = torch.cat((ht1[-1], ht2[-1]),1)\n",
    "        \n",
    "        x = F.relu(self.linear2(x))\n",
    "        start = self.linear_start(x)\n",
    "        end = self.linear_end(x)\n",
    " \n",
    "        return start, end"
   ]
  },
  {
   "cell_type": "code",
   "execution_count": null,
   "metadata": {},
   "outputs": [],
   "source": []
  },
  {
   "cell_type": "markdown",
   "metadata": {},
   "source": [
    "I've taken the functions from her last name classification model because that uses character-level embeddings as well. I'm using a naive version that just concats the question with the story and uses that as input into the RNN. I used that with regressing 2 outputs (start, end) and I got it to train but not sure how well it's actually doing. I think we correct way to do this is to treat it as a classification problem where each index of the story is a categroy and we use those predictions"
   ]
  },
  {
   "cell_type": "code",
   "execution_count": 456,
   "metadata": {},
   "outputs": [
    {
     "data": {
      "text/plain": [
       "[array([0., 1., 0., ..., 0., 0., 0.]),\n",
       " array([0., 0., 0., ..., 0., 0., 0.]),\n",
       " array([0., 0., 1., ..., 0., 0., 0.])]"
      ]
     },
     "execution_count": 456,
     "metadata": {},
     "output_type": "execute_result"
    }
   ],
   "source": [
    "def get_optimizer(model, lr = 0.1, wd = 0.0001):\n",
    "    parameters = filter(lambda p: p.requires_grad, model.parameters())\n",
    "    optim = torch.optim.Adam(parameters, lr=lr, weight_decay=wd)\n",
    "    return optim\n",
    "\n",
    "def vectorize(labels, size=7361):\n",
    "    result = []\n",
    "    for s in labels:\n",
    "        #print(s)\n",
    "        row = np.zeros(size)\n",
    "        row[int(s)] = 1\n",
    "        result.append(row)\n",
    "        \n",
    "    return result\n",
    "\n",
    "vectorize([1, 10, 2])"
   ]
  },
  {
   "cell_type": "code",
   "execution_count": 515,
   "metadata": {},
   "outputs": [],
   "source": [
    "def train_epocs(model, epochs=10, lr=0.001):\n",
    "    parameters = filter(lambda p: p.requires_grad, model.parameters())\n",
    "    optimizer = torch.optim.Adam(parameters, lr=lr)\n",
    "    for i in range(epochs):\n",
    "        model.train()\n",
    "        sum_loss = 0.0\n",
    "        total = 0\n",
    "        for q, s, start_, end_  in train_dl:\n",
    "            #start_vec = vectorize(start_)\n",
    "            #end_vec = vectorize(end_)\n",
    "\n",
    "            start, end = model(q.long(), s.long())\n",
    "            loss_start = F.cross_entropy(start, start_.long())\n",
    "\n",
    "            loss_end = F.cross_entropy(end, end_.long())\n",
    "            loss = loss_start + loss_end\n",
    "            \n",
    "        \n",
    "            loss.backward()\n",
    "            optimizer.step()\n",
    "            sum_loss += loss.item()*y.shape[0]\n",
    "            total += y.shape[0]\n",
    "        val_loss = val_metrics(model, test_dl)\n",
    "        #if i % 5 == 1:\n",
    "        print(\"train loss %.3f val loss %.3f and val accuracy NA.3f\" % (sum_loss/total, val_loss))\n",
    "            \n",
    "def val_metrics(model, valid_dl):\n",
    "    model.eval()\n",
    "    correct = 0\n",
    "    total = 0\n",
    "    sum_loss = 0.0\n",
    "    for q, s, start_, end_ in valid_dl:\n",
    "        start_vec = vectorize(start_)\n",
    "        end_vec = vectorize(end_)\n",
    "\n",
    "        start, end = model(q.long(), s.long())\n",
    "        #print(start, end)\n",
    "        #print(start.shape, end.shape)\n",
    "        \n",
    "        loss_start = F.cross_entropy(start, start_.long())\n",
    "        #print(loss_start)\n",
    "        \n",
    "        loss_end = F.cross_entropy(end, end_.long())\n",
    "        #print(loss_end)\n",
    "        \n",
    "        loss = loss_start + loss_end\n",
    "        #print(loss)\n",
    "        #\n",
    "        start_i = start.argmax(1)\n",
    "        end_i = end.argmax(1)\n",
    "        \n",
    "        \n",
    "        total += y.shape[0]\n",
    "        sum_loss += loss.item()*y.shape[0]\n",
    "    print(f'Predicted: {start_i}, Real: {start_}')\n",
    "    #print(f'Real: {start_}, {end_}')\n",
    "    return sum_loss/total"
   ]
  },
  {
   "cell_type": "code",
   "execution_count": 516,
   "metadata": {},
   "outputs": [
    {
     "name": "stdout",
     "output_type": "stream",
     "text": [
      "Predicted: tensor([2535, 6642, 2535, 2535, 2535, 2535, 2535, 2535]), Real: tensor([4778., 3379., 6393., 6404., 5393., 6702., 4002., 5283.],\n",
      "       dtype=torch.float64)\n"
     ]
    },
    {
     "data": {
      "text/plain": [
       "17.806418736775715"
      ]
     },
     "execution_count": 516,
     "metadata": {},
     "output_type": "execute_result"
    }
   ],
   "source": [
    "vocab_size = 66\n",
    "hidden_size = 100\n",
    "n_classes = 2\n",
    "emb_size = 10\n",
    "model = GRUModel(vocab_size, emb_size, hidden_size)\n",
    "\n",
    "val_metrics(model, test_dl)"
   ]
  },
  {
   "cell_type": "code",
   "execution_count": null,
   "metadata": {},
   "outputs": [
    {
     "name": "stdout",
     "output_type": "stream",
     "text": [
      "Predicted: tensor([6458, 5358, 3171, 2923, 3171, 3171, 6458, 6458]), Real: tensor([4778., 3379., 6393., 6404., 5393., 6702., 4002., 5283.],\n",
      "       dtype=torch.float64)\n",
      "train loss 17.869 val loss 18.022 and val accuracy NA.3f\n",
      "Predicted: tensor([2923, 5358, 5271, 2923, 3171, 3171, 1935, 2923]), Real: tensor([4778., 3379., 6393., 6404., 5393., 6702., 4002., 5283.],\n",
      "       dtype=torch.float64)\n",
      "train loss 11.474 val loss 31.311 and val accuracy NA.3f\n",
      "Predicted: tensor([5777, 4953, 6487, 5167, 6487, 6487, 6487, 5493]), Real: tensor([4778., 3379., 6393., 6404., 5393., 6702., 4002., 5283.],\n",
      "       dtype=torch.float64)\n",
      "train loss 9.220 val loss 46.762 and val accuracy NA.3f\n",
      "Predicted: tensor([5413, 5632, 5413, 5167, 5413, 5413, 5413, 5584]), Real: tensor([4778., 3379., 6393., 6404., 5393., 6702., 4002., 5283.],\n",
      "       dtype=torch.float64)\n",
      "train loss 8.577 val loss 39.984 and val accuracy NA.3f\n",
      "Predicted: tensor([5119, 5632, 5413,  812, 5922, 5922, 5922, 4651]), Real: tensor([4778., 3379., 6393., 6404., 5393., 6702., 4002., 5283.],\n",
      "       dtype=torch.float64)\n",
      "train loss 8.209 val loss 29.447 and val accuracy NA.3f\n",
      "Predicted: tensor([5271, 3590, 5271, 6458, 5922, 3259, 6579, 5271]), Real: tensor([4778., 3379., 6393., 6404., 5393., 6702., 4002., 5283.],\n",
      "       dtype=torch.float64)\n",
      "train loss 7.033 val loss 34.789 and val accuracy NA.3f\n",
      "Predicted: tensor([5271, 2923, 5606, 5167, 6115, 6487, 6487, 5606]), Real: tensor([4778., 3379., 6393., 6404., 5393., 6702., 4002., 5283.],\n",
      "       dtype=torch.float64)\n",
      "train loss 6.218 val loss 54.182 and val accuracy NA.3f\n",
      "Predicted: tensor([3979, 5758, 5606, 5167, 2348, 2348, 6487, 3979]), Real: tensor([4778., 3379., 6393., 6404., 5393., 6702., 4002., 5283.],\n",
      "       dtype=torch.float64)\n",
      "train loss 7.245 val loss 71.178 and val accuracy NA.3f\n",
      "Predicted: tensor([5783, 3590, 5783, 6815, 3171, 5052, 5783, 5493]), Real: tensor([4778., 3379., 6393., 6404., 5393., 6702., 4002., 5283.],\n",
      "       dtype=torch.float64)\n",
      "train loss 10.861 val loss 60.853 and val accuracy NA.3f\n"
     ]
    }
   ],
   "source": [
    "train_epocs(model)"
   ]
  },
  {
   "cell_type": "code",
   "execution_count": null,
   "metadata": {},
   "outputs": [],
   "source": [
    "\n"
   ]
  },
  {
   "cell_type": "code",
   "execution_count": null,
   "metadata": {},
   "outputs": [],
   "source": []
  }
 ],
 "metadata": {
  "kernelspec": {
   "display_name": "Python 3",
   "language": "python",
   "name": "python3"
  },
  "language_info": {
   "codemirror_mode": {
    "name": "ipython",
    "version": 3
   },
   "file_extension": ".py",
   "mimetype": "text/x-python",
   "name": "python",
   "nbconvert_exporter": "python",
   "pygments_lexer": "ipython3",
   "version": "3.7.1"
  }
 },
 "nbformat": 4,
 "nbformat_minor": 2
}
