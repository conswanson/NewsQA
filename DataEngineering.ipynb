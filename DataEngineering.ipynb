{
 "cells": [
  {
   "cell_type": "code",
   "execution_count": 1,
   "metadata": {
    "ExecuteTime": {
     "end_time": "2019-06-17T06:02:04.011242Z",
     "start_time": "2019-06-17T06:02:03.037009Z"
    }
   },
   "outputs": [],
   "source": [
    "import pandas as pd\n",
    "import numpy as np\n",
    "import operator\n",
    "import ast\n",
    "from torch.autograd import Variable\n",
    "from torch.nn.utils.rnn import pack_padded_sequence, pad_packed_sequence\n",
    "import torch\n",
    "import torch.nn as nn\n",
    "import string\n",
    "import torch.nn.functional as F\n",
    "from torch.utils.data import Dataset, DataLoader\n",
    "from torch.nn.utils.rnn import pack_padded_sequence, pad_packed_sequence \n",
    "import spacy\n",
    "import re"
   ]
  },
  {
   "cell_type": "markdown",
   "metadata": {},
   "source": [
    "## Import Data"
   ]
  },
  {
   "cell_type": "code",
   "execution_count": 2,
   "metadata": {
    "ExecuteTime": {
     "end_time": "2019-06-17T06:02:46.623373Z",
     "start_time": "2019-06-17T06:02:43.696845Z"
    }
   },
   "outputs": [
    {
     "name": "stdout",
     "output_type": "stream",
     "text": [
      "Index(['story_id', 'question', 'answer_char_ranges', 'is_answer_absent',\n",
      "       'is_question_bad', 'validated_answers', 'story_text'],\n",
      "      dtype='object')\n",
      "<class 'str'>\n"
     ]
    },
    {
     "data": {
      "text/html": [
       "<div>\n",
       "<style scoped>\n",
       "    .dataframe tbody tr th:only-of-type {\n",
       "        vertical-align: middle;\n",
       "    }\n",
       "\n",
       "    .dataframe tbody tr th {\n",
       "        vertical-align: top;\n",
       "    }\n",
       "\n",
       "    .dataframe thead th {\n",
       "        text-align: right;\n",
       "    }\n",
       "</style>\n",
       "<table border=\"1\" class=\"dataframe\">\n",
       "  <thead>\n",
       "    <tr style=\"text-align: right;\">\n",
       "      <th></th>\n",
       "      <th>story_id</th>\n",
       "      <th>question</th>\n",
       "      <th>answer_char_ranges</th>\n",
       "      <th>is_answer_absent</th>\n",
       "      <th>is_question_bad</th>\n",
       "      <th>validated_answers</th>\n",
       "      <th>story_text</th>\n",
       "    </tr>\n",
       "  </thead>\n",
       "  <tbody>\n",
       "    <tr>\n",
       "      <th>0</th>\n",
       "      <td>./cnn/stories/42d01e187213e86f5fe617fe32e716ff...</td>\n",
       "      <td>What was the amount of children murdered?</td>\n",
       "      <td>294:297|None|None</td>\n",
       "      <td>0.0</td>\n",
       "      <td>0.0</td>\n",
       "      <td>{\"none\": 1, \"294:297\": 2}</td>\n",
       "      <td>NEW DELHI, India (CNN) -- A high court in nort...</td>\n",
       "    </tr>\n",
       "    <tr>\n",
       "      <th>1</th>\n",
       "      <td>./cnn/stories/c48228a52f26aca65c31fad273e66164...</td>\n",
       "      <td>Where was one employee killed?</td>\n",
       "      <td>34:60|1610:1618|34:60</td>\n",
       "      <td>0.0</td>\n",
       "      <td>0.0</td>\n",
       "      <td>NaN</td>\n",
       "      <td>(CNN) -- Fighting in the volatile Sudanese reg...</td>\n",
       "    </tr>\n",
       "    <tr>\n",
       "      <th>2</th>\n",
       "      <td>./cnn/stories/c65ed85800e4535f4bbbfa2c34d7d963...</td>\n",
       "      <td>who did say South Africa did not issue a visa ...</td>\n",
       "      <td>103:127|114:127|839:853</td>\n",
       "      <td>0.0</td>\n",
       "      <td>0.0</td>\n",
       "      <td>{\"839:853\": 1, \"103:127\": 2}</td>\n",
       "      <td>Johannesburg (CNN) -- Miffed by a visa delay t...</td>\n",
       "    </tr>\n",
       "    <tr>\n",
       "      <th>3</th>\n",
       "      <td>./cnn/stories/0cf66b646e9b32076513c050edf32a79...</td>\n",
       "      <td>How many years old was the businessman?</td>\n",
       "      <td>538:550|538:550</td>\n",
       "      <td>0.0</td>\n",
       "      <td>0.0</td>\n",
       "      <td>NaN</td>\n",
       "      <td>(CNN)  -- England international footballer Ste...</td>\n",
       "    </tr>\n",
       "    <tr>\n",
       "      <th>4</th>\n",
       "      <td>./cnn/stories/13012604e3203c18df09289dfedd14cd...</td>\n",
       "      <td>What frightened the families?</td>\n",
       "      <td>690:742|688:791|630:646</td>\n",
       "      <td>0.0</td>\n",
       "      <td>0.0</td>\n",
       "      <td>{\"688:791\": 2, \"690:742\": 1}</td>\n",
       "      <td>BAGHDAD, Iraq (CNN)  -- At least 6,000 Christi...</td>\n",
       "    </tr>\n",
       "  </tbody>\n",
       "</table>\n",
       "</div>"
      ],
      "text/plain": [
       "                                            story_id  \\\n",
       "0  ./cnn/stories/42d01e187213e86f5fe617fe32e716ff...   \n",
       "1  ./cnn/stories/c48228a52f26aca65c31fad273e66164...   \n",
       "2  ./cnn/stories/c65ed85800e4535f4bbbfa2c34d7d963...   \n",
       "3  ./cnn/stories/0cf66b646e9b32076513c050edf32a79...   \n",
       "4  ./cnn/stories/13012604e3203c18df09289dfedd14cd...   \n",
       "\n",
       "                                            question       answer_char_ranges  \\\n",
       "0          What was the amount of children murdered?        294:297|None|None   \n",
       "1                     Where was one employee killed?    34:60|1610:1618|34:60   \n",
       "2  who did say South Africa did not issue a visa ...  103:127|114:127|839:853   \n",
       "3            How many years old was the businessman?          538:550|538:550   \n",
       "4                      What frightened the families?  690:742|688:791|630:646   \n",
       "\n",
       "   is_answer_absent is_question_bad             validated_answers  \\\n",
       "0               0.0             0.0     {\"none\": 1, \"294:297\": 2}   \n",
       "1               0.0             0.0                           NaN   \n",
       "2               0.0             0.0  {\"839:853\": 1, \"103:127\": 2}   \n",
       "3               0.0             0.0                           NaN   \n",
       "4               0.0             0.0  {\"688:791\": 2, \"690:742\": 1}   \n",
       "\n",
       "                                          story_text  \n",
       "0  NEW DELHI, India (CNN) -- A high court in nort...  \n",
       "1  (CNN) -- Fighting in the volatile Sudanese reg...  \n",
       "2  Johannesburg (CNN) -- Miffed by a visa delay t...  \n",
       "3  (CNN)  -- England international footballer Ste...  \n",
       "4  BAGHDAD, Iraq (CNN)  -- At least 6,000 Christi...  "
      ]
     },
     "execution_count": 2,
     "metadata": {},
     "output_type": "execute_result"
    }
   ],
   "source": [
    "data = pd.read_csv('combined-newsqa-data-v1.csv')\n",
    "print(data.columns)\n",
    "print(type(data['is_question_bad'][0]))\n",
    "\n",
    "# remove Q/A pairs that are invalid or missing\n",
    "#data = data[(data.is_question_bad=='0.0') & (data.is_answer_absent=='0.0')]\n",
    "data.head()"
   ]
  },
  {
   "cell_type": "code",
   "execution_count": 3,
   "metadata": {
    "ExecuteTime": {
     "end_time": "2019-06-17T06:02:49.040788Z",
     "start_time": "2019-06-17T06:02:49.033284Z"
    }
   },
   "outputs": [
    {
     "name": "stdout",
     "output_type": "stream",
     "text": [
      "0.0\n"
     ]
    }
   ],
   "source": [
    "print(data['is_question_bad'][0])"
   ]
  },
  {
   "cell_type": "code",
   "execution_count": 4,
   "metadata": {
    "ExecuteTime": {
     "end_time": "2019-06-17T06:02:50.283808Z",
     "start_time": "2019-06-17T06:02:49.804811Z"
    }
   },
   "outputs": [
    {
     "name": "stdout",
     "output_type": "stream",
     "text": [
      "119633\n",
      "12088\n"
     ]
    }
   ],
   "source": [
    "# 119,633 Q/A's , 12088 articles\n",
    "print(len(data))\n",
    "print(len(data['story_text'].unique()))\n"
   ]
  },
  {
   "cell_type": "code",
   "execution_count": 5,
   "metadata": {
    "ExecuteTime": {
     "end_time": "2019-06-17T06:02:50.711182Z",
     "start_time": "2019-06-17T06:02:50.702625Z"
    }
   },
   "outputs": [
    {
     "data": {
      "text/plain": [
       "'NEW DELHI, India (CNN) -- A high court in northern India on Friday acquitted a wealthy businessman facing the death sentence for the killing of a teen in a case dubbed \"the house of horrors.\"\\n\\n\\n\\nMoninder Singh Pandher was sentenced to death by a lower court in February.\\n\\n\\n\\nThe teen was one of 19 victims -- children and young women -- in one of the most gruesome serial killings in India in recent years.\\n\\n\\n\\nThe Allahabad high court has acquitted Moninder Singh Pandher, his lawyer Sikandar B. Kochar told CNN.\\n\\n\\n\\nPandher and his domestic employee Surinder Koli were sentenced to death in February by a lower court for the rape and murder of the 14-year-old.\\n\\n\\n\\nThe high court upheld Koli\\'s death sentence, Kochar said.\\n\\n\\n\\nThe two were arrested two years ago after body parts packed in plastic bags were found near their home in Noida, a New Delhi suburb. Their home was later dubbed a \"house of horrors\" by the Indian media.\\n\\n\\n\\nPandher was not named a main suspect by investigators initially, but was summoned as co-accused during the trial, Kochar said.\\n\\n\\n\\nKochar said his client was in Australia when the teen was raped and killed.\\n\\n\\n\\nPandher faces trial in the remaining 18 killings and could remain in custody, the attorney said.'"
      ]
     },
     "execution_count": 5,
     "metadata": {},
     "output_type": "execute_result"
    }
   ],
   "source": [
    "first_doc = data['story_text'][0]\n",
    "first_doc"
   ]
  },
  {
   "cell_type": "code",
   "execution_count": 6,
   "metadata": {
    "ExecuteTime": {
     "end_time": "2019-06-17T06:02:52.916660Z",
     "start_time": "2019-06-17T06:02:52.908513Z"
    }
   },
   "outputs": [
    {
     "data": {
      "text/plain": [
       "'19 '"
      ]
     },
     "execution_count": 6,
     "metadata": {},
     "output_type": "execute_result"
    }
   ],
   "source": [
    "first_doc[294:297]"
   ]
  },
  {
   "cell_type": "code",
   "execution_count": 7,
   "metadata": {
    "ExecuteTime": {
     "end_time": "2019-06-17T06:02:53.482038Z",
     "start_time": "2019-06-17T06:02:53.473105Z"
    }
   },
   "outputs": [
    {
     "data": {
      "text/plain": [
       "'Johannesburg (CNN) -- Miffed by a visa delay that led the Dalai Lama to cancel a trip to South Africa, Archbishop Desmond Tutu lashed out at his government Tuesday, saying it had acted worse than apartheid regimes and had forgotten all that the nation stood for.\\n\\n\\n\\n\\n\\n\"When we used to apply for passports under the apartheid government, we never knew until the last moment what their decision was,\" Tutu said at a news conference. \"Our government is worse than the apartheid government because at least you were expecting it from the apartheid government.\\n\\n\\n\\n\\n\\n\"I have to say that I can\\'t believe this. I really can\\'t believe this,\" Tutu said. \"You have to wake me up and tell me this is actually happening here.\"\\n\\n\\n\\n\\n\\nThe Dalai Lama scrapped his planned trip to South Africa this week after the nation failed to issue him a visa in time, his spokesman said.\\n\\n\\n\\n\\n\\nVisa applications for him and his entourage were submitted to the South African High Commission in New Delhi, India, at the end of August, and original passports were submitted on September 20, more than two weeks ago, a statement on his website said.\\n\\n\\n\\n\\n\\nHowever, South Africa\\'s foreign affairs office said it did not refuse a visa.\\n\\n\\n\\n\\n\\n\"South Africa will not comment on the decision, because it is not our decision, it is his decision,\" according to spokesman Clayson Monyela, who said the visa application was still under consideration.\\n\\n\\n\\n\\n\\nThe Dalai Lama had been invited to the country to receive the Mahatma Gandhi International Award for Peace and Reconciliation and to speak at a number of events, including a lecture in honor of Tutu\\'s 80th birthday. Tutu and the Dalai Lama are recipients of the Nobel Peace Prize.\\n\\n\\n\\n\\n\\nTutu said he would pray for the defeat of South Africa\\'s government, led by the African National Congress (ANC), which is rooted in the fight against the system of apartheid, or legal racial separation, that was present in South Africa until 1994.\\n\\n\\n\\n\\n\\n\"You are disgraceful,\" Tutu said about the government. \"You are behaving in a way that is totally at variance with the things for which we stood.\"\\n\\n\\n\\n\\n\\nThe ANC plans to call on government officials to explain to South Africans why the visa process was delayed, spokesman Jackson Mtembu said. He said everyone was in the dark about this matter.\\n\\n\\n\\n\\n\\nBut he also suggested that Tutu calm down. A comparison to apartheid regimes, he said, was unfair.\\n\\n\\n\\n\\n\\nThis is not the first time the Dalai Lama has not been able to visit South Africa. In 2009, South Africa refused the Tibetan spiritual leader a visa to attend an international peace conference, saying it was not in the country\\'s interest for him to attend.\\n\\n\\n\\n\\n\\nIn refusing the 2009 application, South Africa said that if the Dalai Lama attended the conference, the focus would shift away from the 2010 World Cup, the global soccer championship it was hosting.\\n\\n\\n\\n\\n\\n\"We cannot allow focus to shift to China and Tibet,\" presidential spokesman Thabo Masebe said, adding that South Africa had gained much from its trading relationship with China.\\n\\n\\n\\n\\n\\nThe Dalai Lama fled Tibet in 1959 after a failed uprising against Chinese rule, and China pressures governments around the world to deny him any legitimacy.\\n\\n\\n\\n\\n\\nSpeculation surfaced Tuesday that this year\\'s visit was also affected by South Africa\\'s relationship with China.\\n\\n\\n\\n\\n\\nSouth African Vice President Kgalema Motlanthe visited Beijing last week and met with Chinese President Hu Jintao to discuss bolstering bilateral ties.\\n\\n\\n\\n\\n\\nMotlanthe said South Africa was ready to boost the strategic partnership between the two countries to a new stage, according to the official Chinese news agency Xinhua.\\n\\n\\n\\n\\n\\nBut Monyela said the application had nothing to do with China.\\n\\n\\n\\n\\n\\n\"We are a sovereign nation which takes decisions in our domestic interest,\" Monyela said.\\n\\n\\n\\n\\n\\nThe Dalai Lama posted a message on Twitter last week that said: \"Even if the Chinese leave nothing but ashes, Tibet will rise from these ashes as a free country even if it takes a long time to do so.\"\\n\\n\\n\\n\\n\\nKim Norgaard, CNN\\'s Johannesburg bureau chief, contributed to this report.'"
      ]
     },
     "execution_count": 7,
     "metadata": {},
     "output_type": "execute_result"
    }
   ],
   "source": [
    "second_doc = data['story_text'][2]\n",
    "second_doc"
   ]
  },
  {
   "cell_type": "code",
   "execution_count": 8,
   "metadata": {
    "ExecuteTime": {
     "end_time": "2019-06-17T06:02:55.298362Z",
     "start_time": "2019-06-17T06:02:55.292857Z"
    }
   },
   "outputs": [
    {
     "name": "stdout",
     "output_type": "stream",
     "text": [
      "Archbishop Desmond Tutu \n",
      "Desmond Tutu \n",
      "his spokesman \n"
     ]
    }
   ],
   "source": [
    "print(second_doc[103:127])\n",
    "print(second_doc[114:127])\n",
    "print(second_doc[839:853])"
   ]
  },
  {
   "cell_type": "markdown",
   "metadata": {},
   "source": [
    "Answers given by different human reviewers are in the answer_char_ranges column and the validated_answers column. These values are string index ranges within the document that represent the answer. For each row, we need to determine which character range is the best answer to use and extract it. There are a couple ways we could approach this problem, the first is to have a model that takes the question(str), the story(str), spits out an answer(str).\n",
    "\n",
    "or we could have it spit back out the string indexes themselves. "
   ]
  },
  {
   "cell_type": "code",
   "execution_count": 9,
   "metadata": {
    "ExecuteTime": {
     "end_time": "2019-06-17T06:02:57.405886Z",
     "start_time": "2019-06-17T06:02:57.370169Z"
    }
   },
   "outputs": [
    {
     "data": {
      "text/html": [
       "<div>\n",
       "<style scoped>\n",
       "    .dataframe tbody tr th:only-of-type {\n",
       "        vertical-align: middle;\n",
       "    }\n",
       "\n",
       "    .dataframe tbody tr th {\n",
       "        vertical-align: top;\n",
       "    }\n",
       "\n",
       "    .dataframe thead th {\n",
       "        text-align: right;\n",
       "    }\n",
       "</style>\n",
       "<table border=\"1\" class=\"dataframe\">\n",
       "  <thead>\n",
       "    <tr style=\"text-align: right;\">\n",
       "      <th></th>\n",
       "      <th>question</th>\n",
       "      <th>validated_answers</th>\n",
       "      <th>story_text</th>\n",
       "    </tr>\n",
       "  </thead>\n",
       "  <tbody>\n",
       "    <tr>\n",
       "      <th>0</th>\n",
       "      <td>What was the amount of children murdered?</td>\n",
       "      <td>{\"none\": 1, \"294:297\": 2}</td>\n",
       "      <td>NEW DELHI, India (CNN) -- A high court in nort...</td>\n",
       "    </tr>\n",
       "    <tr>\n",
       "      <th>2</th>\n",
       "      <td>who did say South Africa did not issue a visa ...</td>\n",
       "      <td>{\"839:853\": 1, \"103:127\": 2}</td>\n",
       "      <td>Johannesburg (CNN) -- Miffed by a visa delay t...</td>\n",
       "    </tr>\n",
       "    <tr>\n",
       "      <th>4</th>\n",
       "      <td>What frightened the families?</td>\n",
       "      <td>{\"688:791\": 2, \"690:742\": 1}</td>\n",
       "      <td>BAGHDAD, Iraq (CNN)  -- At least 6,000 Christi...</td>\n",
       "    </tr>\n",
       "    <tr>\n",
       "      <th>6</th>\n",
       "      <td>Who is hiring?</td>\n",
       "      <td>{\"301:324\": 2}</td>\n",
       "      <td>CNN affiliates report on where job seekers are...</td>\n",
       "    </tr>\n",
       "    <tr>\n",
       "      <th>8</th>\n",
       "      <td>Iran criticizes who?</td>\n",
       "      <td>{\"63:97\": 2}</td>\n",
       "      <td>TEHRAN, Iran (CNN) -- Iran's parliament speake...</td>\n",
       "    </tr>\n",
       "  </tbody>\n",
       "</table>\n",
       "</div>"
      ],
      "text/plain": [
       "                                            question  \\\n",
       "0          What was the amount of children murdered?   \n",
       "2  who did say South Africa did not issue a visa ...   \n",
       "4                      What frightened the families?   \n",
       "6                                     Who is hiring?   \n",
       "8                               Iran criticizes who?   \n",
       "\n",
       "              validated_answers  \\\n",
       "0     {\"none\": 1, \"294:297\": 2}   \n",
       "2  {\"839:853\": 1, \"103:127\": 2}   \n",
       "4  {\"688:791\": 2, \"690:742\": 1}   \n",
       "6                {\"301:324\": 2}   \n",
       "8                  {\"63:97\": 2}   \n",
       "\n",
       "                                          story_text  \n",
       "0  NEW DELHI, India (CNN) -- A high court in nort...  \n",
       "2  Johannesburg (CNN) -- Miffed by a visa delay t...  \n",
       "4  BAGHDAD, Iraq (CNN)  -- At least 6,000 Christi...  \n",
       "6  CNN affiliates report on where job seekers are...  \n",
       "8  TEHRAN, Iran (CNN) -- Iran's parliament speake...  "
      ]
     },
     "execution_count": 9,
     "metadata": {},
     "output_type": "execute_result"
    }
   ],
   "source": [
    "# Remove uneeded columns\n",
    "df = data[['question','validated_answers','story_text']]\n",
    "df = df.dropna()\n",
    "df = df.iloc[0:50000] # reduce size for development purposes\n",
    "\n",
    "df.head()"
   ]
  },
  {
   "cell_type": "code",
   "execution_count": 10,
   "metadata": {
    "ExecuteTime": {
     "end_time": "2019-06-17T06:02:59.537193Z",
     "start_time": "2019-06-17T06:02:59.527978Z"
    }
   },
   "outputs": [
    {
     "name": "stdout",
     "output_type": "stream",
     "text": [
      "42317\n"
     ]
    },
    {
     "data": {
      "text/html": [
       "<div>\n",
       "<style scoped>\n",
       "    .dataframe tbody tr th:only-of-type {\n",
       "        vertical-align: middle;\n",
       "    }\n",
       "\n",
       "    .dataframe tbody tr th {\n",
       "        vertical-align: top;\n",
       "    }\n",
       "\n",
       "    .dataframe thead th {\n",
       "        text-align: right;\n",
       "    }\n",
       "</style>\n",
       "<table border=\"1\" class=\"dataframe\">\n",
       "  <thead>\n",
       "    <tr style=\"text-align: right;\">\n",
       "      <th></th>\n",
       "      <th>question</th>\n",
       "      <th>validated_answers</th>\n",
       "      <th>story_text</th>\n",
       "      <th>start_truth</th>\n",
       "      <th>end_truth</th>\n",
       "    </tr>\n",
       "  </thead>\n",
       "  <tbody>\n",
       "    <tr>\n",
       "      <th>0</th>\n",
       "      <td>What was the amount of children murdered?</td>\n",
       "      <td>{\"none\": 1, \"294:297\": 2}</td>\n",
       "      <td>NEW DELHI, India (CNN) -- A high court in nort...</td>\n",
       "      <td>294.0</td>\n",
       "      <td>297.0</td>\n",
       "    </tr>\n",
       "    <tr>\n",
       "      <th>2</th>\n",
       "      <td>who did say South Africa did not issue a visa ...</td>\n",
       "      <td>{\"839:853\": 1, \"103:127\": 2}</td>\n",
       "      <td>Johannesburg (CNN) -- Miffed by a visa delay t...</td>\n",
       "      <td>103.0</td>\n",
       "      <td>127.0</td>\n",
       "    </tr>\n",
       "    <tr>\n",
       "      <th>4</th>\n",
       "      <td>What frightened the families?</td>\n",
       "      <td>{\"688:791\": 2, \"690:742\": 1}</td>\n",
       "      <td>BAGHDAD, Iraq (CNN)  -- At least 6,000 Christi...</td>\n",
       "      <td>688.0</td>\n",
       "      <td>791.0</td>\n",
       "    </tr>\n",
       "    <tr>\n",
       "      <th>6</th>\n",
       "      <td>Who is hiring?</td>\n",
       "      <td>{\"301:324\": 2}</td>\n",
       "      <td>CNN affiliates report on where job seekers are...</td>\n",
       "      <td>301.0</td>\n",
       "      <td>324.0</td>\n",
       "    </tr>\n",
       "    <tr>\n",
       "      <th>8</th>\n",
       "      <td>Iran criticizes who?</td>\n",
       "      <td>{\"63:97\": 2}</td>\n",
       "      <td>TEHRAN, Iran (CNN) -- Iran's parliament speake...</td>\n",
       "      <td>63.0</td>\n",
       "      <td>97.0</td>\n",
       "    </tr>\n",
       "  </tbody>\n",
       "</table>\n",
       "</div>"
      ],
      "text/plain": [
       "                                            question  \\\n",
       "0          What was the amount of children murdered?   \n",
       "2  who did say South Africa did not issue a visa ...   \n",
       "4                      What frightened the families?   \n",
       "6                                     Who is hiring?   \n",
       "8                               Iran criticizes who?   \n",
       "\n",
       "              validated_answers  \\\n",
       "0     {\"none\": 1, \"294:297\": 2}   \n",
       "2  {\"839:853\": 1, \"103:127\": 2}   \n",
       "4  {\"688:791\": 2, \"690:742\": 1}   \n",
       "6                {\"301:324\": 2}   \n",
       "8                  {\"63:97\": 2}   \n",
       "\n",
       "                                          story_text  start_truth  end_truth  \n",
       "0  NEW DELHI, India (CNN) -- A high court in nort...        294.0      297.0  \n",
       "2  Johannesburg (CNN) -- Miffed by a visa delay t...        103.0      127.0  \n",
       "4  BAGHDAD, Iraq (CNN)  -- At least 6,000 Christi...        688.0      791.0  \n",
       "6  CNN affiliates report on where job seekers are...        301.0      324.0  \n",
       "8  TEHRAN, Iran (CNN) -- Iran's parliament speake...         63.0       97.0  "
      ]
     },
     "execution_count": 10,
     "metadata": {},
     "output_type": "execute_result"
    }
   ],
   "source": [
    "# loops through the rows and prints the question along with the first answer given\n",
    "start_truth = []\n",
    "end_truth = []\n",
    "for i, row in df.iterrows():\n",
    "    try:\n",
    "        answers = ast.literal_eval(row['validated_answers'])\n",
    "        sorted_ans = sorted(answers.items(), key=operator.itemgetter(1), reverse=True)\n",
    "        #print(sorted_ans)\n",
    "        start, end = sorted_ans[0][0].split(':')\n",
    "        start_truth.append(int(start))\n",
    "        end_truth.append(int(end))\n",
    "    except ValueError:\n",
    "        start_truth.append(np.nan)\n",
    "        end_truth.append(np.nan)\n",
    "        pass\n",
    "df['start_truth'] = start_truth\n",
    "df['end_truth'] = end_truth\n",
    "df = df.dropna()\n",
    "print(len(df))\n",
    "df.head()"
   ]
  },
  {
   "cell_type": "code",
   "execution_count": 11,
   "metadata": {
    "scrolled": false
   },
   "outputs": [
    {
     "data": {
      "text/html": [
       "<div>\n",
       "<style scoped>\n",
       "    .dataframe tbody tr th:only-of-type {\n",
       "        vertical-align: middle;\n",
       "    }\n",
       "\n",
       "    .dataframe tbody tr th {\n",
       "        vertical-align: top;\n",
       "    }\n",
       "\n",
       "    .dataframe thead th {\n",
       "        text-align: right;\n",
       "    }\n",
       "</style>\n",
       "<table border=\"1\" class=\"dataframe\">\n",
       "  <thead>\n",
       "    <tr style=\"text-align: right;\">\n",
       "      <th></th>\n",
       "      <th>question</th>\n",
       "      <th>story_text</th>\n",
       "      <th>start_truth</th>\n",
       "      <th>end_truth</th>\n",
       "      <th>ss</th>\n",
       "    </tr>\n",
       "  </thead>\n",
       "  <tbody>\n",
       "    <tr>\n",
       "      <th>0</th>\n",
       "      <td>What was the amount of children murdered?</td>\n",
       "      <td>NEW DELHI, India (CNN) -- A high court in nort...</td>\n",
       "      <td>294.0</td>\n",
       "      <td>297.0</td>\n",
       "      <td>0.0</td>\n",
       "    </tr>\n",
       "    <tr>\n",
       "      <th>2</th>\n",
       "      <td>who did say South Africa did not issue a visa ...</td>\n",
       "      <td>Johannesburg (CNN) -- Miffed by a visa delay t...</td>\n",
       "      <td>103.0</td>\n",
       "      <td>127.0</td>\n",
       "      <td>0.0</td>\n",
       "    </tr>\n",
       "    <tr>\n",
       "      <th>4</th>\n",
       "      <td>What frightened the families?</td>\n",
       "      <td>BAGHDAD, Iraq (CNN)  -- At least 6,000 Christi...</td>\n",
       "      <td>688.0</td>\n",
       "      <td>791.0</td>\n",
       "      <td>0.0</td>\n",
       "    </tr>\n",
       "    <tr>\n",
       "      <th>6</th>\n",
       "      <td>Who is hiring?</td>\n",
       "      <td>CNN affiliates report on where job seekers are...</td>\n",
       "      <td>301.0</td>\n",
       "      <td>324.0</td>\n",
       "      <td>0.0</td>\n",
       "    </tr>\n",
       "    <tr>\n",
       "      <th>8</th>\n",
       "      <td>Iran criticizes who?</td>\n",
       "      <td>TEHRAN, Iran (CNN) -- Iran's parliament speake...</td>\n",
       "      <td>63.0</td>\n",
       "      <td>97.0</td>\n",
       "      <td>0.0</td>\n",
       "    </tr>\n",
       "  </tbody>\n",
       "</table>\n",
       "</div>"
      ],
      "text/plain": [
       "                                            question  \\\n",
       "0          What was the amount of children murdered?   \n",
       "2  who did say South Africa did not issue a visa ...   \n",
       "4                      What frightened the families?   \n",
       "6                                     Who is hiring?   \n",
       "8                               Iran criticizes who?   \n",
       "\n",
       "                                          story_text  start_truth  end_truth  \\\n",
       "0  NEW DELHI, India (CNN) -- A high court in nort...        294.0      297.0   \n",
       "2  Johannesburg (CNN) -- Miffed by a visa delay t...        103.0      127.0   \n",
       "4  BAGHDAD, Iraq (CNN)  -- At least 6,000 Christi...        688.0      791.0   \n",
       "6  CNN affiliates report on where job seekers are...        301.0      324.0   \n",
       "8  TEHRAN, Iran (CNN) -- Iran's parliament speake...         63.0       97.0   \n",
       "\n",
       "    ss  \n",
       "0  0.0  \n",
       "2  0.0  \n",
       "4  0.0  \n",
       "6  0.0  \n",
       "8  0.0  "
      ]
     },
     "execution_count": 11,
     "metadata": {},
     "output_type": "execute_result"
    }
   ],
   "source": [
    "final = df.drop(columns=['validated_answers'])\n",
    "final['ss'] = np.zeros(len(final))\n",
    "final.head()"
   ]
  },
  {
   "cell_type": "markdown",
   "metadata": {},
   "source": [
    "## Char-level embeddings"
   ]
  },
  {
   "cell_type": "code",
   "execution_count": 12,
   "metadata": {},
   "outputs": [
    {
     "data": {
      "text/plain": [
       "('h', ']', '?', 'à', 'k')"
      ]
     },
     "execution_count": 12,
     "metadata": {},
     "output_type": "execute_result"
    }
   ],
   "source": [
    "full_text = ''\n",
    "m = 0\n",
    "len_nums = []\n",
    "\n",
    "for col in ['question','story_text']:\n",
    "    for text in final[col]:\n",
    "        m = max(m, len(text))\n",
    "        full_text += text.lower()\n",
    "    \n",
    "    len_nums.append(m)\n",
    "    m = 0\n",
    "    \n",
    "# get the set of all characters\n",
    "characters = tuple(set(full_text))\n",
    "characters[:5]"
   ]
  },
  {
   "cell_type": "code",
   "execution_count": 13,
   "metadata": {},
   "outputs": [
    {
     "name": "stdout",
     "output_type": "stream",
     "text": [
      "{'h': 0, ']': 1, '?': 2, 'à': 3, 'k': 4, '+': 5, 'ú': 6, '\\xad': 7, 'ç': 8, '€': 9, '\\n': 10, 'ò': 11, '7': 12, '¶': 13, '@': 14, '3': 15, ')': 16, 'ġ': 17, '^': 18, '\\xa0': 19, 'ã': 20, 't': 21, 'q': 22, '6': 23, '&': 24, 'e': 25, 'ó': 26, 'ø': 27, '¾': 28, 'l': 29, '#': 30, '«': 31, '‰': 32, ',': 33, 'b': 34, 'c': 35, '¿': 36, '±': 37, 'w': 38, '!': 39, 'x': 40, '>': 41, '»': 42, '½': 43, 'y': 44, 'g': 45, '\"': 46, 'ł': 47, 'ñ': 48, '„': 49, 's': 50, 'þ': 51, 'å': 52, '/': 53, '´': 54, 'é': 55, 'ô': 56, ':': 57, '-': 58, '%': 59, 'n': 60, 'ħ': 61, 'f': 62, '°': 63, 'â': 64, '$': 65, 'v': 66, '®': 67, '9': 68, 'á': 69, '.': 70, '¬': 71, 'æ': 72, '[': 73, 'z': 74, 'º': 75, '¹': 76, 'o': 77, '£': 78, 'ï': 79, '4': 80, '¨': 81, '—': 82, 'd': 83, 'ş': 84, 'ö': 85, '”': 86, '×': 87, '′': 88, '(': 89, '\\u202a': 90, 'ù': 91, '•': 92, 'ÿ': 93, '·': 94, '*': 95, '¢': 96, '¼': 97, '|': 98, '1': 99, '²': 100, 'r': 101, '`': 102, 'è': 103, '<': 104, 'm': 105, '8': 106, '_': 107, 'û': 108, '\\u202c': 109, '§': 110, '2': 111, '\\x7f': 112, '5': 113, 'i': 114, '¥': 115, '¯': 116, '=': 117, 'ê': 118, 'u': 119, ' ': 120, 'í': 121, 'p': 122, ';': 123, 'ś': 124, 'ü': 125, 'ä': 126, '³': 127, '©': 128, '‚': 129, '¡': 130, \"'\": 131, 'a': 132, 'ţ': 133, '0': 134, '}': 135, '\\\\': 136, 'ż': 137, 'î': 138, 'j': 139, 'ë': 140, 'õ': 141}\n"
     ]
    }
   ],
   "source": [
    "# use enumeration to give the characters integer values\n",
    "int2char = dict(enumerate(characters))\n",
    "\n",
    "# create the look up dictionary from characters to the assigned integers\n",
    "char2int = {char: index for index, char in int2char.items()}\n",
    "print(char2int)"
   ]
  },
  {
   "cell_type": "code",
   "execution_count": 14,
   "metadata": {},
   "outputs": [
    {
     "name": "stdout",
     "output_type": "stream",
     "text": [
      "233 11349\n"
     ]
    }
   ],
   "source": [
    "q_max, story_max = len_nums\n",
    "print(q_max, story_max)"
   ]
  },
  {
   "cell_type": "code",
   "execution_count": 15,
   "metadata": {},
   "outputs": [],
   "source": [
    "final['question'] = final['question'].apply(lambda x: np.array([char2int[char] for char in x.lower()]))\n",
    "final['story_text'] = final['story_text'].apply(lambda x: np.array([char2int[char] for char in x.lower()]))"
   ]
  },
  {
   "cell_type": "code",
   "execution_count": 16,
   "metadata": {},
   "outputs": [
    {
     "data": {
      "text/html": [
       "<div>\n",
       "<style scoped>\n",
       "    .dataframe tbody tr th:only-of-type {\n",
       "        vertical-align: middle;\n",
       "    }\n",
       "\n",
       "    .dataframe tbody tr th {\n",
       "        vertical-align: top;\n",
       "    }\n",
       "\n",
       "    .dataframe thead th {\n",
       "        text-align: right;\n",
       "    }\n",
       "</style>\n",
       "<table border=\"1\" class=\"dataframe\">\n",
       "  <thead>\n",
       "    <tr style=\"text-align: right;\">\n",
       "      <th></th>\n",
       "      <th>question</th>\n",
       "      <th>story_text</th>\n",
       "      <th>start_truth</th>\n",
       "      <th>end_truth</th>\n",
       "      <th>ss</th>\n",
       "    </tr>\n",
       "  </thead>\n",
       "  <tbody>\n",
       "    <tr>\n",
       "      <th>0</th>\n",
       "      <td>[38, 0, 132, 21, 120, 38, 132, 50, 120, 21, 0,...</td>\n",
       "      <td>[60, 25, 38, 120, 83, 25, 29, 0, 114, 33, 120,...</td>\n",
       "      <td>294.0</td>\n",
       "      <td>297.0</td>\n",
       "      <td>0.0</td>\n",
       "    </tr>\n",
       "    <tr>\n",
       "      <th>2</th>\n",
       "      <td>[38, 0, 77, 120, 83, 114, 83, 120, 50, 132, 44...</td>\n",
       "      <td>[139, 77, 0, 132, 60, 60, 25, 50, 34, 119, 101...</td>\n",
       "      <td>103.0</td>\n",
       "      <td>127.0</td>\n",
       "      <td>0.0</td>\n",
       "    </tr>\n",
       "    <tr>\n",
       "      <th>4</th>\n",
       "      <td>[38, 0, 132, 21, 120, 62, 101, 114, 45, 0, 21,...</td>\n",
       "      <td>[34, 132, 45, 0, 83, 132, 83, 33, 120, 114, 10...</td>\n",
       "      <td>688.0</td>\n",
       "      <td>791.0</td>\n",
       "      <td>0.0</td>\n",
       "    </tr>\n",
       "    <tr>\n",
       "      <th>6</th>\n",
       "      <td>[38, 0, 77, 120, 114, 50, 120, 0, 114, 101, 11...</td>\n",
       "      <td>[35, 60, 60, 120, 132, 62, 62, 114, 29, 114, 1...</td>\n",
       "      <td>301.0</td>\n",
       "      <td>324.0</td>\n",
       "      <td>0.0</td>\n",
       "    </tr>\n",
       "    <tr>\n",
       "      <th>8</th>\n",
       "      <td>[114, 101, 132, 60, 120, 35, 101, 114, 21, 114...</td>\n",
       "      <td>[21, 25, 0, 101, 132, 60, 33, 120, 114, 101, 1...</td>\n",
       "      <td>63.0</td>\n",
       "      <td>97.0</td>\n",
       "      <td>0.0</td>\n",
       "    </tr>\n",
       "  </tbody>\n",
       "</table>\n",
       "</div>"
      ],
      "text/plain": [
       "                                            question  \\\n",
       "0  [38, 0, 132, 21, 120, 38, 132, 50, 120, 21, 0,...   \n",
       "2  [38, 0, 77, 120, 83, 114, 83, 120, 50, 132, 44...   \n",
       "4  [38, 0, 132, 21, 120, 62, 101, 114, 45, 0, 21,...   \n",
       "6  [38, 0, 77, 120, 114, 50, 120, 0, 114, 101, 11...   \n",
       "8  [114, 101, 132, 60, 120, 35, 101, 114, 21, 114...   \n",
       "\n",
       "                                          story_text  start_truth  end_truth  \\\n",
       "0  [60, 25, 38, 120, 83, 25, 29, 0, 114, 33, 120,...        294.0      297.0   \n",
       "2  [139, 77, 0, 132, 60, 60, 25, 50, 34, 119, 101...        103.0      127.0   \n",
       "4  [34, 132, 45, 0, 83, 132, 83, 33, 120, 114, 10...        688.0      791.0   \n",
       "6  [35, 60, 60, 120, 132, 62, 62, 114, 29, 114, 1...        301.0      324.0   \n",
       "8  [21, 25, 0, 101, 132, 60, 33, 120, 114, 101, 1...         63.0       97.0   \n",
       "\n",
       "    ss  \n",
       "0  0.0  \n",
       "2  0.0  \n",
       "4  0.0  \n",
       "6  0.0  \n",
       "8  0.0  "
      ]
     },
     "execution_count": 16,
     "metadata": {},
     "output_type": "execute_result"
    }
   ],
   "source": [
    "final.head()"
   ]
  },
  {
   "cell_type": "code",
   "execution_count": 17,
   "metadata": {},
   "outputs": [],
   "source": [
    "def find_s(seq):\n",
    "    for i, char in enumerate(seq):\n",
    "        if char == 0:\n",
    "            continue\n",
    "        else: return i"
   ]
  },
  {
   "cell_type": "code",
   "execution_count": 18,
   "metadata": {
    "scrolled": false
   },
   "outputs": [
    {
     "data": {
      "text/html": [
       "<div>\n",
       "<style scoped>\n",
       "    .dataframe tbody tr th:only-of-type {\n",
       "        vertical-align: middle;\n",
       "    }\n",
       "\n",
       "    .dataframe tbody tr th {\n",
       "        vertical-align: top;\n",
       "    }\n",
       "\n",
       "    .dataframe thead th {\n",
       "        text-align: right;\n",
       "    }\n",
       "</style>\n",
       "<table border=\"1\" class=\"dataframe\">\n",
       "  <thead>\n",
       "    <tr style=\"text-align: right;\">\n",
       "      <th></th>\n",
       "      <th>question</th>\n",
       "      <th>story_text</th>\n",
       "      <th>start_truth</th>\n",
       "      <th>end_truth</th>\n",
       "      <th>ss</th>\n",
       "    </tr>\n",
       "  </thead>\n",
       "  <tbody>\n",
       "    <tr>\n",
       "      <th>0</th>\n",
       "      <td>[0, 0, 0, 0, 0, 0, 0, 0, 0, 0, 0, 0, 0, 0, 0, ...</td>\n",
       "      <td>[0, 0, 0, 0, 0, 0, 0, 0, 0, 0, 0, 0, 0, 0, 0, ...</td>\n",
       "      <td>294.0</td>\n",
       "      <td>297.0</td>\n",
       "      <td>10114.0</td>\n",
       "    </tr>\n",
       "    <tr>\n",
       "      <th>2</th>\n",
       "      <td>[0, 0, 0, 0, 0, 0, 0, 0, 0, 0, 0, 0, 0, 0, 0, ...</td>\n",
       "      <td>[0, 0, 0, 0, 0, 0, 0, 0, 0, 0, 0, 0, 0, 0, 0, ...</td>\n",
       "      <td>103.0</td>\n",
       "      <td>127.0</td>\n",
       "      <td>7243.0</td>\n",
       "    </tr>\n",
       "    <tr>\n",
       "      <th>4</th>\n",
       "      <td>[0, 0, 0, 0, 0, 0, 0, 0, 0, 0, 0, 0, 0, 0, 0, ...</td>\n",
       "      <td>[0, 0, 0, 0, 0, 0, 0, 0, 0, 0, 0, 0, 0, 0, 0, ...</td>\n",
       "      <td>688.0</td>\n",
       "      <td>791.0</td>\n",
       "      <td>9077.0</td>\n",
       "    </tr>\n",
       "    <tr>\n",
       "      <th>6</th>\n",
       "      <td>[0, 0, 0, 0, 0, 0, 0, 0, 0, 0, 0, 0, 0, 0, 0, ...</td>\n",
       "      <td>[0, 0, 0, 0, 0, 0, 0, 0, 0, 0, 0, 0, 0, 0, 0, ...</td>\n",
       "      <td>301.0</td>\n",
       "      <td>324.0</td>\n",
       "      <td>5733.0</td>\n",
       "    </tr>\n",
       "    <tr>\n",
       "      <th>8</th>\n",
       "      <td>[0, 0, 0, 0, 0, 0, 0, 0, 0, 0, 0, 0, 0, 0, 0, ...</td>\n",
       "      <td>[0, 0, 0, 0, 0, 0, 0, 0, 0, 0, 0, 0, 0, 0, 0, ...</td>\n",
       "      <td>63.0</td>\n",
       "      <td>97.0</td>\n",
       "      <td>8539.0</td>\n",
       "    </tr>\n",
       "  </tbody>\n",
       "</table>\n",
       "</div>"
      ],
      "text/plain": [
       "                                            question  \\\n",
       "0  [0, 0, 0, 0, 0, 0, 0, 0, 0, 0, 0, 0, 0, 0, 0, ...   \n",
       "2  [0, 0, 0, 0, 0, 0, 0, 0, 0, 0, 0, 0, 0, 0, 0, ...   \n",
       "4  [0, 0, 0, 0, 0, 0, 0, 0, 0, 0, 0, 0, 0, 0, 0, ...   \n",
       "6  [0, 0, 0, 0, 0, 0, 0, 0, 0, 0, 0, 0, 0, 0, 0, ...   \n",
       "8  [0, 0, 0, 0, 0, 0, 0, 0, 0, 0, 0, 0, 0, 0, 0, ...   \n",
       "\n",
       "                                          story_text  start_truth  end_truth  \\\n",
       "0  [0, 0, 0, 0, 0, 0, 0, 0, 0, 0, 0, 0, 0, 0, 0, ...        294.0      297.0   \n",
       "2  [0, 0, 0, 0, 0, 0, 0, 0, 0, 0, 0, 0, 0, 0, 0, ...        103.0      127.0   \n",
       "4  [0, 0, 0, 0, 0, 0, 0, 0, 0, 0, 0, 0, 0, 0, 0, ...        688.0      791.0   \n",
       "6  [0, 0, 0, 0, 0, 0, 0, 0, 0, 0, 0, 0, 0, 0, 0, ...        301.0      324.0   \n",
       "8  [0, 0, 0, 0, 0, 0, 0, 0, 0, 0, 0, 0, 0, 0, 0, ...         63.0       97.0   \n",
       "\n",
       "        ss  \n",
       "0  10114.0  \n",
       "2   7243.0  \n",
       "4   9077.0  \n",
       "6   5733.0  \n",
       "8   8539.0  "
      ]
     },
     "execution_count": 18,
     "metadata": {},
     "output_type": "execute_result"
    }
   ],
   "source": [
    "padding_start = False\n",
    "\n",
    "for i, row in final.iterrows():\n",
    "    for col, N in zip(['question','story_text'], [q_max, story_max]):\n",
    "        enc = np.zeros(N, dtype=np.int32)\n",
    "        \n",
    "        # row[col] = np.array([char2int[char] for char in row[col].lower()])\n",
    "        l = min(N, len(row[col]))\n",
    "        \n",
    "        if padding_start:\n",
    "            enc[:l] = row[col][:l]\n",
    "        else:\n",
    "            enc[N-l:] = row[col][:l]\n",
    "        \n",
    "        final.at[i, col] = enc\n",
    "        final.at[i, 'ss'] = N-l\n",
    "\n",
    "final.head()"
   ]
  },
  {
   "cell_type": "code",
   "execution_count": 19,
   "metadata": {
    "scrolled": true
   },
   "outputs": [
    {
     "name": "stdout",
     "output_type": "stream",
     "text": [
      "[  0   0   0 ... 101  21  70]\n",
      "7243\n"
     ]
    }
   ],
   "source": [
    "print(final.iloc[1,1])\n",
    "print(find_s(final.iloc[1,1]))\n",
    "# find_s([0,0,0,0,0,0,1,2,4])"
   ]
  },
  {
   "cell_type": "markdown",
   "metadata": {},
   "source": [
    "## Train/Test Split"
   ]
  },
  {
   "cell_type": "code",
   "execution_count": 20,
   "metadata": {},
   "outputs": [],
   "source": [
    "from sklearn.model_selection import train_test_split\n",
    "\n",
    "X_train, X_test, y_train, y_test = train_test_split(final[['question', 'story_text', 'ss']], \n",
    "                                                    final[['start_truth','end_truth']], \n",
    "                                                    test_size=0.3, \n",
    "                                                    random_state=42)"
   ]
  },
  {
   "cell_type": "code",
   "execution_count": 21,
   "metadata": {},
   "outputs": [
    {
     "name": "stdout",
     "output_type": "stream",
     "text": [
      "Int64Index([ 82545,  14722,  19613,  44594,  57438,   6939,  52626,  19717,\n",
      "             13048,  56506,\n",
      "            ...\n",
      "            112796,  44232,  60295, 102334,  46461,  17310,  31261, 104913,\n",
      "              2295,  43564],\n",
      "           dtype='int64', length=29621)\n"
     ]
    },
    {
     "data": {
      "text/html": [
       "<div>\n",
       "<style scoped>\n",
       "    .dataframe tbody tr th:only-of-type {\n",
       "        vertical-align: middle;\n",
       "    }\n",
       "\n",
       "    .dataframe tbody tr th {\n",
       "        vertical-align: top;\n",
       "    }\n",
       "\n",
       "    .dataframe thead th {\n",
       "        text-align: right;\n",
       "    }\n",
       "</style>\n",
       "<table border=\"1\" class=\"dataframe\">\n",
       "  <thead>\n",
       "    <tr style=\"text-align: right;\">\n",
       "      <th></th>\n",
       "      <th>question</th>\n",
       "      <th>story_text</th>\n",
       "      <th>ss</th>\n",
       "    </tr>\n",
       "  </thead>\n",
       "  <tbody>\n",
       "    <tr>\n",
       "      <th>82545</th>\n",
       "      <td>[0, 0, 0, 0, 0, 0, 0, 0, 0, 0, 0, 0, 0, 0, 0, ...</td>\n",
       "      <td>[0, 0, 0, 0, 0, 0, 0, 0, 0, 0, 0, 0, 0, 0, 0, ...</td>\n",
       "      <td>9793.0</td>\n",
       "    </tr>\n",
       "    <tr>\n",
       "      <th>14722</th>\n",
       "      <td>[0, 0, 0, 0, 0, 0, 0, 0, 0, 0, 0, 0, 0, 0, 0, ...</td>\n",
       "      <td>[0, 0, 0, 0, 0, 0, 0, 0, 0, 0, 0, 0, 0, 0, 0, ...</td>\n",
       "      <td>7772.0</td>\n",
       "    </tr>\n",
       "    <tr>\n",
       "      <th>19613</th>\n",
       "      <td>[0, 0, 0, 0, 0, 0, 0, 0, 0, 0, 0, 0, 0, 0, 0, ...</td>\n",
       "      <td>[0, 0, 0, 0, 0, 0, 0, 0, 0, 0, 0, 0, 0, 0, 0, ...</td>\n",
       "      <td>6076.0</td>\n",
       "    </tr>\n",
       "    <tr>\n",
       "      <th>44594</th>\n",
       "      <td>[0, 0, 0, 0, 0, 0, 0, 0, 0, 0, 0, 0, 0, 0, 0, ...</td>\n",
       "      <td>[0, 0, 0, 0, 0, 0, 0, 0, 0, 0, 0, 0, 0, 0, 0, ...</td>\n",
       "      <td>9152.0</td>\n",
       "    </tr>\n",
       "    <tr>\n",
       "      <th>57438</th>\n",
       "      <td>[0, 0, 0, 0, 0, 0, 0, 0, 0, 0, 0, 0, 0, 0, 0, ...</td>\n",
       "      <td>[0, 0, 0, 0, 0, 0, 0, 0, 0, 0, 0, 0, 0, 0, 0, ...</td>\n",
       "      <td>8835.0</td>\n",
       "    </tr>\n",
       "  </tbody>\n",
       "</table>\n",
       "</div>"
      ],
      "text/plain": [
       "                                                question  \\\n",
       "82545  [0, 0, 0, 0, 0, 0, 0, 0, 0, 0, 0, 0, 0, 0, 0, ...   \n",
       "14722  [0, 0, 0, 0, 0, 0, 0, 0, 0, 0, 0, 0, 0, 0, 0, ...   \n",
       "19613  [0, 0, 0, 0, 0, 0, 0, 0, 0, 0, 0, 0, 0, 0, 0, ...   \n",
       "44594  [0, 0, 0, 0, 0, 0, 0, 0, 0, 0, 0, 0, 0, 0, 0, ...   \n",
       "57438  [0, 0, 0, 0, 0, 0, 0, 0, 0, 0, 0, 0, 0, 0, 0, ...   \n",
       "\n",
       "                                              story_text      ss  \n",
       "82545  [0, 0, 0, 0, 0, 0, 0, 0, 0, 0, 0, 0, 0, 0, 0, ...  9793.0  \n",
       "14722  [0, 0, 0, 0, 0, 0, 0, 0, 0, 0, 0, 0, 0, 0, 0, ...  7772.0  \n",
       "19613  [0, 0, 0, 0, 0, 0, 0, 0, 0, 0, 0, 0, 0, 0, 0, ...  6076.0  \n",
       "44594  [0, 0, 0, 0, 0, 0, 0, 0, 0, 0, 0, 0, 0, 0, 0, ...  9152.0  \n",
       "57438  [0, 0, 0, 0, 0, 0, 0, 0, 0, 0, 0, 0, 0, 0, 0, ...  8835.0  "
      ]
     },
     "execution_count": 21,
     "metadata": {},
     "output_type": "execute_result"
    }
   ],
   "source": [
    "print(X_train.index)\n",
    "X_train.head()"
   ]
  },
  {
   "cell_type": "code",
   "execution_count": 22,
   "metadata": {},
   "outputs": [
    {
     "data": {
      "text/plain": [
       "6.0"
      ]
     },
     "execution_count": 22,
     "metadata": {},
     "output_type": "execute_result"
    }
   ],
   "source": [
    "min(y_train.end_truth)"
   ]
  },
  {
   "cell_type": "code",
   "execution_count": 23,
   "metadata": {},
   "outputs": [
    {
     "data": {
      "text/plain": [
       "29621"
      ]
     },
     "execution_count": 23,
     "metadata": {},
     "output_type": "execute_result"
    }
   ],
   "source": [
    "len(X_train)"
   ]
  },
  {
   "cell_type": "code",
   "execution_count": 24,
   "metadata": {},
   "outputs": [
    {
     "data": {
      "text/html": [
       "<div>\n",
       "<style scoped>\n",
       "    .dataframe tbody tr th:only-of-type {\n",
       "        vertical-align: middle;\n",
       "    }\n",
       "\n",
       "    .dataframe tbody tr th {\n",
       "        vertical-align: top;\n",
       "    }\n",
       "\n",
       "    .dataframe thead th {\n",
       "        text-align: right;\n",
       "    }\n",
       "</style>\n",
       "<table border=\"1\" class=\"dataframe\">\n",
       "  <thead>\n",
       "    <tr style=\"text-align: right;\">\n",
       "      <th></th>\n",
       "      <th>start_truth</th>\n",
       "      <th>end_truth</th>\n",
       "    </tr>\n",
       "  </thead>\n",
       "  <tbody>\n",
       "    <tr>\n",
       "      <th>82545</th>\n",
       "      <td>1015.0</td>\n",
       "      <td>1051.0</td>\n",
       "    </tr>\n",
       "    <tr>\n",
       "      <th>14722</th>\n",
       "      <td>1751.0</td>\n",
       "      <td>1765.0</td>\n",
       "    </tr>\n",
       "    <tr>\n",
       "      <th>19613</th>\n",
       "      <td>1321.0</td>\n",
       "      <td>1333.0</td>\n",
       "    </tr>\n",
       "    <tr>\n",
       "      <th>44594</th>\n",
       "      <td>755.0</td>\n",
       "      <td>801.0</td>\n",
       "    </tr>\n",
       "    <tr>\n",
       "      <th>57438</th>\n",
       "      <td>211.0</td>\n",
       "      <td>245.0</td>\n",
       "    </tr>\n",
       "  </tbody>\n",
       "</table>\n",
       "</div>"
      ],
      "text/plain": [
       "       start_truth  end_truth\n",
       "82545       1015.0     1051.0\n",
       "14722       1751.0     1765.0\n",
       "19613       1321.0     1333.0\n",
       "44594        755.0      801.0\n",
       "57438        211.0      245.0"
      ]
     },
     "execution_count": 24,
     "metadata": {},
     "output_type": "execute_result"
    }
   ],
   "source": [
    "y_train.head()"
   ]
  },
  {
   "cell_type": "markdown",
   "metadata": {},
   "source": [
    "## Dataset"
   ]
  },
  {
   "cell_type": "code",
   "execution_count": 25,
   "metadata": {},
   "outputs": [],
   "source": [
    "class NewsQADataset(Dataset):\n",
    "    def __init__(self, X, y, N=400, padding_start=False):\n",
    "        self.start = y['start_truth'].values\n",
    "        self.end = y['end_truth'].values\n",
    "        self.question = X['question'].values\n",
    "        self.story_text = X['story_text'].values\n",
    "        self.ss = X['ss'].values\n",
    "        \n",
    "    def __len__(self):\n",
    "        return len(self.question)\n",
    "    \n",
    "    def __getitem__(self, idx):\n",
    "        #print(self.question)\n",
    "        #qs = np.array([find_s(seq) for seq in self.question])\n",
    "        # ss = np.array([find_s(seq) for seq in self.story_text])\n",
    "        return self.question[idx], self.story_text[idx], self.start[idx] + self.ss[idx], self.end[idx] + self.ss[idx]"
   ]
  },
  {
   "cell_type": "code",
   "execution_count": 26,
   "metadata": {},
   "outputs": [],
   "source": [
    "train_ds = NewsQADataset(X_train, y_train)\n",
    "test_ds = NewsQADataset(X_test, y_test)"
   ]
  },
  {
   "cell_type": "code",
   "execution_count": 27,
   "metadata": {},
   "outputs": [
    {
     "data": {
      "text/plain": [
       "(array([  0,   0,   0,   0,   0,   0,   0,   0,   0,   0,   0,   0,   0,\n",
       "          0,   0,   0,   0,   0,   0,   0,   0,   0,   0,   0,   0,   0,\n",
       "          0,   0,   0,   0,   0,   0,   0,   0,   0,   0,   0,   0,   0,\n",
       "          0,   0,   0,   0,   0,   0,   0,   0,   0,   0,   0,   0,   0,\n",
       "          0,   0,   0,   0,   0,   0,   0,   0,   0,   0,   0,   0,   0,\n",
       "          0,   0,   0,   0,   0,   0,   0,   0,   0,   0,   0,   0,   0,\n",
       "          0,   0,   0,   0,   0,   0,   0,   0,   0,   0,   0,   0,   0,\n",
       "          0,   0,   0,   0,   0,   0,   0,   0,   0,   0,   0,   0,   0,\n",
       "          0,   0,   0,   0,   0,   0,   0,   0,   0,   0,   0,   0,   0,\n",
       "          0,   0,   0,   0,   0,   0,   0,   0,   0,   0,   0,   0,   0,\n",
       "          0,   0,   0,   0,   0,   0,   0,   0,   0,   0,   0,   0,   0,\n",
       "          0,   0,   0,   0,   0,   0,   0,   0,   0,   0,   0,   0,   0,\n",
       "          0,   0,   0,   0,   0,   0,   0,   0,   0,   0,   0,   0,   0,\n",
       "          0,   0,   0,   0,   0,   0,   0,   0,   0,   0,   0,   0,   0,\n",
       "          0,   0,   0,   0,   0,   0,   0,   0,   0,   0,   0,   0,   0,\n",
       "          0,   0,   0,   0,   0,   0,   0,   0,   0,   0,   0,   0,   0,\n",
       "          0,  38,   0, 132,  21, 120, 132, 101,  25, 120, 122, 132,  21,\n",
       "        114,  25,  60,  21,  50, 120,  83,  77, 114,  60,  45,   2],\n",
       "       dtype=int32),\n",
       " array([  0,   0,   0, ..., 101,  21,  70], dtype=int32),\n",
       " 10808.0,\n",
       " 10844.0)"
      ]
     },
     "execution_count": 27,
     "metadata": {},
     "output_type": "execute_result"
    }
   ],
   "source": [
    "train_ds[0]"
   ]
  },
  {
   "cell_type": "code",
   "execution_count": 28,
   "metadata": {},
   "outputs": [],
   "source": [
    "batch_size = 50\n",
    "train_dl = DataLoader(train_ds, batch_size=batch_size, shuffle=True)\n",
    "test_dl = DataLoader(test_ds, batch_size=batch_size)"
   ]
  },
  {
   "cell_type": "code",
   "execution_count": 29,
   "metadata": {
    "scrolled": false
   },
   "outputs": [
    {
     "name": "stdout",
     "output_type": "stream",
     "text": [
      "torch.Size([50, 233]) torch.Size([50, 11349]) torch.Size([50]) torch.Size([50])\n"
     ]
    },
    {
     "data": {
      "text/plain": [
       "(tensor([[  0,   0,   0,  ..., 105,  25,   2],\n",
       "         [  0,   0,   0,  ..., 132, 114,  60],\n",
       "         [  0,   0,   0,  ...,  21,  77,   2],\n",
       "         ...,\n",
       "         [  0,   0,   0,  ...,  21,  44,   2],\n",
       "         [  0,   0,   0,  ..., 132,  44,   2],\n",
       "         [  0,   0,   0,  ..., 132,  21,   2]], dtype=torch.int32),\n",
       " tensor([[  0,   0,   0,  ...,  50,  70,  46],\n",
       "         [  0,   0,   0,  ...,  29,  77,  38],\n",
       "         [  0,   0,   0,  ...,  60,  45,  70],\n",
       "         ...,\n",
       "         [  0,   0,   0,  ...,  25,  83,  70],\n",
       "         [  0,   0,   0,  ..., 119,  25,  70],\n",
       "         [  0,   0,   0,  ...,  29,  44,  70]], dtype=torch.int32),\n",
       " tensor([ 9496.,  9084.,  8804.,  8127.,  9927., 10976.,  5826.,  8769.,  8969.,\n",
       "         10295.,  8669.,  9940.,  9821., 10312., 10371.,  4693.,  9238., 10495.,\n",
       "          8307.,  9324.,  9183., 11125.,  6887.,  9086.,  5320.,  1748.,  7726.,\n",
       "          8561.,  9315., 10555.,  9511., 10162.,  8461.,  8207.,  4198.,  9742.,\n",
       "         10750., 10174., 10635., 10004.,  8442.,  9611.,  5224.,  8826., 11140.,\n",
       "         10463., 11079., 10450.,  4260.,  7489.], dtype=torch.float64),\n",
       " tensor([ 9570.,  9097.,  8824.,  8145.,  9937., 11054.,  5865.,  8780.,  8990.,\n",
       "         10307.,  8729.,  9968.,  9839., 10326., 10411.,  4759.,  9301., 10568.,\n",
       "          8313.,  9337.,  9213., 11232.,  6930.,  9115.,  5368.,  1756.,  7736.,\n",
       "          8570.,  9330., 10574.,  9516., 10192.,  8470.,  8220.,  4229.,  9814.,\n",
       "         10810., 10192., 10659., 10023.,  8455.,  9620.,  5240.,  8849., 11146.,\n",
       "         10496., 11082., 10459.,  4323.,  7557.], dtype=torch.float64))"
      ]
     },
     "execution_count": 29,
     "metadata": {},
     "output_type": "execute_result"
    }
   ],
   "source": [
    "q, s, start, end = next(iter(train_dl))\n",
    "print(q.shape, s.shape, start.shape, end.shape)\n",
    "q, s, start, end"
   ]
  },
  {
   "cell_type": "markdown",
   "metadata": {},
   "source": [
    "## Modeling"
   ]
  },
  {
   "cell_type": "code",
   "execution_count": 30,
   "metadata": {},
   "outputs": [],
   "source": [
    "class GRUModel(torch.nn.Module) :\n",
    "    def __init__(self, vocab_size, embedding_dim, hidden_dim, q_max, story_max):\n",
    "        super(GRUModel, self).__init__()\n",
    "        self.hidden_dim = hidden_dim\n",
    "        self.embeddings = nn.Embedding(vocab_size, embedding_dim, padding_idx=0)\n",
    "        self.dropout = nn.Dropout(0.5)\n",
    "        self.gru = nn.GRU(embedding_dim, hidden_dim, batch_first=True)\n",
    "        self.linear2 = nn.Linear(200, story_max)\n",
    "        self.linear_start = nn.Linear(story_max, story_max+1)\n",
    "        self.linear_end = nn.Linear(story_max, story_max+1)\n",
    "        \n",
    "    def forward(self, x1, x2):\n",
    "        \n",
    "        x1 = self.embeddings(x1)\n",
    "        x1 = self.dropout(x1)\n",
    "        out_pack1, ht1= self.gru(x1)\n",
    "        \n",
    "        x2 = self.embeddings(x2)\n",
    "        x2 = self.dropout(x2)\n",
    "        out_pack2, ht2= self.gru(x2)\n",
    "        \n",
    "        \n",
    "        x = torch.cat((ht1[-1], ht2[-1]),1)\n",
    "        \n",
    "        x = F.relu(self.linear2(x))\n",
    "        start = self.linear_start(x)\n",
    "        end = self.linear_end(x)\n",
    " \n",
    "        return start, end"
   ]
  },
  {
   "cell_type": "markdown",
   "metadata": {},
   "source": [
    "I've taken the functions from her last name classification model because that uses character-level embeddings as well. I'm using a naive version that just concats the question with the story and uses that as input into the RNN. I used that with regressing 2 outputs (start, end) and I got it to train but not sure how well it's actually doing. I think we correct way to do this is to treat it as a classification problem where each index of the story is a categroy and we use those predictions"
   ]
  },
  {
   "cell_type": "code",
   "execution_count": 31,
   "metadata": {},
   "outputs": [
    {
     "data": {
      "text/plain": [
       "0.6666666666666666"
      ]
     },
     "execution_count": 31,
     "metadata": {},
     "output_type": "execute_result"
    }
   ],
   "source": [
    "def get_optimizer(model, lr = 0.1, wd = 0.0001):\n",
    "    parameters = filter(lambda p: p.requires_grad, model.parameters())\n",
    "    optim = torch.optim.Adam(parameters, lr=lr, weight_decay=wd)\n",
    "    return optim\n",
    "\n",
    "def vectorize(labels, size=7361):\n",
    "    result = []\n",
    "    for s in labels:\n",
    "        #print(s)\n",
    "        row = np.zeros(size)\n",
    "        row[int(s)] = 1\n",
    "        result.append(row)\n",
    "        \n",
    "    return result\n",
    "\n",
    "def custom_metric(start_real, end_real, start_pred, end_pred):\n",
    "    # len(intersection) / len(union)\n",
    "    vals = []\n",
    "    for s1, e1, s2, e2 in zip(start_real, end_real, start_pred, end_pred):\n",
    "        real_range = set(range(s1, e1+1, 1))\n",
    "        pred_range = set(range(s2, e2+1, 1))\n",
    "        intersection = real_range.intersection(pred_range)\n",
    "        union = real_range.union(pred_range)\n",
    "        vals.append(len(intersection)/len(union))\n",
    "        \n",
    "    return np.mean(vals)\n",
    "        \n",
    "\n",
    "custom_metric([1,2,3],[2,3,4],[1,2,3],[3,4,5])"
   ]
  },
  {
   "cell_type": "code",
   "execution_count": 34,
   "metadata": {},
   "outputs": [],
   "source": [
    "def train_epocs(model, epochs=10, lr=0.0001):\n",
    "    parameters = filter(lambda p: p.requires_grad, model.parameters())\n",
    "    optimizer = torch.optim.Adam(parameters, lr=lr)\n",
    "    for i in range(epochs):\n",
    "        model.train()\n",
    "        sum_loss = 0.0\n",
    "        total = 0\n",
    "        for q, s, start_, end_ in train_dl:\n",
    "            #start_vec = vectorize(start_)\n",
    "            #end_vec = vectorize(end_)\n",
    "            q = q.long().cuda()\n",
    "            s = s.long().cuda()\n",
    "            start_ = start_.long().cuda()\n",
    "            end_ = end_.long().cuda()\n",
    "\n",
    "            start, end = model(q, s)\n",
    "            loss_start = F.cross_entropy(start, start_)\n",
    "\n",
    "            loss_end = F.cross_entropy(end, end_)\n",
    "            loss = loss_start + loss_end\n",
    "        \n",
    "            loss.backward()\n",
    "            optimizer.step()\n",
    "            sum_loss += loss.item()*end_.shape[0]\n",
    "            total += end_.shape[0]\n",
    "        \n",
    "        torch.cuda.empty_cache()\n",
    "        val_loss, val_score = val_metrics(model, test_dl)\n",
    "        #if i % 5 == 1:\n",
    "        print(\"train loss %.3f val loss %.3f and val score %.3f\" % (sum_loss/total, val_loss, val_score))\n",
    "            \n",
    "def val_metrics(model, valid_dl):\n",
    "    model.eval()\n",
    "    correct = 0\n",
    "    total = 0\n",
    "    sum_loss = 0.0\n",
    "    scores = []\n",
    "    for q, s, start_, end_ in valid_dl:\n",
    "        q = q.long().cuda()\n",
    "        s = s.long().cuda()\n",
    "        start_ = start_.long().cuda()\n",
    "        end_ = end_.long().cuda()\n",
    "        \n",
    "        start, end = model(q, s)\n",
    "        #print(start, end)\n",
    "        #print(start.shape, end.shape)\n",
    "        \n",
    "        loss_start = F.cross_entropy(start, start_)\n",
    "        #print(loss_start)\n",
    "        \n",
    "        loss_end = F.cross_entropy(end, end_)\n",
    "        #print(loss_end)\n",
    "        \n",
    "        loss = loss_start + loss_end\n",
    "        #print(loss)\n",
    "        #\n",
    "        start_i = start.argmax(1)\n",
    "        end_i = end.argmax(1)\n",
    "        #for st, en in zip(start_i, end_i):\n",
    "        \n",
    "        score = custom_metric(start_, end_, start_i, end_i)\n",
    "        scores.append(score)\n",
    "        \n",
    "        total += end_.shape[0]\n",
    "        sum_loss += loss.item()*end_.shape[0]\n",
    "    \n",
    "    print(f'Predicted: {start_i}, Real: {start_}')\n",
    "    #print(f'Real: {start_}, {end_}')\n",
    "    return sum_loss/total, np.mean(scores)"
   ]
  },
  {
   "cell_type": "code",
   "execution_count": 33,
   "metadata": {},
   "outputs": [],
   "source": [
    "vocab_size = len(char2int)\n",
    "hidden_size = 100\n",
    "n_classes = 2\n",
    "emb_size = 10\n",
    "model = GRUModel(vocab_size, emb_size, hidden_size, q_max, story_max).cuda()\n",
    "\n",
    "# val_metrics(model, test_dl)"
   ]
  },
  {
   "cell_type": "code",
   "execution_count": 35,
   "metadata": {
    "scrolled": false
   },
   "outputs": [
    {
     "name": "stdout",
     "output_type": "stream",
     "text": [
      "Predicted: tensor([ 9424, 10136,  9424,  9424,  9424, 10136,  9424,  9424, 10136,  9424,\n",
      "         9424,  9424,  9424,  9424,  9424, 10136,  9424,  9424,  9424,  9704,\n",
      "        10136,  9424,  9424,  9424,  9424,  9424,  9424,  9424, 10136, 10136,\n",
      "         9424,  9424,  9424,  9424,  9424,  9424,  9424,  9424, 10136,  9424,\n",
      "         9424,  9424,  9424,  9424,  9704,  9424], device='cuda:0'), Real: tensor([ 6696,  6404,  9871,  8991,  9806, 11216, 10037,  9071,  9820,  3792,\n",
      "         9559, 10224,  6549,  8876, 10574,  5702,  6889,  6615, 10178, 10788,\n",
      "         6055,  3723, 10318, 10645,  6921,  9784,  8100,  6798, 11177, 10502,\n",
      "         3379, 10579,  8444,  8400,  7827,  7059,  9841,  7972,  9225, 10330,\n",
      "         8608,  9427,  8824,  4944, 10474, 10859], device='cuda:0')\n",
      "train loss 18.260 val loss 18.056 and val score 0.007\n",
      "Predicted: tensor([ 7085,  9638,  9638,  8863,  9380,  7085,  7085,  9638,  7085,  9638,\n",
      "         7085,  8457,  8863,  9638,  9638,  9520, 10260,  9638, 10260,  9709,\n",
      "         9638,  9638,  9638,  9638,  9638,  9520,  7085,  9638,  9638,  9638,\n",
      "         9638, 10260, 10260, 10555,  9638,  9520,  7085,  9638,  9638,  9638,\n",
      "         7085,  6684,  7085,  9520,  9709,  9638], device='cuda:0'), Real: tensor([ 6696,  6404,  9871,  8991,  9806, 11216, 10037,  9071,  9820,  3792,\n",
      "         9559, 10224,  6549,  8876, 10574,  5702,  6889,  6615, 10178, 10788,\n",
      "         6055,  3723, 10318, 10645,  6921,  9784,  8100,  6798, 11177, 10502,\n",
      "         3379, 10579,  8444,  8400,  7827,  7059,  9841,  7972,  9225, 10330,\n",
      "         8608,  9427,  8824,  4944, 10474, 10859], device='cuda:0')\n",
      "train loss 17.674 val loss 17.903 and val score 0.007\n",
      "Predicted: tensor([ 9395,  9395, 10419,  7852,  9970,  9593,  9395,  9395,  9395,  9395,\n",
      "         9492,  9904,  9593,  9395,  9395,  9593,  9904,  9991,  9395,  9539,\n",
      "         9593,  9395,  9991,  7852,  9395,  9539,  9593,  9395,  9593,  9593,\n",
      "         9593,  9395,  9395,  9395,  9395,  9593,  9395,  9395,  9593,  9991,\n",
      "         9433,  9745,  9365,  9593,  7644, 10419], device='cuda:0'), Real: tensor([ 6696,  6404,  9871,  8991,  9806, 11216, 10037,  9071,  9820,  3792,\n",
      "         9559, 10224,  6549,  8876, 10574,  5702,  6889,  6615, 10178, 10788,\n",
      "         6055,  3723, 10318, 10645,  6921,  9784,  8100,  6798, 11177, 10502,\n",
      "         3379, 10579,  8444,  8400,  7827,  7059,  9841,  7972,  9225, 10330,\n",
      "         8608,  9427,  8824,  4944, 10474, 10859], device='cuda:0')\n",
      "train loss 17.409 val loss 18.013 and val score 0.006\n",
      "Predicted: tensor([10150,  6678,  8489, 10150,  6838,  9750,  7246,  9670, 10555, 10150,\n",
      "        10206,  9088,  9109, 10555,  9687,  9750,  6678,  9991, 10150, 10893,\n",
      "         9750,  9395, 10150,  9404, 10150,  9750,  9750, 10150, 10340,  6678,\n",
      "         9750,  9109, 10150, 10150,  9395,  9750,  8577,  9109,  9593, 10150,\n",
      "        10206,  9109,  9109,  9750,  9864,  9109], device='cuda:0'), Real: tensor([ 6696,  6404,  9871,  8991,  9806, 11216, 10037,  9071,  9820,  3792,\n",
      "         9559, 10224,  6549,  8876, 10574,  5702,  6889,  6615, 10178, 10788,\n",
      "         6055,  3723, 10318, 10645,  6921,  9784,  8100,  6798, 11177, 10502,\n",
      "         3379, 10579,  8444,  8400,  7827,  7059,  9841,  7972,  9225, 10330,\n",
      "         8608,  9427,  8824,  4944, 10474, 10859], device='cuda:0')\n",
      "train loss 17.218 val loss 18.190 and val score 0.006\n",
      "Predicted: tensor([ 5797,  9575,  9829, 10196,  9422,  9750,  7446,  5797,  5797,  9520,\n",
      "         9171,  9724,  8613,  5797,  5797,  9750,  5797,  7246, 10196, 10473,\n",
      "         9750,  9395, 10150,  8719,  9395, 10116,  9750,  7246, 10446,  9575,\n",
      "         9171, 10196, 10196,  5797,  9395,  9750,  7446,  5797,  9690, 10150,\n",
      "         9424,  8790,  9171,  9750,  9205,  9171], device='cuda:0'), Real: tensor([ 6696,  6404,  9871,  8991,  9806, 11216, 10037,  9071,  9820,  3792,\n",
      "         9559, 10224,  6549,  8876, 10574,  5702,  6889,  6615, 10178, 10788,\n",
      "         6055,  3723, 10318, 10645,  6921,  9784,  8100,  6798, 11177, 10502,\n",
      "         3379, 10579,  8444,  8400,  7827,  7059,  9841,  7972,  9225, 10330,\n",
      "         8608,  9427,  8824,  4944, 10474, 10859], device='cuda:0')\n",
      "train loss 17.033 val loss 18.365 and val score 0.007\n",
      "Predicted: tensor([ 9638,  9899,  9704,  9704,  9350,  6700, 10494, 10555, 10555,  9626,\n",
      "         9639,  9350,  9704,  9255,  7339,  6700,  9899,  9934,  7339,  8831,\n",
      "         9434,  9089,  8564,  8759,  8841,  9948,  9350,  7993,  6991,  6700,\n",
      "        10540,  9704, 10135,  9670,  8564,  9434,  7993,  9899,  9575,  9934,\n",
      "         9704,  9495,  9704,  9750,  8831,  9704], device='cuda:0'), Real: tensor([ 6696,  6404,  9871,  8991,  9806, 11216, 10037,  9071,  9820,  3792,\n",
      "         9559, 10224,  6549,  8876, 10574,  5702,  6889,  6615, 10178, 10788,\n",
      "         6055,  3723, 10318, 10645,  6921,  9784,  8100,  6798, 11177, 10502,\n",
      "         3379, 10579,  8444,  8400,  7827,  7059,  9841,  7972,  9225, 10330,\n",
      "         8608,  9427,  8824,  4944, 10474, 10859], device='cuda:0')\n",
      "train loss 16.799 val loss 18.734 and val score 0.006\n",
      "Predicted: tensor([10555,  9899,  9899, 10555,  8097,  9670,  8784,  9996, 10555,  8594,\n",
      "         8081, 10437,  9704,  8142, 10341,  9670,  8899,  7246, 10555,  9893,\n",
      "         8819,  7703, 10001,  8759,  7260, 10255, 10074,  8784,  6991,  8780,\n",
      "         9380, 10067,  5711,  9379,  7963,  7852,  6939,  9899,  6306,  7246,\n",
      "         8899,  7260,  9689,  9827,  9253,  9380], device='cuda:0'), Real: tensor([ 6696,  6404,  9871,  8991,  9806, 11216, 10037,  9071,  9820,  3792,\n",
      "         9559, 10224,  6549,  8876, 10574,  5702,  6889,  6615, 10178, 10788,\n",
      "         6055,  3723, 10318, 10645,  6921,  9784,  8100,  6798, 11177, 10502,\n",
      "         3379, 10579,  8444,  8400,  7827,  7059,  9841,  7972,  9225, 10330,\n",
      "         8608,  9427,  8824,  4944, 10474, 10859], device='cuda:0')\n",
      "train loss 16.649 val loss 18.870 and val score 0.005\n",
      "Predicted: tensor([ 9847,  9772,  9853,  9497, 10377,  8780,  8784,  9996, 10179,  7246,\n",
      "        10029,  9225, 10377, 10179,  9480,  9282,  8986,  7246,  9497,  9669,\n",
      "         9514,  8594,  7246,  8759,  7260,  9692,  8752,  7246, 10033,  9282,\n",
      "         9638, 11064,  9497,  9379,  7246,  9282,  8872,  8561,  9511,  7246,\n",
      "         8641,  7260,  9763,  9282,  9669,  9380], device='cuda:0'), Real: tensor([ 6696,  6404,  9871,  8991,  9806, 11216, 10037,  9071,  9820,  3792,\n",
      "         9559, 10224,  6549,  8876, 10574,  5702,  6889,  6615, 10178, 10788,\n",
      "         6055,  3723, 10318, 10645,  6921,  9784,  8100,  6798, 11177, 10502,\n",
      "         3379, 10579,  8444,  8400,  7827,  7059,  9841,  7972,  9225, 10330,\n",
      "         8608,  9427,  8824,  4944, 10474, 10859], device='cuda:0')\n",
      "train loss 16.454 val loss 19.094 and val score 0.005\n",
      "Predicted: tensor([10179,  9277,  9630, 10499,  9689, 10368,  8296,  9743, 10179,  7432,\n",
      "        10278, 10622,  8910,  9118,  9457,  7382, 10179,  7891, 10499,  9418,\n",
      "         7852,  7515,  7246,  9528, 10276,  9495,  8594,  9395,  9939,  9277,\n",
      "         9689,  9689,  9118, 10179,  8594,  9926,  7903,  9291, 10781,  7891,\n",
      "        10027, 10499,  7798,  8474, 10759,  8027], device='cuda:0'), Real: tensor([ 6696,  6404,  9871,  8991,  9806, 11216, 10037,  9071,  9820,  3792,\n",
      "         9559, 10224,  6549,  8876, 10574,  5702,  6889,  6615, 10178, 10788,\n",
      "         6055,  3723, 10318, 10645,  6921,  9784,  8100,  6798, 11177, 10502,\n",
      "         3379, 10579,  8444,  8400,  7827,  7059,  9841,  7972,  9225, 10330,\n",
      "         8608,  9427,  8824,  4944, 10474, 10859], device='cuda:0')\n",
      "train loss 16.274 val loss 19.550 and val score 0.004\n",
      "Predicted: tensor([ 9740,  8474,  9630, 10179,  9277, 10368,  9395, 10169, 10179,  7246,\n",
      "         9988,  8590,  8474, 10169, 10175, 10596, 10179,  7246,  9118,  8911,\n",
      "         9524,  7515,  7246,  4553, 10276,  8673,  9995,  9395,  7410,  9541,\n",
      "         9829,  8335,  9118, 10179,  7246,  8235,  8015, 10179,  8525,  7246,\n",
      "        10622, 10276,  9829, 10060,  8911,  9630], device='cuda:0'), Real: tensor([ 6696,  6404,  9871,  8991,  9806, 11216, 10037,  9071,  9820,  3792,\n",
      "         9559, 10224,  6549,  8876, 10574,  5702,  6889,  6615, 10178, 10788,\n",
      "         6055,  3723, 10318, 10645,  6921,  9784,  8100,  6798, 11177, 10502,\n",
      "         3379, 10579,  8444,  8400,  7827,  7059,  9841,  7972,  9225, 10330,\n",
      "         8608,  9427,  8824,  4944, 10474, 10859], device='cuda:0')\n",
      "train loss 16.105 val loss 20.117 and val score 0.004\n"
     ]
    }
   ],
   "source": [
    "train_epocs(model)"
   ]
  },
  {
   "cell_type": "code",
   "execution_count": null,
   "metadata": {},
   "outputs": [],
   "source": [
    "torch.cuda.empty_cache()"
   ]
  },
  {
   "cell_type": "code",
   "execution_count": null,
   "metadata": {},
   "outputs": [],
   "source": []
  }
 ],
 "metadata": {
  "kernelspec": {
   "display_name": "Python 3",
   "language": "python",
   "name": "python3"
  },
  "language_info": {
   "codemirror_mode": {
    "name": "ipython",
    "version": 3
   },
   "file_extension": ".py",
   "mimetype": "text/x-python",
   "name": "python",
   "nbconvert_exporter": "python",
   "pygments_lexer": "ipython3",
   "version": "3.6.5"
  }
 },
 "nbformat": 4,
 "nbformat_minor": 2
}
