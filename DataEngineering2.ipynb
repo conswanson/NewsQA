{
 "cells": [
  {
   "cell_type": "code",
   "execution_count": 1,
   "metadata": {
    "ExecuteTime": {
     "end_time": "2019-06-17T06:02:04.011242Z",
     "start_time": "2019-06-17T06:02:03.037009Z"
    }
   },
   "outputs": [],
   "source": [
    "import pandas as pd\n",
    "import numpy as np\n",
    "import operator\n",
    "import ast\n",
    "from torch.autograd import Variable\n",
    "from torch.nn.utils.rnn import pack_padded_sequence, pad_packed_sequence\n",
    "import torch\n",
    "import torch.nn as nn\n",
    "import string\n",
    "import torch.nn.functional as F\n",
    "from torch.utils.data import Dataset, DataLoader\n",
    "from torch.nn.utils.rnn import pack_padded_sequence, pad_packed_sequence \n",
    "import spacy\n",
    "import re"
   ]
  },
  {
   "cell_type": "markdown",
   "metadata": {},
   "source": [
    "## Import Data"
   ]
  },
  {
   "cell_type": "code",
   "execution_count": 2,
   "metadata": {
    "ExecuteTime": {
     "end_time": "2019-06-17T06:02:46.623373Z",
     "start_time": "2019-06-17T06:02:43.696845Z"
    }
   },
   "outputs": [
    {
     "name": "stdout",
     "output_type": "stream",
     "text": [
      "Index(['story_id', 'question', 'answer_char_ranges', 'is_answer_absent',\n",
      "       'is_question_bad', 'validated_answers', 'story_text'],\n",
      "      dtype='object')\n",
      "<class 'str'>\n"
     ]
    },
    {
     "data": {
      "text/html": [
       "<div>\n",
       "<style scoped>\n",
       "    .dataframe tbody tr th:only-of-type {\n",
       "        vertical-align: middle;\n",
       "    }\n",
       "\n",
       "    .dataframe tbody tr th {\n",
       "        vertical-align: top;\n",
       "    }\n",
       "\n",
       "    .dataframe thead th {\n",
       "        text-align: right;\n",
       "    }\n",
       "</style>\n",
       "<table border=\"1\" class=\"dataframe\">\n",
       "  <thead>\n",
       "    <tr style=\"text-align: right;\">\n",
       "      <th></th>\n",
       "      <th>story_id</th>\n",
       "      <th>question</th>\n",
       "      <th>answer_char_ranges</th>\n",
       "      <th>is_answer_absent</th>\n",
       "      <th>is_question_bad</th>\n",
       "      <th>validated_answers</th>\n",
       "      <th>story_text</th>\n",
       "    </tr>\n",
       "  </thead>\n",
       "  <tbody>\n",
       "    <tr>\n",
       "      <th>0</th>\n",
       "      <td>./cnn/stories/42d01e187213e86f5fe617fe32e716ff...</td>\n",
       "      <td>What was the amount of children murdered?</td>\n",
       "      <td>294:297|None|None</td>\n",
       "      <td>0.0</td>\n",
       "      <td>0.0</td>\n",
       "      <td>{\"none\": 1, \"294:297\": 2}</td>\n",
       "      <td>NEW DELHI, India (CNN) -- A high court in nort...</td>\n",
       "    </tr>\n",
       "    <tr>\n",
       "      <th>1</th>\n",
       "      <td>./cnn/stories/c48228a52f26aca65c31fad273e66164...</td>\n",
       "      <td>Where was one employee killed?</td>\n",
       "      <td>34:60|1610:1618|34:60</td>\n",
       "      <td>0.0</td>\n",
       "      <td>0.0</td>\n",
       "      <td>NaN</td>\n",
       "      <td>(CNN) -- Fighting in the volatile Sudanese reg...</td>\n",
       "    </tr>\n",
       "    <tr>\n",
       "      <th>2</th>\n",
       "      <td>./cnn/stories/c65ed85800e4535f4bbbfa2c34d7d963...</td>\n",
       "      <td>who did say South Africa did not issue a visa ...</td>\n",
       "      <td>103:127|114:127|839:853</td>\n",
       "      <td>0.0</td>\n",
       "      <td>0.0</td>\n",
       "      <td>{\"839:853\": 1, \"103:127\": 2}</td>\n",
       "      <td>Johannesburg (CNN) -- Miffed by a visa delay t...</td>\n",
       "    </tr>\n",
       "    <tr>\n",
       "      <th>3</th>\n",
       "      <td>./cnn/stories/0cf66b646e9b32076513c050edf32a79...</td>\n",
       "      <td>How many years old was the businessman?</td>\n",
       "      <td>538:550|538:550</td>\n",
       "      <td>0.0</td>\n",
       "      <td>0.0</td>\n",
       "      <td>NaN</td>\n",
       "      <td>(CNN)  -- England international footballer Ste...</td>\n",
       "    </tr>\n",
       "    <tr>\n",
       "      <th>4</th>\n",
       "      <td>./cnn/stories/13012604e3203c18df09289dfedd14cd...</td>\n",
       "      <td>What frightened the families?</td>\n",
       "      <td>690:742|688:791|630:646</td>\n",
       "      <td>0.0</td>\n",
       "      <td>0.0</td>\n",
       "      <td>{\"688:791\": 2, \"690:742\": 1}</td>\n",
       "      <td>BAGHDAD, Iraq (CNN)  -- At least 6,000 Christi...</td>\n",
       "    </tr>\n",
       "  </tbody>\n",
       "</table>\n",
       "</div>"
      ],
      "text/plain": [
       "                                            story_id  \\\n",
       "0  ./cnn/stories/42d01e187213e86f5fe617fe32e716ff...   \n",
       "1  ./cnn/stories/c48228a52f26aca65c31fad273e66164...   \n",
       "2  ./cnn/stories/c65ed85800e4535f4bbbfa2c34d7d963...   \n",
       "3  ./cnn/stories/0cf66b646e9b32076513c050edf32a79...   \n",
       "4  ./cnn/stories/13012604e3203c18df09289dfedd14cd...   \n",
       "\n",
       "                                            question       answer_char_ranges  \\\n",
       "0          What was the amount of children murdered?        294:297|None|None   \n",
       "1                     Where was one employee killed?    34:60|1610:1618|34:60   \n",
       "2  who did say South Africa did not issue a visa ...  103:127|114:127|839:853   \n",
       "3            How many years old was the businessman?          538:550|538:550   \n",
       "4                      What frightened the families?  690:742|688:791|630:646   \n",
       "\n",
       "   is_answer_absent is_question_bad             validated_answers  \\\n",
       "0               0.0             0.0     {\"none\": 1, \"294:297\": 2}   \n",
       "1               0.0             0.0                           NaN   \n",
       "2               0.0             0.0  {\"839:853\": 1, \"103:127\": 2}   \n",
       "3               0.0             0.0                           NaN   \n",
       "4               0.0             0.0  {\"688:791\": 2, \"690:742\": 1}   \n",
       "\n",
       "                                          story_text  \n",
       "0  NEW DELHI, India (CNN) -- A high court in nort...  \n",
       "1  (CNN) -- Fighting in the volatile Sudanese reg...  \n",
       "2  Johannesburg (CNN) -- Miffed by a visa delay t...  \n",
       "3  (CNN)  -- England international footballer Ste...  \n",
       "4  BAGHDAD, Iraq (CNN)  -- At least 6,000 Christi...  "
      ]
     },
     "execution_count": 2,
     "metadata": {},
     "output_type": "execute_result"
    }
   ],
   "source": [
    "data = pd.read_csv('combined-newsqa-data-v1.csv')\n",
    "print(data.columns)\n",
    "print(type(data['is_question_bad'][0]))\n",
    "\n",
    "# remove Q/A pairs that are invalid or missing\n",
    "#data = data[(data.is_question_bad=='0.0') & (data.is_answer_absent=='0.0')]\n",
    "data.head()"
   ]
  },
  {
   "cell_type": "code",
   "execution_count": 3,
   "metadata": {
    "ExecuteTime": {
     "end_time": "2019-06-17T06:02:49.040788Z",
     "start_time": "2019-06-17T06:02:49.033284Z"
    }
   },
   "outputs": [
    {
     "name": "stdout",
     "output_type": "stream",
     "text": [
      "0.0\n"
     ]
    }
   ],
   "source": [
    "print(data['is_question_bad'][0])"
   ]
  },
  {
   "cell_type": "code",
   "execution_count": 4,
   "metadata": {
    "ExecuteTime": {
     "end_time": "2019-06-17T06:02:50.283808Z",
     "start_time": "2019-06-17T06:02:49.804811Z"
    }
   },
   "outputs": [
    {
     "name": "stdout",
     "output_type": "stream",
     "text": [
      "119633\n",
      "12088\n"
     ]
    }
   ],
   "source": [
    "# 119,633 Q/A's , 12088 articles\n",
    "print(len(data))\n",
    "print(len(data['story_text'].unique()))\n"
   ]
  },
  {
   "cell_type": "code",
   "execution_count": 5,
   "metadata": {
    "ExecuteTime": {
     "end_time": "2019-06-17T06:02:50.711182Z",
     "start_time": "2019-06-17T06:02:50.702625Z"
    }
   },
   "outputs": [
    {
     "data": {
      "text/plain": [
       "'NEW DELHI, India (CNN) -- A high court in northern India on Friday acquitted a wealthy businessman facing the death sentence for the killing of a teen in a case dubbed \"the house of horrors.\"\\n\\n\\n\\nMoninder Singh Pandher was sentenced to death by a lower court in February.\\n\\n\\n\\nThe teen was one of 19 victims -- children and young women -- in one of the most gruesome serial killings in India in recent years.\\n\\n\\n\\nThe Allahabad high court has acquitted Moninder Singh Pandher, his lawyer Sikandar B. Kochar told CNN.\\n\\n\\n\\nPandher and his domestic employee Surinder Koli were sentenced to death in February by a lower court for the rape and murder of the 14-year-old.\\n\\n\\n\\nThe high court upheld Koli\\'s death sentence, Kochar said.\\n\\n\\n\\nThe two were arrested two years ago after body parts packed in plastic bags were found near their home in Noida, a New Delhi suburb. Their home was later dubbed a \"house of horrors\" by the Indian media.\\n\\n\\n\\nPandher was not named a main suspect by investigators initially, but was summoned as co-accused during the trial, Kochar said.\\n\\n\\n\\nKochar said his client was in Australia when the teen was raped and killed.\\n\\n\\n\\nPandher faces trial in the remaining 18 killings and could remain in custody, the attorney said.'"
      ]
     },
     "execution_count": 5,
     "metadata": {},
     "output_type": "execute_result"
    }
   ],
   "source": [
    "first_doc = data['story_text'][0]\n",
    "first_doc"
   ]
  },
  {
   "cell_type": "code",
   "execution_count": 6,
   "metadata": {
    "ExecuteTime": {
     "end_time": "2019-06-17T06:02:52.916660Z",
     "start_time": "2019-06-17T06:02:52.908513Z"
    }
   },
   "outputs": [
    {
     "data": {
      "text/plain": [
       "'19 '"
      ]
     },
     "execution_count": 6,
     "metadata": {},
     "output_type": "execute_result"
    }
   ],
   "source": [
    "first_doc[294:297]"
   ]
  },
  {
   "cell_type": "code",
   "execution_count": 7,
   "metadata": {
    "ExecuteTime": {
     "end_time": "2019-06-17T06:02:53.482038Z",
     "start_time": "2019-06-17T06:02:53.473105Z"
    }
   },
   "outputs": [
    {
     "data": {
      "text/plain": [
       "'Johannesburg (CNN) -- Miffed by a visa delay that led the Dalai Lama to cancel a trip to South Africa, Archbishop Desmond Tutu lashed out at his government Tuesday, saying it had acted worse than apartheid regimes and had forgotten all that the nation stood for.\\n\\n\\n\\n\\n\\n\"When we used to apply for passports under the apartheid government, we never knew until the last moment what their decision was,\" Tutu said at a news conference. \"Our government is worse than the apartheid government because at least you were expecting it from the apartheid government.\\n\\n\\n\\n\\n\\n\"I have to say that I can\\'t believe this. I really can\\'t believe this,\" Tutu said. \"You have to wake me up and tell me this is actually happening here.\"\\n\\n\\n\\n\\n\\nThe Dalai Lama scrapped his planned trip to South Africa this week after the nation failed to issue him a visa in time, his spokesman said.\\n\\n\\n\\n\\n\\nVisa applications for him and his entourage were submitted to the South African High Commission in New Delhi, India, at the end of August, and original passports were submitted on September 20, more than two weeks ago, a statement on his website said.\\n\\n\\n\\n\\n\\nHowever, South Africa\\'s foreign affairs office said it did not refuse a visa.\\n\\n\\n\\n\\n\\n\"South Africa will not comment on the decision, because it is not our decision, it is his decision,\" according to spokesman Clayson Monyela, who said the visa application was still under consideration.\\n\\n\\n\\n\\n\\nThe Dalai Lama had been invited to the country to receive the Mahatma Gandhi International Award for Peace and Reconciliation and to speak at a number of events, including a lecture in honor of Tutu\\'s 80th birthday. Tutu and the Dalai Lama are recipients of the Nobel Peace Prize.\\n\\n\\n\\n\\n\\nTutu said he would pray for the defeat of South Africa\\'s government, led by the African National Congress (ANC), which is rooted in the fight against the system of apartheid, or legal racial separation, that was present in South Africa until 1994.\\n\\n\\n\\n\\n\\n\"You are disgraceful,\" Tutu said about the government. \"You are behaving in a way that is totally at variance with the things for which we stood.\"\\n\\n\\n\\n\\n\\nThe ANC plans to call on government officials to explain to South Africans why the visa process was delayed, spokesman Jackson Mtembu said. He said everyone was in the dark about this matter.\\n\\n\\n\\n\\n\\nBut he also suggested that Tutu calm down. A comparison to apartheid regimes, he said, was unfair.\\n\\n\\n\\n\\n\\nThis is not the first time the Dalai Lama has not been able to visit South Africa. In 2009, South Africa refused the Tibetan spiritual leader a visa to attend an international peace conference, saying it was not in the country\\'s interest for him to attend.\\n\\n\\n\\n\\n\\nIn refusing the 2009 application, South Africa said that if the Dalai Lama attended the conference, the focus would shift away from the 2010 World Cup, the global soccer championship it was hosting.\\n\\n\\n\\n\\n\\n\"We cannot allow focus to shift to China and Tibet,\" presidential spokesman Thabo Masebe said, adding that South Africa had gained much from its trading relationship with China.\\n\\n\\n\\n\\n\\nThe Dalai Lama fled Tibet in 1959 after a failed uprising against Chinese rule, and China pressures governments around the world to deny him any legitimacy.\\n\\n\\n\\n\\n\\nSpeculation surfaced Tuesday that this year\\'s visit was also affected by South Africa\\'s relationship with China.\\n\\n\\n\\n\\n\\nSouth African Vice President Kgalema Motlanthe visited Beijing last week and met with Chinese President Hu Jintao to discuss bolstering bilateral ties.\\n\\n\\n\\n\\n\\nMotlanthe said South Africa was ready to boost the strategic partnership between the two countries to a new stage, according to the official Chinese news agency Xinhua.\\n\\n\\n\\n\\n\\nBut Monyela said the application had nothing to do with China.\\n\\n\\n\\n\\n\\n\"We are a sovereign nation which takes decisions in our domestic interest,\" Monyela said.\\n\\n\\n\\n\\n\\nThe Dalai Lama posted a message on Twitter last week that said: \"Even if the Chinese leave nothing but ashes, Tibet will rise from these ashes as a free country even if it takes a long time to do so.\"\\n\\n\\n\\n\\n\\nKim Norgaard, CNN\\'s Johannesburg bureau chief, contributed to this report.'"
      ]
     },
     "execution_count": 7,
     "metadata": {},
     "output_type": "execute_result"
    }
   ],
   "source": [
    "second_doc = data['story_text'][2]\n",
    "second_doc"
   ]
  },
  {
   "cell_type": "code",
   "execution_count": 8,
   "metadata": {
    "ExecuteTime": {
     "end_time": "2019-06-17T06:02:55.298362Z",
     "start_time": "2019-06-17T06:02:55.292857Z"
    }
   },
   "outputs": [
    {
     "name": "stdout",
     "output_type": "stream",
     "text": [
      "Archbishop Desmond Tutu \n",
      "Desmond Tutu \n",
      "his spokesman \n"
     ]
    }
   ],
   "source": [
    "print(second_doc[103:127])\n",
    "print(second_doc[114:127])\n",
    "print(second_doc[839:853])"
   ]
  },
  {
   "cell_type": "markdown",
   "metadata": {},
   "source": [
    "Answers given by different human reviewers are in the answer_char_ranges column and the validated_answers column. These values are string index ranges within the document that represent the answer. For each row, we need to determine which character range is the best answer to use and extract it. There are a couple ways we could approach this problem, the first is to have a model that takes the question(str), the story(str), spits out an answer(str).\n",
    "\n",
    "or we could have it spit back out the string indexes themselves. "
   ]
  },
  {
   "cell_type": "code",
   "execution_count": 9,
   "metadata": {
    "ExecuteTime": {
     "end_time": "2019-06-17T06:02:57.405886Z",
     "start_time": "2019-06-17T06:02:57.370169Z"
    }
   },
   "outputs": [
    {
     "data": {
      "text/html": [
       "<div>\n",
       "<style scoped>\n",
       "    .dataframe tbody tr th:only-of-type {\n",
       "        vertical-align: middle;\n",
       "    }\n",
       "\n",
       "    .dataframe tbody tr th {\n",
       "        vertical-align: top;\n",
       "    }\n",
       "\n",
       "    .dataframe thead th {\n",
       "        text-align: right;\n",
       "    }\n",
       "</style>\n",
       "<table border=\"1\" class=\"dataframe\">\n",
       "  <thead>\n",
       "    <tr style=\"text-align: right;\">\n",
       "      <th></th>\n",
       "      <th>question</th>\n",
       "      <th>validated_answers</th>\n",
       "      <th>story_text</th>\n",
       "    </tr>\n",
       "  </thead>\n",
       "  <tbody>\n",
       "    <tr>\n",
       "      <th>0</th>\n",
       "      <td>What was the amount of children murdered?</td>\n",
       "      <td>{\"none\": 1, \"294:297\": 2}</td>\n",
       "      <td>NEW DELHI, India (CNN) -- A high court in nort...</td>\n",
       "    </tr>\n",
       "    <tr>\n",
       "      <th>2</th>\n",
       "      <td>who did say South Africa did not issue a visa ...</td>\n",
       "      <td>{\"839:853\": 1, \"103:127\": 2}</td>\n",
       "      <td>Johannesburg (CNN) -- Miffed by a visa delay t...</td>\n",
       "    </tr>\n",
       "    <tr>\n",
       "      <th>4</th>\n",
       "      <td>What frightened the families?</td>\n",
       "      <td>{\"688:791\": 2, \"690:742\": 1}</td>\n",
       "      <td>BAGHDAD, Iraq (CNN)  -- At least 6,000 Christi...</td>\n",
       "    </tr>\n",
       "    <tr>\n",
       "      <th>6</th>\n",
       "      <td>Who is hiring?</td>\n",
       "      <td>{\"301:324\": 2}</td>\n",
       "      <td>CNN affiliates report on where job seekers are...</td>\n",
       "    </tr>\n",
       "    <tr>\n",
       "      <th>8</th>\n",
       "      <td>Iran criticizes who?</td>\n",
       "      <td>{\"63:97\": 2}</td>\n",
       "      <td>TEHRAN, Iran (CNN) -- Iran's parliament speake...</td>\n",
       "    </tr>\n",
       "  </tbody>\n",
       "</table>\n",
       "</div>"
      ],
      "text/plain": [
       "                                            question  \\\n",
       "0          What was the amount of children murdered?   \n",
       "2  who did say South Africa did not issue a visa ...   \n",
       "4                      What frightened the families?   \n",
       "6                                     Who is hiring?   \n",
       "8                               Iran criticizes who?   \n",
       "\n",
       "              validated_answers  \\\n",
       "0     {\"none\": 1, \"294:297\": 2}   \n",
       "2  {\"839:853\": 1, \"103:127\": 2}   \n",
       "4  {\"688:791\": 2, \"690:742\": 1}   \n",
       "6                {\"301:324\": 2}   \n",
       "8                  {\"63:97\": 2}   \n",
       "\n",
       "                                          story_text  \n",
       "0  NEW DELHI, India (CNN) -- A high court in nort...  \n",
       "2  Johannesburg (CNN) -- Miffed by a visa delay t...  \n",
       "4  BAGHDAD, Iraq (CNN)  -- At least 6,000 Christi...  \n",
       "6  CNN affiliates report on where job seekers are...  \n",
       "8  TEHRAN, Iran (CNN) -- Iran's parliament speake...  "
      ]
     },
     "execution_count": 9,
     "metadata": {},
     "output_type": "execute_result"
    }
   ],
   "source": [
    "# Remove uneeded columns\n",
    "df = data[['question','validated_answers','story_text']]\n",
    "df = df.dropna()\n",
    "df = df.iloc[0:10000] # reduce size for development purposes\n",
    "\n",
    "df.head()"
   ]
  },
  {
   "cell_type": "code",
   "execution_count": 10,
   "metadata": {
    "ExecuteTime": {
     "end_time": "2019-06-17T06:02:59.537193Z",
     "start_time": "2019-06-17T06:02:59.527978Z"
    }
   },
   "outputs": [
    {
     "name": "stdout",
     "output_type": "stream",
     "text": [
      "8318\n"
     ]
    },
    {
     "data": {
      "text/html": [
       "<div>\n",
       "<style scoped>\n",
       "    .dataframe tbody tr th:only-of-type {\n",
       "        vertical-align: middle;\n",
       "    }\n",
       "\n",
       "    .dataframe tbody tr th {\n",
       "        vertical-align: top;\n",
       "    }\n",
       "\n",
       "    .dataframe thead th {\n",
       "        text-align: right;\n",
       "    }\n",
       "</style>\n",
       "<table border=\"1\" class=\"dataframe\">\n",
       "  <thead>\n",
       "    <tr style=\"text-align: right;\">\n",
       "      <th></th>\n",
       "      <th>question</th>\n",
       "      <th>validated_answers</th>\n",
       "      <th>story_text</th>\n",
       "      <th>start_truth</th>\n",
       "      <th>end_truth</th>\n",
       "    </tr>\n",
       "  </thead>\n",
       "  <tbody>\n",
       "    <tr>\n",
       "      <th>0</th>\n",
       "      <td>What was the amount of children murdered?</td>\n",
       "      <td>{\"none\": 1, \"294:297\": 2}</td>\n",
       "      <td>NEW DELHI, India (CNN) -- A high court in nort...</td>\n",
       "      <td>294.0</td>\n",
       "      <td>297.0</td>\n",
       "    </tr>\n",
       "    <tr>\n",
       "      <th>2</th>\n",
       "      <td>who did say South Africa did not issue a visa ...</td>\n",
       "      <td>{\"839:853\": 1, \"103:127\": 2}</td>\n",
       "      <td>Johannesburg (CNN) -- Miffed by a visa delay t...</td>\n",
       "      <td>103.0</td>\n",
       "      <td>127.0</td>\n",
       "    </tr>\n",
       "    <tr>\n",
       "      <th>4</th>\n",
       "      <td>What frightened the families?</td>\n",
       "      <td>{\"688:791\": 2, \"690:742\": 1}</td>\n",
       "      <td>BAGHDAD, Iraq (CNN)  -- At least 6,000 Christi...</td>\n",
       "      <td>688.0</td>\n",
       "      <td>791.0</td>\n",
       "    </tr>\n",
       "    <tr>\n",
       "      <th>6</th>\n",
       "      <td>Who is hiring?</td>\n",
       "      <td>{\"301:324\": 2}</td>\n",
       "      <td>CNN affiliates report on where job seekers are...</td>\n",
       "      <td>301.0</td>\n",
       "      <td>324.0</td>\n",
       "    </tr>\n",
       "    <tr>\n",
       "      <th>8</th>\n",
       "      <td>Iran criticizes who?</td>\n",
       "      <td>{\"63:97\": 2}</td>\n",
       "      <td>TEHRAN, Iran (CNN) -- Iran's parliament speake...</td>\n",
       "      <td>63.0</td>\n",
       "      <td>97.0</td>\n",
       "    </tr>\n",
       "  </tbody>\n",
       "</table>\n",
       "</div>"
      ],
      "text/plain": [
       "                                            question  \\\n",
       "0          What was the amount of children murdered?   \n",
       "2  who did say South Africa did not issue a visa ...   \n",
       "4                      What frightened the families?   \n",
       "6                                     Who is hiring?   \n",
       "8                               Iran criticizes who?   \n",
       "\n",
       "              validated_answers  \\\n",
       "0     {\"none\": 1, \"294:297\": 2}   \n",
       "2  {\"839:853\": 1, \"103:127\": 2}   \n",
       "4  {\"688:791\": 2, \"690:742\": 1}   \n",
       "6                {\"301:324\": 2}   \n",
       "8                  {\"63:97\": 2}   \n",
       "\n",
       "                                          story_text  start_truth  end_truth  \n",
       "0  NEW DELHI, India (CNN) -- A high court in nort...        294.0      297.0  \n",
       "2  Johannesburg (CNN) -- Miffed by a visa delay t...        103.0      127.0  \n",
       "4  BAGHDAD, Iraq (CNN)  -- At least 6,000 Christi...        688.0      791.0  \n",
       "6  CNN affiliates report on where job seekers are...        301.0      324.0  \n",
       "8  TEHRAN, Iran (CNN) -- Iran's parliament speake...         63.0       97.0  "
      ]
     },
     "execution_count": 10,
     "metadata": {},
     "output_type": "execute_result"
    }
   ],
   "source": [
    "# loops through the rows and prints the question along with the first answer given\n",
    "start_truth = []\n",
    "end_truth = []\n",
    "for i, row in df.iterrows():\n",
    "    try:\n",
    "        answers = ast.literal_eval(row['validated_answers'])\n",
    "        sorted_ans = sorted(answers.items(), key=operator.itemgetter(1), reverse=True)\n",
    "        #print(sorted_ans)\n",
    "        start, end = sorted_ans[0][0].split(':')\n",
    "        start_truth.append(int(start))\n",
    "        end_truth.append(int(end))\n",
    "    except ValueError:\n",
    "        start_truth.append(np.nan)\n",
    "        end_truth.append(np.nan)\n",
    "        pass\n",
    "df['start_truth'] = start_truth\n",
    "df['end_truth'] = end_truth\n",
    "df = df.dropna()\n",
    "print(len(df))\n",
    "df.head()"
   ]
  },
  {
   "cell_type": "code",
   "execution_count": 11,
   "metadata": {
    "scrolled": false
   },
   "outputs": [
    {
     "data": {
      "text/html": [
       "<div>\n",
       "<style scoped>\n",
       "    .dataframe tbody tr th:only-of-type {\n",
       "        vertical-align: middle;\n",
       "    }\n",
       "\n",
       "    .dataframe tbody tr th {\n",
       "        vertical-align: top;\n",
       "    }\n",
       "\n",
       "    .dataframe thead th {\n",
       "        text-align: right;\n",
       "    }\n",
       "</style>\n",
       "<table border=\"1\" class=\"dataframe\">\n",
       "  <thead>\n",
       "    <tr style=\"text-align: right;\">\n",
       "      <th></th>\n",
       "      <th>question</th>\n",
       "      <th>story_text</th>\n",
       "      <th>start_truth</th>\n",
       "      <th>end_truth</th>\n",
       "      <th>ss</th>\n",
       "    </tr>\n",
       "  </thead>\n",
       "  <tbody>\n",
       "    <tr>\n",
       "      <th>0</th>\n",
       "      <td>What was the amount of children murdered?</td>\n",
       "      <td>NEW DELHI, India (CNN) -- A high court in nort...</td>\n",
       "      <td>294.0</td>\n",
       "      <td>297.0</td>\n",
       "      <td>0.0</td>\n",
       "    </tr>\n",
       "    <tr>\n",
       "      <th>2</th>\n",
       "      <td>who did say South Africa did not issue a visa ...</td>\n",
       "      <td>Johannesburg (CNN) -- Miffed by a visa delay t...</td>\n",
       "      <td>103.0</td>\n",
       "      <td>127.0</td>\n",
       "      <td>0.0</td>\n",
       "    </tr>\n",
       "    <tr>\n",
       "      <th>4</th>\n",
       "      <td>What frightened the families?</td>\n",
       "      <td>BAGHDAD, Iraq (CNN)  -- At least 6,000 Christi...</td>\n",
       "      <td>688.0</td>\n",
       "      <td>791.0</td>\n",
       "      <td>0.0</td>\n",
       "    </tr>\n",
       "    <tr>\n",
       "      <th>6</th>\n",
       "      <td>Who is hiring?</td>\n",
       "      <td>CNN affiliates report on where job seekers are...</td>\n",
       "      <td>301.0</td>\n",
       "      <td>324.0</td>\n",
       "      <td>0.0</td>\n",
       "    </tr>\n",
       "    <tr>\n",
       "      <th>8</th>\n",
       "      <td>Iran criticizes who?</td>\n",
       "      <td>TEHRAN, Iran (CNN) -- Iran's parliament speake...</td>\n",
       "      <td>63.0</td>\n",
       "      <td>97.0</td>\n",
       "      <td>0.0</td>\n",
       "    </tr>\n",
       "  </tbody>\n",
       "</table>\n",
       "</div>"
      ],
      "text/plain": [
       "                                            question  \\\n",
       "0          What was the amount of children murdered?   \n",
       "2  who did say South Africa did not issue a visa ...   \n",
       "4                      What frightened the families?   \n",
       "6                                     Who is hiring?   \n",
       "8                               Iran criticizes who?   \n",
       "\n",
       "                                          story_text  start_truth  end_truth  \\\n",
       "0  NEW DELHI, India (CNN) -- A high court in nort...        294.0      297.0   \n",
       "2  Johannesburg (CNN) -- Miffed by a visa delay t...        103.0      127.0   \n",
       "4  BAGHDAD, Iraq (CNN)  -- At least 6,000 Christi...        688.0      791.0   \n",
       "6  CNN affiliates report on where job seekers are...        301.0      324.0   \n",
       "8  TEHRAN, Iran (CNN) -- Iran's parliament speake...         63.0       97.0   \n",
       "\n",
       "    ss  \n",
       "0  0.0  \n",
       "2  0.0  \n",
       "4  0.0  \n",
       "6  0.0  \n",
       "8  0.0  "
      ]
     },
     "execution_count": 11,
     "metadata": {},
     "output_type": "execute_result"
    }
   ],
   "source": [
    "final = df.drop(columns=['validated_answers'])\n",
    "final['ss'] = np.zeros(len(final))\n",
    "final.head()"
   ]
  },
  {
   "cell_type": "markdown",
   "metadata": {},
   "source": [
    "## Char-level embeddings"
   ]
  },
  {
   "cell_type": "code",
   "execution_count": 12,
   "metadata": {},
   "outputs": [
    {
     "data": {
      "text/plain": [
       "('³', '/', '‚', 'n', 'ö')"
      ]
     },
     "execution_count": 12,
     "metadata": {},
     "output_type": "execute_result"
    }
   ],
   "source": [
    "full_text = ''\n",
    "m = 0\n",
    "len_nums = []\n",
    "for col in ['question','story_text']:\n",
    "    for text in final[col]:\n",
    "        m = max(m, len(text))\n",
    "        full_text += text.lower()\n",
    "    len_nums.append(m)\n",
    "    m=0\n",
    "    \n",
    "# get the set of all characters\n",
    "characters = tuple(set(full_text))\n",
    "characters[:5]"
   ]
  },
  {
   "cell_type": "code",
   "execution_count": 13,
   "metadata": {},
   "outputs": [
    {
     "name": "stdout",
     "output_type": "stream",
     "text": [
      "{'³': 0, '/': 1, '‚': 2, 'n': 3, 'ö': 4, 'o': 5, '>': 6, '±': 7, 'ú': 8, '¯': 9, 'c': 10, 'à': 11, 'w': 12, '%': 13, '•': 14, '6': 15, '_': 16, '¡': 17, '€': 18, ']': 19, '\\xa0': 20, 'ô': 21, 'p': 22, '.': 23, '=': 24, '5': 25, '9': 26, 'u': 27, '7': 28, '¾': 29, '¥': 30, 'ä': 31, 'f': 32, '(': 33, '—': 34, '\\u202c': 35, 'ñ': 36, '·': 37, 'ü': 38, 'z': 39, 'i': 40, '§': 41, \"'\": 42, '?': 43, '3': 44, 'â': 45, 'q': 46, '!': 47, 'e': 48, 'û': 49, 'y': 50, 'ó': 51, '*': 52, 'á': 53, 'ù': 54, '[': 55, '-': 56, '®': 57, '#': 58, '£': 59, 'j': 60, '×': 61, 'r': 62, '\\n': 63, 'm': 64, 'g': 65, '$': 66, '¬': 67, 'k': 68, ')': 69, 'ï': 70, '2': 71, '`': 72, 'v': 73, 'l': 74, 'a': 75, 'º': 76, 'é': 77, 'ò': 78, '\"': 79, '&': 80, 't': 81, '}': 82, 'þ': 83, '\\\\': 84, '8': 85, 'd': 86, 'ţ': 87, '½': 88, 'ø': 89, '|': 90, '»': 91, 'î': 92, 'ê': 93, '”': 94, 'ş': 95, '¹': 96, '¢': 97, '¨': 98, ':': 99, 'h': 100, '4': 101, ',': 102, '1': 103, '@': 104, ';': 105, '°': 106, '\\u202a': 107, 'è': 108, '\\xad': 109, 'í': 110, 'ÿ': 111, '´': 112, 'ã': 113, '0': 114, 'b': 115, ' ': 116, 's': 117, 'ë': 118, 'x': 119, 'ç': 120, '©': 121, '+': 122}\n"
     ]
    }
   ],
   "source": [
    "# use enumeration to give the characters integer values\n",
    "int2char = dict(enumerate(characters))\n",
    "\n",
    "# create the look up dictionary from characters to the assigned integers\n",
    "char2int = {char: index for index, char in int2char.items()}\n",
    "print(char2int)\n"
   ]
  },
  {
   "cell_type": "code",
   "execution_count": 14,
   "metadata": {},
   "outputs": [
    {
     "name": "stdout",
     "output_type": "stream",
     "text": [
      "112 11349\n"
     ]
    }
   ],
   "source": [
    "q_max, story_max = len_nums\n",
    "print(q_max, story_max)"
   ]
  },
  {
   "cell_type": "code",
   "execution_count": 15,
   "metadata": {},
   "outputs": [],
   "source": [
    "def find_s(seq):\n",
    "    for i, char in enumerate(seq):\n",
    "        if char == 0:\n",
    "            continue\n",
    "        else: return i"
   ]
  },
  {
   "cell_type": "code",
   "execution_count": 16,
   "metadata": {
    "scrolled": false
   },
   "outputs": [
    {
     "name": "stderr",
     "output_type": "stream",
     "text": [
      "/home/ec2-user/anaconda3/envs/pytorch_p36/lib/python3.6/site-packages/ipykernel_launcher.py:15: SettingWithCopyWarning: \n",
      "A value is trying to be set on a copy of a slice from a DataFrame\n",
      "\n",
      "See the caveats in the documentation: http://pandas.pydata.org/pandas-docs/stable/indexing.html#indexing-view-versus-copy\n",
      "  from ipykernel import kernelapp as app\n",
      "/home/ec2-user/anaconda3/envs/pytorch_p36/lib/python3.6/site-packages/ipykernel_launcher.py:16: SettingWithCopyWarning: \n",
      "A value is trying to be set on a copy of a slice from a DataFrame\n",
      "\n",
      "See the caveats in the documentation: http://pandas.pydata.org/pandas-docs/stable/indexing.html#indexing-view-versus-copy\n",
      "  app.launch_new_instance()\n"
     ]
    },
    {
     "data": {
      "text/html": [
       "<div>\n",
       "<style scoped>\n",
       "    .dataframe tbody tr th:only-of-type {\n",
       "        vertical-align: middle;\n",
       "    }\n",
       "\n",
       "    .dataframe tbody tr th {\n",
       "        vertical-align: top;\n",
       "    }\n",
       "\n",
       "    .dataframe thead th {\n",
       "        text-align: right;\n",
       "    }\n",
       "</style>\n",
       "<table border=\"1\" class=\"dataframe\">\n",
       "  <thead>\n",
       "    <tr style=\"text-align: right;\">\n",
       "      <th></th>\n",
       "      <th>question</th>\n",
       "      <th>story_text</th>\n",
       "      <th>start_truth</th>\n",
       "      <th>end_truth</th>\n",
       "      <th>ss</th>\n",
       "    </tr>\n",
       "  </thead>\n",
       "  <tbody>\n",
       "    <tr>\n",
       "      <th>0</th>\n",
       "      <td>[0, 0, 0, 0, 0, 0, 0, 0, 0, 0, 0, 0, 0, 0, 0, ...</td>\n",
       "      <td>[0, 0, 0, 0, 0, 0, 0, 0, 0, 0, 0, 0, 0, 0, 0, ...</td>\n",
       "      <td>294.0</td>\n",
       "      <td>297.0</td>\n",
       "      <td>10114.0</td>\n",
       "    </tr>\n",
       "    <tr>\n",
       "      <th>2</th>\n",
       "      <td>[0, 0, 0, 0, 0, 0, 0, 0, 0, 0, 0, 0, 0, 0, 0, ...</td>\n",
       "      <td>[0, 0, 0, 0, 0, 0, 0, 0, 0, 0, 0, 0, 0, 0, 0, ...</td>\n",
       "      <td>103.0</td>\n",
       "      <td>127.0</td>\n",
       "      <td>7243.0</td>\n",
       "    </tr>\n",
       "    <tr>\n",
       "      <th>4</th>\n",
       "      <td>[0, 0, 0, 0, 0, 0, 0, 0, 0, 0, 0, 0, 0, 0, 0, ...</td>\n",
       "      <td>[0, 0, 0, 0, 0, 0, 0, 0, 0, 0, 0, 0, 0, 0, 0, ...</td>\n",
       "      <td>688.0</td>\n",
       "      <td>791.0</td>\n",
       "      <td>9077.0</td>\n",
       "    </tr>\n",
       "    <tr>\n",
       "      <th>6</th>\n",
       "      <td>[0, 0, 0, 0, 0, 0, 0, 0, 0, 0, 0, 0, 0, 0, 0, ...</td>\n",
       "      <td>[0, 0, 0, 0, 0, 0, 0, 0, 0, 0, 0, 0, 0, 0, 0, ...</td>\n",
       "      <td>301.0</td>\n",
       "      <td>324.0</td>\n",
       "      <td>5733.0</td>\n",
       "    </tr>\n",
       "    <tr>\n",
       "      <th>8</th>\n",
       "      <td>[0, 0, 0, 0, 0, 0, 0, 0, 0, 0, 0, 0, 0, 0, 0, ...</td>\n",
       "      <td>[0, 0, 0, 0, 0, 0, 0, 0, 0, 0, 0, 0, 0, 0, 0, ...</td>\n",
       "      <td>63.0</td>\n",
       "      <td>97.0</td>\n",
       "      <td>8539.0</td>\n",
       "    </tr>\n",
       "  </tbody>\n",
       "</table>\n",
       "</div>"
      ],
      "text/plain": [
       "                                            question  \\\n",
       "0  [0, 0, 0, 0, 0, 0, 0, 0, 0, 0, 0, 0, 0, 0, 0, ...   \n",
       "2  [0, 0, 0, 0, 0, 0, 0, 0, 0, 0, 0, 0, 0, 0, 0, ...   \n",
       "4  [0, 0, 0, 0, 0, 0, 0, 0, 0, 0, 0, 0, 0, 0, 0, ...   \n",
       "6  [0, 0, 0, 0, 0, 0, 0, 0, 0, 0, 0, 0, 0, 0, 0, ...   \n",
       "8  [0, 0, 0, 0, 0, 0, 0, 0, 0, 0, 0, 0, 0, 0, 0, ...   \n",
       "\n",
       "                                          story_text  start_truth  end_truth  \\\n",
       "0  [0, 0, 0, 0, 0, 0, 0, 0, 0, 0, 0, 0, 0, 0, 0, ...        294.0      297.0   \n",
       "2  [0, 0, 0, 0, 0, 0, 0, 0, 0, 0, 0, 0, 0, 0, 0, ...        103.0      127.0   \n",
       "4  [0, 0, 0, 0, 0, 0, 0, 0, 0, 0, 0, 0, 0, 0, 0, ...        688.0      791.0   \n",
       "6  [0, 0, 0, 0, 0, 0, 0, 0, 0, 0, 0, 0, 0, 0, 0, ...        301.0      324.0   \n",
       "8  [0, 0, 0, 0, 0, 0, 0, 0, 0, 0, 0, 0, 0, 0, 0, ...         63.0       97.0   \n",
       "\n",
       "        ss  \n",
       "0  10114.0  \n",
       "2   7243.0  \n",
       "4   9077.0  \n",
       "6   5733.0  \n",
       "8   8539.0  "
      ]
     },
     "execution_count": 16,
     "metadata": {},
     "output_type": "execute_result"
    }
   ],
   "source": [
    "padding_start = False\n",
    "\n",
    "for i, row in final.iterrows():\n",
    "    for col, N in zip(['question','story_text'], [q_max, story_max]):\n",
    "        enc = np.zeros(N, dtype=np.int32)\n",
    "        \n",
    "        row[col] = np.array([char2int[char] for char in row[col].lower()])\n",
    "        l = min(N, len(row[col]))\n",
    "        \n",
    "        if padding_start:\n",
    "            enc[:l] = row[col][:l]\n",
    "        else:\n",
    "            enc[N-l:] = row[col][:l]\n",
    "        \n",
    "        final[col][i] = enc\n",
    "        final['ss'][i] = N-l\n",
    "\n",
    "final.head()"
   ]
  },
  {
   "cell_type": "code",
   "execution_count": 17,
   "metadata": {
    "scrolled": true
   },
   "outputs": [
    {
     "name": "stdout",
     "output_type": "stream",
     "text": [
      "[ 0  0  0 ... 62 81 23]\n",
      "7243\n"
     ]
    }
   ],
   "source": [
    "print(final.iloc[1,1])\n",
    "print(find_s(final.iloc[1,1]))\n",
    "# find_s([0,0,0,0,0,0,1,2,4])"
   ]
  },
  {
   "cell_type": "markdown",
   "metadata": {},
   "source": [
    "## Train/Test Split"
   ]
  },
  {
   "cell_type": "code",
   "execution_count": 18,
   "metadata": {},
   "outputs": [],
   "source": [
    "from sklearn.model_selection import train_test_split\n",
    "\n",
    "X_train, X_test, y_train, y_test = train_test_split(final[['question', 'story_text', 'ss']], \n",
    "                                                    final[['start_truth','end_truth']], \n",
    "                                                    test_size=0.3, \n",
    "                                                    random_state=42)"
   ]
  },
  {
   "cell_type": "code",
   "execution_count": 19,
   "metadata": {},
   "outputs": [
    {
     "name": "stdout",
     "output_type": "stream",
     "text": [
      "Int64Index([ 2620,  2165,  5896, 11169,  4408,  7251, 13871, 15569,  4459,\n",
      "            16101,\n",
      "            ...\n",
      "             4609, 15400, 12242,  1326, 17310, 15819, 14346, 14897,  2295,\n",
      "            20192],\n",
      "           dtype='int64', length=5822)\n"
     ]
    },
    {
     "data": {
      "text/html": [
       "<div>\n",
       "<style scoped>\n",
       "    .dataframe tbody tr th:only-of-type {\n",
       "        vertical-align: middle;\n",
       "    }\n",
       "\n",
       "    .dataframe tbody tr th {\n",
       "        vertical-align: top;\n",
       "    }\n",
       "\n",
       "    .dataframe thead th {\n",
       "        text-align: right;\n",
       "    }\n",
       "</style>\n",
       "<table border=\"1\" class=\"dataframe\">\n",
       "  <thead>\n",
       "    <tr style=\"text-align: right;\">\n",
       "      <th></th>\n",
       "      <th>question</th>\n",
       "      <th>story_text</th>\n",
       "      <th>ss</th>\n",
       "    </tr>\n",
       "  </thead>\n",
       "  <tbody>\n",
       "    <tr>\n",
       "      <th>2620</th>\n",
       "      <td>[0, 0, 0, 0, 0, 0, 0, 0, 0, 0, 0, 0, 0, 0, 0, ...</td>\n",
       "      <td>[0, 0, 0, 0, 0, 0, 0, 0, 0, 0, 0, 0, 0, 0, 0, ...</td>\n",
       "      <td>6931.0</td>\n",
       "    </tr>\n",
       "    <tr>\n",
       "      <th>2165</th>\n",
       "      <td>[0, 0, 0, 0, 0, 0, 0, 0, 0, 0, 0, 0, 0, 0, 0, ...</td>\n",
       "      <td>[0, 0, 0, 0, 0, 0, 0, 0, 0, 0, 0, 0, 0, 0, 0, ...</td>\n",
       "      <td>9698.0</td>\n",
       "    </tr>\n",
       "    <tr>\n",
       "      <th>5896</th>\n",
       "      <td>[0, 0, 0, 0, 0, 0, 0, 0, 0, 0, 0, 0, 0, 0, 0, ...</td>\n",
       "      <td>[0, 0, 0, 0, 0, 0, 0, 0, 0, 0, 0, 0, 0, 0, 0, ...</td>\n",
       "      <td>8949.0</td>\n",
       "    </tr>\n",
       "    <tr>\n",
       "      <th>11169</th>\n",
       "      <td>[0, 0, 0, 0, 0, 0, 0, 0, 0, 0, 0, 0, 0, 0, 0, ...</td>\n",
       "      <td>[0, 0, 0, 0, 0, 0, 0, 0, 0, 0, 0, 0, 0, 0, 0, ...</td>\n",
       "      <td>9016.0</td>\n",
       "    </tr>\n",
       "    <tr>\n",
       "      <th>4408</th>\n",
       "      <td>[0, 0, 0, 0, 0, 0, 0, 0, 0, 0, 0, 0, 0, 0, 0, ...</td>\n",
       "      <td>[0, 0, 0, 0, 0, 0, 0, 0, 0, 0, 0, 0, 0, 0, 0, ...</td>\n",
       "      <td>9033.0</td>\n",
       "    </tr>\n",
       "  </tbody>\n",
       "</table>\n",
       "</div>"
      ],
      "text/plain": [
       "                                                question  \\\n",
       "2620   [0, 0, 0, 0, 0, 0, 0, 0, 0, 0, 0, 0, 0, 0, 0, ...   \n",
       "2165   [0, 0, 0, 0, 0, 0, 0, 0, 0, 0, 0, 0, 0, 0, 0, ...   \n",
       "5896   [0, 0, 0, 0, 0, 0, 0, 0, 0, 0, 0, 0, 0, 0, 0, ...   \n",
       "11169  [0, 0, 0, 0, 0, 0, 0, 0, 0, 0, 0, 0, 0, 0, 0, ...   \n",
       "4408   [0, 0, 0, 0, 0, 0, 0, 0, 0, 0, 0, 0, 0, 0, 0, ...   \n",
       "\n",
       "                                              story_text      ss  \n",
       "2620   [0, 0, 0, 0, 0, 0, 0, 0, 0, 0, 0, 0, 0, 0, 0, ...  6931.0  \n",
       "2165   [0, 0, 0, 0, 0, 0, 0, 0, 0, 0, 0, 0, 0, 0, 0, ...  9698.0  \n",
       "5896   [0, 0, 0, 0, 0, 0, 0, 0, 0, 0, 0, 0, 0, 0, 0, ...  8949.0  \n",
       "11169  [0, 0, 0, 0, 0, 0, 0, 0, 0, 0, 0, 0, 0, 0, 0, ...  9016.0  \n",
       "4408   [0, 0, 0, 0, 0, 0, 0, 0, 0, 0, 0, 0, 0, 0, 0, ...  9033.0  "
      ]
     },
     "execution_count": 19,
     "metadata": {},
     "output_type": "execute_result"
    }
   ],
   "source": [
    "print(X_train.index)\n",
    "X_train.head()"
   ]
  },
  {
   "cell_type": "code",
   "execution_count": 20,
   "metadata": {},
   "outputs": [
    {
     "data": {
      "text/plain": [
       "6.0"
      ]
     },
     "execution_count": 20,
     "metadata": {},
     "output_type": "execute_result"
    }
   ],
   "source": [
    "min(y_train.end_truth)"
   ]
  },
  {
   "cell_type": "code",
   "execution_count": 21,
   "metadata": {},
   "outputs": [
    {
     "data": {
      "text/html": [
       "<div>\n",
       "<style scoped>\n",
       "    .dataframe tbody tr th:only-of-type {\n",
       "        vertical-align: middle;\n",
       "    }\n",
       "\n",
       "    .dataframe tbody tr th {\n",
       "        vertical-align: top;\n",
       "    }\n",
       "\n",
       "    .dataframe thead th {\n",
       "        text-align: right;\n",
       "    }\n",
       "</style>\n",
       "<table border=\"1\" class=\"dataframe\">\n",
       "  <thead>\n",
       "    <tr style=\"text-align: right;\">\n",
       "      <th></th>\n",
       "      <th>start_truth</th>\n",
       "      <th>end_truth</th>\n",
       "    </tr>\n",
       "  </thead>\n",
       "  <tbody>\n",
       "    <tr>\n",
       "      <th>2620</th>\n",
       "      <td>172.0</td>\n",
       "      <td>194.0</td>\n",
       "    </tr>\n",
       "    <tr>\n",
       "      <th>2165</th>\n",
       "      <td>339.0</td>\n",
       "      <td>357.0</td>\n",
       "    </tr>\n",
       "    <tr>\n",
       "      <th>5896</th>\n",
       "      <td>171.0</td>\n",
       "      <td>176.0</td>\n",
       "    </tr>\n",
       "    <tr>\n",
       "      <th>11169</th>\n",
       "      <td>120.0</td>\n",
       "      <td>130.0</td>\n",
       "    </tr>\n",
       "    <tr>\n",
       "      <th>4408</th>\n",
       "      <td>171.0</td>\n",
       "      <td>184.0</td>\n",
       "    </tr>\n",
       "  </tbody>\n",
       "</table>\n",
       "</div>"
      ],
      "text/plain": [
       "       start_truth  end_truth\n",
       "2620         172.0      194.0\n",
       "2165         339.0      357.0\n",
       "5896         171.0      176.0\n",
       "11169        120.0      130.0\n",
       "4408         171.0      184.0"
      ]
     },
     "execution_count": 21,
     "metadata": {},
     "output_type": "execute_result"
    }
   ],
   "source": [
    "y_train.head()"
   ]
  },
  {
   "cell_type": "markdown",
   "metadata": {},
   "source": [
    "## Dataset"
   ]
  },
  {
   "cell_type": "code",
   "execution_count": 22,
   "metadata": {},
   "outputs": [],
   "source": [
    "class NewsQADataset(Dataset):\n",
    "    def __init__(self, X, y, N=400, padding_start=False):\n",
    "        self.start = y['start_truth'].values\n",
    "        self.end = y['end_truth'].values\n",
    "        self.question = X['question'].values\n",
    "        self.story_text = X['story_text'].values\n",
    "        self.ss = X['ss'].values\n",
    "        \n",
    "    def __len__(self):\n",
    "        return len(self.question)\n",
    "    \n",
    "    def __getitem__(self, idx):\n",
    "        #print(self.question)\n",
    "        #qs = np.array([find_s(seq) for seq in self.question])\n",
    "        # ss = np.array([find_s(seq) for seq in self.story_text])\n",
    "        return self.question[idx], self.story_text[idx], self.start[idx] + self.ss[idx], self.end[idx] + self.ss[idx]"
   ]
  },
  {
   "cell_type": "code",
   "execution_count": 23,
   "metadata": {},
   "outputs": [],
   "source": [
    "train_ds = NewsQADataset(X_train, y_train)\n",
    "test_ds = NewsQADataset(X_test, y_test)"
   ]
  },
  {
   "cell_type": "code",
   "execution_count": 24,
   "metadata": {},
   "outputs": [
    {
     "data": {
      "text/plain": [
       "(array([  0,   0,   0,   0,   0,   0,   0,   0,   0,   0,   0,   0,   0,\n",
       "          0,   0,   0,   0,   0,   0,   0,   0,   0,   0,   0,   0,   0,\n",
       "          0,   0,   0,   0,   0,   0,   0,   0,   0,   0,   0,   0,   0,\n",
       "          0,   0,   0,   0,   0,   0,   0,   0,   0,   0,   0,   0,   0,\n",
       "          0,   0,   0,   0,   0,   0,   0,   0,   0,   0,   0,   0,   0,\n",
       "          0,   0,   0,   0,   0,   0,   0,   0,   0,   0,   0,   0,   0,\n",
       "          0,   0,   0,   0,   0,  12, 100,   5, 116,  74,  48,  32,  81,\n",
       "        116,  64,  48, 119,  40,  10,   5,  42, 117, 116,  65,   5,  73,\n",
       "         48,  62,   3,  64,  48,   3,  81,  43], dtype=int32),\n",
       " array([ 0,  0,  0, ..., 40, 86, 23], dtype=int32),\n",
       " 7103.0,\n",
       " 7125.0)"
      ]
     },
     "execution_count": 24,
     "metadata": {},
     "output_type": "execute_result"
    }
   ],
   "source": [
    "train_ds[0]"
   ]
  },
  {
   "cell_type": "code",
   "execution_count": 25,
   "metadata": {},
   "outputs": [],
   "source": [
    "batch_size = 100\n",
    "train_dl = DataLoader(train_ds, batch_size=batch_size, shuffle=True)\n",
    "test_dl = DataLoader(test_ds, batch_size=batch_size)"
   ]
  },
  {
   "cell_type": "code",
   "execution_count": 26,
   "metadata": {},
   "outputs": [
    {
     "name": "stdout",
     "output_type": "stream",
     "text": [
      "torch.Size([100, 112]) torch.Size([100, 11349]) torch.Size([100]) torch.Size([100])\n"
     ]
    },
    {
     "data": {
      "text/plain": [
       "(tensor([[  0,   0,   0,  ...,  65,  48,  43],\n",
       "         [  0,   0,   0,  ...,  75, 117,  43],\n",
       "         [  0,   0,   0,  ..., 117, 117,  43],\n",
       "         ...,\n",
       "         [  0,   0,   0,  ...,  48,  48,  81],\n",
       "         [  0,   0,   0,  ...,  81, 100,  43],\n",
       "         [  0,   0,   0,  ...,  12,   3,  43]], dtype=torch.int32),\n",
       " tensor([[  0,   0,   0,  ...,  40,  86,  23],\n",
       "         [  0,   0,   0,  ...,  68,  74,  50],\n",
       "         [  0,   0,   0,  ..., 117,  23,  79],\n",
       "         ...,\n",
       "         [  0,   0,   0,  ...,  81,  48,  23],\n",
       "         [  0,   0,   0,  ...,  50,  23,  79],\n",
       "         [  0,   0,   0,  ...,  10,   5,  64]], dtype=torch.int32),\n",
       " tensor([ 8040.,  7800.,  7089.,  9643., 10787.,  6717.,  7900.,  9827.,  9063.,\n",
       "          9314.,  7599.,  7050.,  6065.,  5980.,  5737.,  6382.,  7761.,  9464.,\n",
       "          9386.,  9365., 10203.,  9575., 10414., 10401., 10125.,  8713.,  8896.,\n",
       "          9876.,  9489.,  5872.,  8807.,  6557.,  9483.,  7345.,  7810., 10044.,\n",
       "          8608.,  9356.,  7476.,  7852., 10855.,  7904.,  8968.,  8677.,  7582.,\n",
       "          9247.,  9365.,  1565.,  9832.,  8642.,  5463.,  5513.,  8954.,  9332.,\n",
       "          7834.,  9872.,  9956.,  8907.,  8247.,  9570.,  7097., 11022.,  8328.,\n",
       "          9402., 10815.,  5515., 11204.,  7911.,  9074.,  9171., 10448.,  6482.,\n",
       "         10154., 10268.,  9879., 10899.,  6035.,  9040.,  7742.,  7606.,  6448.,\n",
       "         10543.,  8292.,  7509.,  7517., 10112.,  8210., 10494., 10091.,  5553.,\n",
       "          9248.,  8040.,  8373.,  9800., 10744.,  9934.,  9845.,  6704.,  7776.,\n",
       "          7780.], dtype=torch.float64),\n",
       " tensor([ 8063.,  7815.,  7098.,  9647., 10840.,  6733.,  7921.,  9859.,  9075.,\n",
       "          9325.,  7626.,  7084.,  6082.,  5996.,  5773.,  6406.,  7780.,  9480.,\n",
       "          9393.,  9385., 10264.,  9616., 10453., 10477., 10206.,  8760.,  8928.,\n",
       "          9882.,  9538.,  5885.,  8813.,  6703.,  9560.,  7368.,  7819., 10047.,\n",
       "          8621.,  9397.,  7499.,  7873., 10890.,  7949.,  8981.,  8690.,  7596.,\n",
       "          9280.,  9412.,  1595.,  9855.,  8653.,  5535.,  5522.,  8961.,  9338.,\n",
       "          7869.,  9882.,  9969.,  8960.,  8273.,  9657.,  7264., 11056.,  8364.,\n",
       "          9416., 10822.,  5543., 11217.,  7919.,  9088.,  9207., 10464.,  6804.,\n",
       "         10273., 10279.,  9982., 10917.,  6051.,  9058.,  7897.,  7614.,  6507.,\n",
       "         10601.,  8325.,  7565.,  7533., 10120.,  8232., 10571., 10166.,  5572.,\n",
       "          9273.,  8048.,  8397.,  9805., 10795.,  9953.,  9860.,  6740.,  7799.,\n",
       "          7797.], dtype=torch.float64))"
      ]
     },
     "execution_count": 26,
     "metadata": {},
     "output_type": "execute_result"
    }
   ],
   "source": [
    "q, s, start, end = next(iter(train_dl))\n",
    "print(q.shape, s.shape, start.shape, end.shape)\n",
    "q, s, start, end"
   ]
  },
  {
   "cell_type": "markdown",
   "metadata": {},
   "source": [
    "## Modeling"
   ]
  },
  {
   "cell_type": "code",
   "execution_count": 27,
   "metadata": {},
   "outputs": [],
   "source": [
    "class GRUModel(torch.nn.Module) :\n",
    "    def __init__(self, vocab_size, embedding_dim, hidden_dim, q_max, story_max):\n",
    "        super(GRUModel, self).__init__()\n",
    "        self.hidden_dim = hidden_dim\n",
    "        self.embeddings = nn.Embedding(vocab_size, embedding_dim, padding_idx=0)\n",
    "        self.dropout = nn.Dropout(0.5)\n",
    "        self.gru = nn.GRU(embedding_dim, hidden_dim, batch_first=True)\n",
    "        self.linear2 = nn.Linear(200, story_max)\n",
    "        self.linear_start = nn.Linear(story_max, story_max+1)\n",
    "        self.linear_end = nn.Linear(story_max, story_max+1)\n",
    "        \n",
    "    def forward(self, x1, x2):\n",
    "        \n",
    "        x1 = self.embeddings(x1)\n",
    "        x1 = self.dropout(x1)\n",
    "        out_pack1, ht1= self.gru(x1)\n",
    "        \n",
    "        x2 = self.embeddings(x2)\n",
    "        x2 = self.dropout(x2)\n",
    "        out_pack2, ht2= self.gru(x2)\n",
    "        \n",
    "        \n",
    "        x = torch.cat((ht1[-1], ht2[-1]),1)\n",
    "        \n",
    "        x = F.relu(self.linear2(x))\n",
    "        start = self.linear_start(x)\n",
    "        end = self.linear_end(x)\n",
    " \n",
    "        return start, end"
   ]
  },
  {
   "cell_type": "markdown",
   "metadata": {},
   "source": [
    "I've taken the functions from her last name classification model because that uses character-level embeddings as well. I'm using a naive version that just concats the question with the story and uses that as input into the RNN. I used that with regressing 2 outputs (start, end) and I got it to train but not sure how well it's actually doing. I think we correct way to do this is to treat it as a classification problem where each index of the story is a categroy and we use those predictions"
   ]
  },
  {
   "cell_type": "code",
   "execution_count": 29,
   "metadata": {},
   "outputs": [
    {
     "data": {
      "text/plain": [
       "[array([0., 1., 0., ..., 0., 0., 0.]),\n",
       " array([0., 0., 0., ..., 0., 0., 0.]),\n",
       " array([0., 0., 1., ..., 0., 0., 0.])]"
      ]
     },
     "execution_count": 29,
     "metadata": {},
     "output_type": "execute_result"
    }
   ],
   "source": [
    "def get_optimizer(model, lr = 0.01, wd = 0.0001):\n",
    "    parameters = filter(lambda p: p.requires_grad, model.parameters())\n",
    "    optim = torch.optim.Adam(parameters, lr=lr, weight_decay=wd)\n",
    "    return optim\n",
    "\n",
    "def vectorize(labels, size=7361):\n",
    "    result = []\n",
    "    for s in labels:\n",
    "        #print(s)\n",
    "        row = np.zeros(size)\n",
    "        row[int(s)] = 1\n",
    "        result.append(row)\n",
    "        \n",
    "    return result\n",
    "\n",
    "vectorize([1, 10, 2])"
   ]
  },
  {
   "cell_type": "code",
   "execution_count": 30,
   "metadata": {},
   "outputs": [],
   "source": [
    "def train_epocs(model, epochs=5, lr=0.001):\n",
    "    parameters = filter(lambda p: p.requires_grad, model.parameters())\n",
    "    optimizer = torch.optim.Adam(parameters, lr=lr)\n",
    "    for i in range(epochs):\n",
    "        model.train()\n",
    "        sum_loss = 0.0\n",
    "        total = 0\n",
    "        for q, s, start_, end_ in train_dl:\n",
    "            #start_vec = vectorize(start_)\n",
    "            #end_vec = vectorize(end_)\n",
    "            q = q.long()\n",
    "            s = s.long()\n",
    "            start_ = start_.long()\n",
    "            end_ = end_.long()\n",
    "\n",
    "            start, end = model(q, s)\n",
    "            loss_start = F.cross_entropy(start, start_)\n",
    "\n",
    "            loss_end = F.cross_entropy(end, end_)\n",
    "            loss = loss_start + loss_end\n",
    "            \n",
    "        \n",
    "            loss.backward()\n",
    "            optimizer.step()\n",
    "            sum_loss += loss.item()*end_.shape[0]\n",
    "            total += end_.shape[0]\n",
    "        val_loss = val_metrics(model, test_dl)\n",
    "        #if i % 5 == 1:\n",
    "        print(\"train loss %.3f val loss %.3f and val accuracy NA.3f\" % (sum_loss/total, val_loss))\n",
    "            \n",
    "def val_metrics(model, valid_dl):\n",
    "    model.eval()\n",
    "    correct = 0\n",
    "    total = 0\n",
    "    sum_loss = 0.0\n",
    "    for q, s, start_, end_ in valid_dl:\n",
    "        q = q.long()\n",
    "        s = s.long()\n",
    "        start_ = start_.long()\n",
    "        end_ = end_.long()\n",
    "\n",
    "        start, end = model(q, s)\n",
    "        #print(start, end)\n",
    "        #print(start.shape, end.shape)\n",
    "        \n",
    "        loss_start = F.cross_entropy(start, start_)\n",
    "        #print(loss_start)\n",
    "        \n",
    "        loss_end = F.cross_entropy(end, end_)\n",
    "        #print(loss_end)\n",
    "        \n",
    "        loss = loss_start + loss_end\n",
    "        #print(loss)\n",
    "        #\n",
    "        start_i = start.argmax(1)\n",
    "        end_i = end.argmax(1)\n",
    "        \n",
    "        \n",
    "        total += end_.shape[0]\n",
    "        sum_loss += loss.item()*end_.shape[0]\n",
    "    print(f'Predicted: {start_i}, Real: {start_}')\n",
    "    #print(f'Real: {start_}, {end_}')\n",
    "    return sum_loss/total"
   ]
  },
  {
   "cell_type": "code",
   "execution_count": 31,
   "metadata": {},
   "outputs": [],
   "source": [
    "vocab_size = len(char2int)\n",
    "hidden_size = 100\n",
    "n_classes = 2\n",
    "emb_size = 10\n",
    "model = GRUModel(vocab_size, emb_size, hidden_size, q_max, story_max)\n",
    "\n",
    "# val_metrics(model, test_dl)"
   ]
  },
  {
   "cell_type": "code",
   "execution_count": 32,
   "metadata": {},
   "outputs": [
    {
     "name": "stdout",
     "output_type": "stream",
     "text": [
      "Predicted: tensor([10658, 10658, 10508, 10658, 10658, 10658, 10508, 10508, 10658, 10508,\n",
      "        10508, 10658, 10508, 10508, 10508, 10658, 10508,  8829, 10658, 10658,\n",
      "        10658, 10658, 10508, 10508, 10658, 10658, 10658, 10658, 10658, 10508,\n",
      "        10658, 10658, 10508, 10508, 10658, 10508, 10658, 10658, 10658,  7182,\n",
      "        10658,  8829, 10508, 10658, 10508,  8829, 10508, 10658, 10658, 10658,\n",
      "        10508, 10658,  8829, 10658, 10658, 10658, 10658, 10658, 10658, 10658,\n",
      "        10658, 10508, 10508, 10508, 10658, 10658, 10508, 10658, 10658, 10658,\n",
      "        10658, 10508,  9669, 10658, 10658,  8829, 10658, 10508, 10658, 10658,\n",
      "        10658, 10508, 10658, 10508, 10508, 10658, 10658, 10508, 10658, 10658,\n",
      "        10508, 10658, 10508, 10658, 10508, 10658]), Real: tensor([11291,  9028, 10073,  9535, 10972,  9580,  7871,  9072,  9756,  8948,\n",
      "         9542,  9075,  9727, 10498,  8772,  8125,  8138,  9561, 10093,  8738,\n",
      "         7210,  8869,  9947, 10124,  7153, 10803,  5007,  6941,  9800,  8092,\n",
      "         8538,  9913, 10975,  5731,  4791, 11311,  9044,  8201,  6553, 10611,\n",
      "         9618, 10298,  9036, 10226,  7453,  9435,  8870,  9559,  7339,  8650,\n",
      "        10629,  8095,  9380,  7672,  9576,  7926,  8464,  9976,  8449, 10313,\n",
      "        10647,  4400, 10550,  6262,  5837,  5578,  7626,  5257,  5564,  9404,\n",
      "         5277,  6684, 10477,  9340, 10378,  6597,  9244,  7159,  7732, 10438,\n",
      "         9647,  9747,  9659, 10194,  7126,  7053,  7063,  6013, 10268,  8341,\n",
      "         8991, 10281,  4811,  8622,  7308,  7375])\n",
      "train loss 18.736 val loss 18.566 and val accuracy NA.3f\n",
      "Predicted: tensor([ 9022,  9022,  9022, 10135,  9022,  9022, 10135, 10135, 10135,  8933,\n",
      "         9022,  9022, 10135, 10135, 10135,  9022, 10135,  8933, 10135, 10135,\n",
      "         9022,  9022, 10135,  9022, 10135,  9022,  9022,  9022,  9022, 10135,\n",
      "         9022,  9022,  9022,  9022, 10135,  9022, 10135,  9022, 10135, 10135,\n",
      "         9022,  8933, 10135, 10135, 10135,  8933, 10135,  9022,  9022,  9022,\n",
      "         9022, 10135,  8933,  9022, 10135,  9022, 10135, 10135,  9022, 10135,\n",
      "         9022,  9022, 10135, 10135, 10135,  9022, 10135,  9022,  9022,  9022,\n",
      "        10135, 10135,  8933, 10135,  9022,  8933, 10135,  9022,  9022,  9022,\n",
      "        10135,  8933,  9022, 10135,  9022, 10135, 10135,  9022,  9022, 10135,\n",
      "         8933, 10135, 10135, 10135,  9022,  9022]), Real: tensor([11291,  9028, 10073,  9535, 10972,  9580,  7871,  9072,  9756,  8948,\n",
      "         9542,  9075,  9727, 10498,  8772,  8125,  8138,  9561, 10093,  8738,\n",
      "         7210,  8869,  9947, 10124,  7153, 10803,  5007,  6941,  9800,  8092,\n",
      "         8538,  9913, 10975,  5731,  4791, 11311,  9044,  8201,  6553, 10611,\n",
      "         9618, 10298,  9036, 10226,  7453,  9435,  8870,  9559,  7339,  8650,\n",
      "        10629,  8095,  9380,  7672,  9576,  7926,  8464,  9976,  8449, 10313,\n",
      "        10647,  4400, 10550,  6262,  5837,  5578,  7626,  5257,  5564,  9404,\n",
      "         5277,  6684, 10477,  9340, 10378,  6597,  9244,  7159,  7732, 10438,\n",
      "         9647,  9747,  9659, 10194,  7126,  7053,  7063,  6013, 10268,  8341,\n",
      "         8991, 10281,  4811,  8622,  7308,  7375])\n",
      "train loss 17.962 val loss 21.180 and val accuracy NA.3f\n",
      "Predicted: tensor([ 9734,  9734,  9734,  9734,  9734,  9734,  9734,  9734,  9734,  9734,\n",
      "         9734,  9734,  9734,  9734,  9734,  9734,  9734,  9734,  9734,  9734,\n",
      "         9734,  9734,  9734,  9734, 10123,  9734,  9734,  9734,  9734,  9734,\n",
      "         9734,  9734,  9734,  9734, 10123,  9734,  9734,  9734,  9734,  9734,\n",
      "         9734,  9734,  9734,  9734,  9734,  9734,  9734,  9734,  9734,  9734,\n",
      "         9734,  9734,  9734,  9734,  9734,  9734,  9734,  9734,  9734,  9734,\n",
      "         9734,  9734,  9734,  9734,  9734,  9734,  9734,  9734,  9734,  9734,\n",
      "         9734,  9734,  9734,  9734,  9734,  9734,  9734,  9734,  9734,  9734,\n",
      "         9734,  9734,  9734,  9734,  9734,  9734,  9734,  9734,  9734,  9734,\n",
      "         9734,  9734,  9734,  9734,  9734,  9734]), Real: tensor([11291,  9028, 10073,  9535, 10972,  9580,  7871,  9072,  9756,  8948,\n",
      "         9542,  9075,  9727, 10498,  8772,  8125,  8138,  9561, 10093,  8738,\n",
      "         7210,  8869,  9947, 10124,  7153, 10803,  5007,  6941,  9800,  8092,\n",
      "         8538,  9913, 10975,  5731,  4791, 11311,  9044,  8201,  6553, 10611,\n",
      "         9618, 10298,  9036, 10226,  7453,  9435,  8870,  9559,  7339,  8650,\n",
      "        10629,  8095,  9380,  7672,  9576,  7926,  8464,  9976,  8449, 10313,\n",
      "        10647,  4400, 10550,  6262,  5837,  5578,  7626,  5257,  5564,  9404,\n",
      "         5277,  6684, 10477,  9340, 10378,  6597,  9244,  7159,  7732, 10438,\n",
      "         9647,  9747,  9659, 10194,  7126,  7053,  7063,  6013, 10268,  8341,\n",
      "         8991, 10281,  4811,  8622,  7308,  7375])\n",
      "train loss 18.021 val loss 20.499 and val accuracy NA.3f\n",
      "Predicted: tensor([ 8983,  8983,  8983,  8983,  8983,  8983,  8983,  8983,  8983,  8450,\n",
      "         8983,  8983,  8983,  8983,  8983,  8855,  8983,  8450,  8983,  8983,\n",
      "         8983,  8983,  8983,  8983,  8983,  8983,  8983, 10084,  8983,  8983,\n",
      "         8983,  8983,  8983,  8983,  8983,  8983,  8855,  8983,  8983,  8855,\n",
      "         8983,  9483,  8983,  8983,  8855,  9483,  8983, 10084,  8983, 10165,\n",
      "         8983,  8983,  9483,  8983,  8983,  8983,  8983,  8983,  8983,  8983,\n",
      "         8983,  8983,  8983,  8983,  8983,  8983,  8983,  8983,  8983,  8983,\n",
      "         8983,  8983,  8983,  8983,  8983,  9840,  8983,  8983,  8983,  8983,\n",
      "         8983,  8450,  8983,  8983,  8983,  8983, 10165,  8983,  8983,  8983,\n",
      "         8983,  8983,  8983,  8983,  8983, 10165]), Real: tensor([11291,  9028, 10073,  9535, 10972,  9580,  7871,  9072,  9756,  8948,\n",
      "         9542,  9075,  9727, 10498,  8772,  8125,  8138,  9561, 10093,  8738,\n",
      "         7210,  8869,  9947, 10124,  7153, 10803,  5007,  6941,  9800,  8092,\n",
      "         8538,  9913, 10975,  5731,  4791, 11311,  9044,  8201,  6553, 10611,\n",
      "         9618, 10298,  9036, 10226,  7453,  9435,  8870,  9559,  7339,  8650,\n",
      "        10629,  8095,  9380,  7672,  9576,  7926,  8464,  9976,  8449, 10313,\n",
      "        10647,  4400, 10550,  6262,  5837,  5578,  7626,  5257,  5564,  9404,\n",
      "         5277,  6684, 10477,  9340, 10378,  6597,  9244,  7159,  7732, 10438,\n",
      "         9647,  9747,  9659, 10194,  7126,  7053,  7063,  6013, 10268,  8341,\n",
      "         8991, 10281,  4811,  8622,  7308,  7375])\n",
      "train loss 17.048 val loss 18.321 and val accuracy NA.3f\n",
      "Predicted: tensor([ 9002,  9002, 10132,  9032,  9964,  9964,  9032,  9032,  9032,  7032,\n",
      "         9964,  9964, 10132,  9964,  9032,  9704,  9964,  7032,  9964,  9964,\n",
      "        10135,  9964,  9032,  9964,  9964,  9964,  9964,  9002,  9964,  9032,\n",
      "         9964,  9438,  9964,  9964,  9964,  8731,  9964, 10279,  9002,  9032,\n",
      "         9704,  7032,  9032,  9964,  9964,  7032,  9964,  9002,  9964,  9002,\n",
      "        10132,  9964,  7032, 10132,  9032,  9704,  9964, 10279,  8731, 10135,\n",
      "         9032,  9964, 10279,  8724, 10132,  9964,  8731,  9002,  9964,  9964,\n",
      "         9964,  9032,  7032,  9032, 10206,  7032,  9032,  8731,  9032,  9964,\n",
      "        10279,  7032,  9002,  9032, 10279,  9695,  9876,  8731,  9032,  9704,\n",
      "         7032,  9032,  9964,  9964,  9964,  8731]), Real: tensor([11291,  9028, 10073,  9535, 10972,  9580,  7871,  9072,  9756,  8948,\n",
      "         9542,  9075,  9727, 10498,  8772,  8125,  8138,  9561, 10093,  8738,\n",
      "         7210,  8869,  9947, 10124,  7153, 10803,  5007,  6941,  9800,  8092,\n",
      "         8538,  9913, 10975,  5731,  4791, 11311,  9044,  8201,  6553, 10611,\n",
      "         9618, 10298,  9036, 10226,  7453,  9435,  8870,  9559,  7339,  8650,\n",
      "        10629,  8095,  9380,  7672,  9576,  7926,  8464,  9976,  8449, 10313,\n",
      "        10647,  4400, 10550,  6262,  5837,  5578,  7626,  5257,  5564,  9404,\n",
      "         5277,  6684, 10477,  9340, 10378,  6597,  9244,  7159,  7732, 10438,\n",
      "         9647,  9747,  9659, 10194,  7126,  7053,  7063,  6013, 10268,  8341,\n",
      "         8991, 10281,  4811,  8622,  7308,  7375])\n",
      "train loss 17.147 val loss 19.070 and val accuracy NA.3f\n"
     ]
    }
   ],
   "source": [
    "train_epocs(model)"
   ]
  },
  {
   "cell_type": "markdown",
   "metadata": {},
   "source": [
    "## With Metric"
   ]
  },
  {
   "cell_type": "code",
   "execution_count": 35,
   "metadata": {},
   "outputs": [],
   "source": [
    "def custom_metric(start_real, end_real, start_pred, end_pred):\n",
    "    # len(intersection) / len(union)\n",
    "    vals = []\n",
    "    for s1, e1, s2, e2 in zip(start_real, end_real, start_pred, end_pred):\n",
    "        real_range = set(range(s1, e1+1, 1))\n",
    "        pred_range = set(range(s2, e2+1, 1))\n",
    "        intersection = real_range.intersection(pred_range)\n",
    "        union = real_range.union(pred_range)\n",
    "        vals.append(len(intersection)/len(union))\n",
    "        \n",
    "    return np.mean(vals)"
   ]
  },
  {
   "cell_type": "code",
   "execution_count": 36,
   "metadata": {},
   "outputs": [],
   "source": [
    "def train_epocs(model, epochs=5, lr=0.001):\n",
    "    parameters = filter(lambda p: p.requires_grad, model.parameters())\n",
    "    optimizer = torch.optim.Adam(parameters, lr=lr)\n",
    "    for i in range(epochs):\n",
    "        model.train()\n",
    "        sum_loss = 0.0\n",
    "        total = 0\n",
    "        for q, s, start_, end_ in train_dl:\n",
    "            #start_vec = vectorize(start_)\n",
    "            #end_vec = vectorize(end_)\n",
    "            q = q.long()\n",
    "            s = s.long()\n",
    "            start_ = start_.long()\n",
    "            end_ = end_.long()\n",
    "\n",
    "            start, end = model(q, s)\n",
    "            loss_start = F.cross_entropy(start, start_)\n",
    "\n",
    "            loss_end = F.cross_entropy(end, end_)\n",
    "            loss = loss_start + loss_end\n",
    "            \n",
    "        \n",
    "            loss.backward()\n",
    "            optimizer.step()\n",
    "            sum_loss += loss.item()*end_.shape[0]\n",
    "            total += end_.shape[0]\n",
    "        val_loss, val_score = val_metrics(model, test_dl)\n",
    "        #if i % 5 == 1:\n",
    "        print(\"train loss %.3f val loss %.3f and val score %.3f\" % (sum_loss/total, val_loss, val_score))\n",
    "            \n",
    "def val_metrics(model, valid_dl):\n",
    "    model.eval()\n",
    "    correct = 0\n",
    "    total = 0\n",
    "    sum_loss = 0.0\n",
    "    scores = []\n",
    "    for q, s, start_, end_ in valid_dl:\n",
    "        q = q.long()\n",
    "        s = s.long()\n",
    "        start_ = start_.long()\n",
    "        end_ = end_.long()\n",
    "\n",
    "        start, end = model(q, s)\n",
    "        #print(start, end)\n",
    "        #print(start.shape, end.shape)\n",
    "        \n",
    "        loss_start = F.cross_entropy(start, start_)\n",
    "        #print(loss_start)\n",
    "        \n",
    "        loss_end = F.cross_entropy(end, end_)\n",
    "        #print(loss_end)\n",
    "        \n",
    "        loss = loss_start + loss_end\n",
    "        #print(loss)\n",
    "        #\n",
    "        start_i = start.argmax(1)\n",
    "        end_i = end.argmax(1)\n",
    "        #for st, en in zip(start_i, end_i):\n",
    "        \n",
    "        score = custom_metric(start_, end_, start_i, end_i)\n",
    "        scores.append(score)\n",
    "        \n",
    "        \n",
    "        total += end_.shape[0]\n",
    "        sum_loss += loss.item()*end_.shape[0]\n",
    "    \n",
    "    print(f'Predicted: {start_i}, Real: {start_}')\n",
    "    #print(f'Real: {start_}, {end_}')\n",
    "    return sum_loss/total, np.mean(scores)"
   ]
  },
  {
   "cell_type": "code",
   "execution_count": 37,
   "metadata": {},
   "outputs": [],
   "source": [
    "vocab_size = len(char2int)\n",
    "hidden_size = 100\n",
    "n_classes = 2\n",
    "emb_size = 10\n",
    "model2 = GRUModel(vocab_size, emb_size, hidden_size, q_max, story_max)"
   ]
  },
  {
   "cell_type": "code",
   "execution_count": 38,
   "metadata": {},
   "outputs": [
    {
     "name": "stdout",
     "output_type": "stream",
     "text": [
      "Predicted: tensor([ 9808, 10123,  8956,  7606,  9855,  9236,  9808,  9808,  9808, 10123,\n",
      "         8956,  8956,  9236,  9236,  9808,  9236,  9808,  9808,  9855,  9236,\n",
      "         7606,  7367,  9808,  9236,  9236, 10123, 10123,  9808,  8956,  9808,\n",
      "         8932,  9855,  9236,  9808,  9236, 10421,  9236,  9808, 10123,  7606,\n",
      "        10123,  7367,  9808,  9236, 10135,  9808,  9628,  9808,  7367,  9236,\n",
      "         9808,  9808, 11229,  9236,  9808,  7606,  7606,  7606,  9808,  9236,\n",
      "         7367,  9628,  9236,  9808,  7606,  9808,  9628, 10123,  7367, 10123,\n",
      "         8956,  9808,  7606,  9808,  8956,  9808,  9236,  9808,  9808, 10658,\n",
      "         9808, 10123, 10123,  9808,  9808,  9236,  9236,  9808, 10123,  8861,\n",
      "        10123,  8932,  9236,  9808, 10123,  9236]), Real: tensor([11291,  9028, 10073,  9535, 10972,  9580,  7871,  9072,  9756,  8948,\n",
      "         9542,  9075,  9727, 10498,  8772,  8125,  8138,  9561, 10093,  8738,\n",
      "         7210,  8869,  9947, 10124,  7153, 10803,  5007,  6941,  9800,  8092,\n",
      "         8538,  9913, 10975,  5731,  4791, 11311,  9044,  8201,  6553, 10611,\n",
      "         9618, 10298,  9036, 10226,  7453,  9435,  8870,  9559,  7339,  8650,\n",
      "        10629,  8095,  9380,  7672,  9576,  7926,  8464,  9976,  8449, 10313,\n",
      "        10647,  4400, 10550,  6262,  5837,  5578,  7626,  5257,  5564,  9404,\n",
      "         5277,  6684, 10477,  9340, 10378,  6597,  9244,  7159,  7732, 10438,\n",
      "         9647,  9747,  9659, 10194,  7126,  7053,  7063,  6013, 10268,  8341,\n",
      "         8991, 10281,  4811,  8622,  7308,  7375])\n",
      "train loss 18.709 val loss 18.576 and val score 0.005\n"
     ]
    },
    {
     "ename": "KeyboardInterrupt",
     "evalue": "",
     "output_type": "error",
     "traceback": [
      "\u001b[0;31m---------------------------------------------------------------------------\u001b[0m",
      "\u001b[0;31mKeyboardInterrupt\u001b[0m                         Traceback (most recent call last)",
      "\u001b[0;32m<ipython-input-38-37c185738ece>\u001b[0m in \u001b[0;36m<module>\u001b[0;34m()\u001b[0m\n\u001b[0;32m----> 1\u001b[0;31m \u001b[0mtrain_epocs\u001b[0m\u001b[0;34m(\u001b[0m\u001b[0mmodel2\u001b[0m\u001b[0;34m)\u001b[0m\u001b[0;34m\u001b[0m\u001b[0m\n\u001b[0m",
      "\u001b[0;32m<ipython-input-36-97bde640408a>\u001b[0m in \u001b[0;36mtrain_epocs\u001b[0;34m(model, epochs, lr)\u001b[0m\n\u001b[1;32m     14\u001b[0m             \u001b[0mend_\u001b[0m \u001b[0;34m=\u001b[0m \u001b[0mend_\u001b[0m\u001b[0;34m.\u001b[0m\u001b[0mlong\u001b[0m\u001b[0;34m(\u001b[0m\u001b[0;34m)\u001b[0m\u001b[0;34m\u001b[0m\u001b[0m\n\u001b[1;32m     15\u001b[0m \u001b[0;34m\u001b[0m\u001b[0m\n\u001b[0;32m---> 16\u001b[0;31m             \u001b[0mstart\u001b[0m\u001b[0;34m,\u001b[0m \u001b[0mend\u001b[0m \u001b[0;34m=\u001b[0m \u001b[0mmodel\u001b[0m\u001b[0;34m(\u001b[0m\u001b[0mq\u001b[0m\u001b[0;34m,\u001b[0m \u001b[0ms\u001b[0m\u001b[0;34m)\u001b[0m\u001b[0;34m\u001b[0m\u001b[0m\n\u001b[0m\u001b[1;32m     17\u001b[0m             \u001b[0mloss_start\u001b[0m \u001b[0;34m=\u001b[0m \u001b[0mF\u001b[0m\u001b[0;34m.\u001b[0m\u001b[0mcross_entropy\u001b[0m\u001b[0;34m(\u001b[0m\u001b[0mstart\u001b[0m\u001b[0;34m,\u001b[0m \u001b[0mstart_\u001b[0m\u001b[0;34m)\u001b[0m\u001b[0;34m\u001b[0m\u001b[0m\n\u001b[1;32m     18\u001b[0m \u001b[0;34m\u001b[0m\u001b[0m\n",
      "\u001b[0;32m~/anaconda3/envs/pytorch_p36/lib/python3.6/site-packages/torch/nn/modules/module.py\u001b[0m in \u001b[0;36m__call__\u001b[0;34m(self, *input, **kwargs)\u001b[0m\n\u001b[1;32m    491\u001b[0m             \u001b[0mresult\u001b[0m \u001b[0;34m=\u001b[0m \u001b[0mself\u001b[0m\u001b[0;34m.\u001b[0m\u001b[0m_slow_forward\u001b[0m\u001b[0;34m(\u001b[0m\u001b[0;34m*\u001b[0m\u001b[0minput\u001b[0m\u001b[0;34m,\u001b[0m \u001b[0;34m**\u001b[0m\u001b[0mkwargs\u001b[0m\u001b[0;34m)\u001b[0m\u001b[0;34m\u001b[0m\u001b[0m\n\u001b[1;32m    492\u001b[0m         \u001b[0;32melse\u001b[0m\u001b[0;34m:\u001b[0m\u001b[0;34m\u001b[0m\u001b[0m\n\u001b[0;32m--> 493\u001b[0;31m             \u001b[0mresult\u001b[0m \u001b[0;34m=\u001b[0m \u001b[0mself\u001b[0m\u001b[0;34m.\u001b[0m\u001b[0mforward\u001b[0m\u001b[0;34m(\u001b[0m\u001b[0;34m*\u001b[0m\u001b[0minput\u001b[0m\u001b[0;34m,\u001b[0m \u001b[0;34m**\u001b[0m\u001b[0mkwargs\u001b[0m\u001b[0;34m)\u001b[0m\u001b[0;34m\u001b[0m\u001b[0m\n\u001b[0m\u001b[1;32m    494\u001b[0m         \u001b[0;32mfor\u001b[0m \u001b[0mhook\u001b[0m \u001b[0;32min\u001b[0m \u001b[0mself\u001b[0m\u001b[0;34m.\u001b[0m\u001b[0m_forward_hooks\u001b[0m\u001b[0;34m.\u001b[0m\u001b[0mvalues\u001b[0m\u001b[0;34m(\u001b[0m\u001b[0;34m)\u001b[0m\u001b[0;34m:\u001b[0m\u001b[0;34m\u001b[0m\u001b[0m\n\u001b[1;32m    495\u001b[0m             \u001b[0mhook_result\u001b[0m \u001b[0;34m=\u001b[0m \u001b[0mhook\u001b[0m\u001b[0;34m(\u001b[0m\u001b[0mself\u001b[0m\u001b[0;34m,\u001b[0m \u001b[0minput\u001b[0m\u001b[0;34m,\u001b[0m \u001b[0mresult\u001b[0m\u001b[0;34m)\u001b[0m\u001b[0;34m\u001b[0m\u001b[0m\n",
      "\u001b[0;32m<ipython-input-27-547bb62f5560>\u001b[0m in \u001b[0;36mforward\u001b[0;34m(self, x1, x2)\u001b[0m\n\u001b[1;32m     18\u001b[0m         \u001b[0mx2\u001b[0m \u001b[0;34m=\u001b[0m \u001b[0mself\u001b[0m\u001b[0;34m.\u001b[0m\u001b[0membeddings\u001b[0m\u001b[0;34m(\u001b[0m\u001b[0mx2\u001b[0m\u001b[0;34m)\u001b[0m\u001b[0;34m\u001b[0m\u001b[0m\n\u001b[1;32m     19\u001b[0m         \u001b[0mx2\u001b[0m \u001b[0;34m=\u001b[0m \u001b[0mself\u001b[0m\u001b[0;34m.\u001b[0m\u001b[0mdropout\u001b[0m\u001b[0;34m(\u001b[0m\u001b[0mx2\u001b[0m\u001b[0;34m)\u001b[0m\u001b[0;34m\u001b[0m\u001b[0m\n\u001b[0;32m---> 20\u001b[0;31m         \u001b[0mout_pack2\u001b[0m\u001b[0;34m,\u001b[0m \u001b[0mht2\u001b[0m\u001b[0;34m=\u001b[0m \u001b[0mself\u001b[0m\u001b[0;34m.\u001b[0m\u001b[0mgru\u001b[0m\u001b[0;34m(\u001b[0m\u001b[0mx2\u001b[0m\u001b[0;34m)\u001b[0m\u001b[0;34m\u001b[0m\u001b[0m\n\u001b[0m\u001b[1;32m     21\u001b[0m \u001b[0;34m\u001b[0m\u001b[0m\n\u001b[1;32m     22\u001b[0m \u001b[0;34m\u001b[0m\u001b[0m\n",
      "\u001b[0;32m~/anaconda3/envs/pytorch_p36/lib/python3.6/site-packages/torch/nn/modules/module.py\u001b[0m in \u001b[0;36m__call__\u001b[0;34m(self, *input, **kwargs)\u001b[0m\n\u001b[1;32m    491\u001b[0m             \u001b[0mresult\u001b[0m \u001b[0;34m=\u001b[0m \u001b[0mself\u001b[0m\u001b[0;34m.\u001b[0m\u001b[0m_slow_forward\u001b[0m\u001b[0;34m(\u001b[0m\u001b[0;34m*\u001b[0m\u001b[0minput\u001b[0m\u001b[0;34m,\u001b[0m \u001b[0;34m**\u001b[0m\u001b[0mkwargs\u001b[0m\u001b[0;34m)\u001b[0m\u001b[0;34m\u001b[0m\u001b[0m\n\u001b[1;32m    492\u001b[0m         \u001b[0;32melse\u001b[0m\u001b[0;34m:\u001b[0m\u001b[0;34m\u001b[0m\u001b[0m\n\u001b[0;32m--> 493\u001b[0;31m             \u001b[0mresult\u001b[0m \u001b[0;34m=\u001b[0m \u001b[0mself\u001b[0m\u001b[0;34m.\u001b[0m\u001b[0mforward\u001b[0m\u001b[0;34m(\u001b[0m\u001b[0;34m*\u001b[0m\u001b[0minput\u001b[0m\u001b[0;34m,\u001b[0m \u001b[0;34m**\u001b[0m\u001b[0mkwargs\u001b[0m\u001b[0;34m)\u001b[0m\u001b[0;34m\u001b[0m\u001b[0m\n\u001b[0m\u001b[1;32m    494\u001b[0m         \u001b[0;32mfor\u001b[0m \u001b[0mhook\u001b[0m \u001b[0;32min\u001b[0m \u001b[0mself\u001b[0m\u001b[0;34m.\u001b[0m\u001b[0m_forward_hooks\u001b[0m\u001b[0;34m.\u001b[0m\u001b[0mvalues\u001b[0m\u001b[0;34m(\u001b[0m\u001b[0;34m)\u001b[0m\u001b[0;34m:\u001b[0m\u001b[0;34m\u001b[0m\u001b[0m\n\u001b[1;32m    495\u001b[0m             \u001b[0mhook_result\u001b[0m \u001b[0;34m=\u001b[0m \u001b[0mhook\u001b[0m\u001b[0;34m(\u001b[0m\u001b[0mself\u001b[0m\u001b[0;34m,\u001b[0m \u001b[0minput\u001b[0m\u001b[0;34m,\u001b[0m \u001b[0mresult\u001b[0m\u001b[0;34m)\u001b[0m\u001b[0;34m\u001b[0m\u001b[0m\n",
      "\u001b[0;32m~/anaconda3/envs/pytorch_p36/lib/python3.6/site-packages/torch/nn/modules/rnn.py\u001b[0m in \u001b[0;36mforward\u001b[0;34m(self, input, hx)\u001b[0m\n\u001b[1;32m    209\u001b[0m         \u001b[0;32mif\u001b[0m \u001b[0mbatch_sizes\u001b[0m \u001b[0;32mis\u001b[0m \u001b[0;32mNone\u001b[0m\u001b[0;34m:\u001b[0m\u001b[0;34m\u001b[0m\u001b[0m\n\u001b[1;32m    210\u001b[0m             result = _impl(input, hx, self._get_flat_weights(), self.bias, self.num_layers,\n\u001b[0;32m--> 211\u001b[0;31m                            self.dropout, self.training, self.bidirectional, self.batch_first)\n\u001b[0m\u001b[1;32m    212\u001b[0m         \u001b[0;32melse\u001b[0m\u001b[0;34m:\u001b[0m\u001b[0;34m\u001b[0m\u001b[0m\n\u001b[1;32m    213\u001b[0m             result = _impl(input, batch_sizes, hx, self._get_flat_weights(), self.bias,\n",
      "\u001b[0;31mKeyboardInterrupt\u001b[0m: "
     ]
    }
   ],
   "source": [
    "train_epocs(model2)"
   ]
  },
  {
   "cell_type": "code",
   "execution_count": null,
   "metadata": {},
   "outputs": [],
   "source": []
  }
 ],
 "metadata": {
  "kernelspec": {
   "display_name": "Python 3",
   "language": "python",
   "name": "python3"
  },
  "language_info": {
   "codemirror_mode": {
    "name": "ipython",
    "version": 3
   },
   "file_extension": ".py",
   "mimetype": "text/x-python",
   "name": "python",
   "nbconvert_exporter": "python",
   "pygments_lexer": "ipython3",
   "version": "3.6.5"
  }
 },
 "nbformat": 4,
 "nbformat_minor": 2
}
